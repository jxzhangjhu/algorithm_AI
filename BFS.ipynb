{
 "cells": [
  {
   "cell_type": "code",
   "execution_count": 4,
   "id": "d5382343",
   "metadata": {},
   "outputs": [],
   "source": [
    "from collections import deque\n",
    "\n",
    "node = 5\n",
    "queue = deque([node])\n",
    "distance = {node: 0}"
   ]
  },
  {
   "cell_type": "code",
   "execution_count": 3,
   "id": "8149c3b9",
   "metadata": {},
   "outputs": [
    {
     "data": {
      "text/plain": [
       "deque([5])"
      ]
     },
     "execution_count": 3,
     "metadata": {},
     "output_type": "execute_result"
    }
   ],
   "source": [
    "queue"
   ]
  },
  {
   "cell_type": "code",
   "execution_count": 5,
   "id": "3564c815",
   "metadata": {},
   "outputs": [
    {
     "data": {
      "text/plain": [
       "{5: 0}"
      ]
     },
     "execution_count": 5,
     "metadata": {},
     "output_type": "execute_result"
    }
   ],
   "source": [
    "distance"
   ]
  },
  {
   "cell_type": "code",
   "execution_count": 1,
   "id": "dca02374",
   "metadata": {},
   "outputs": [],
   "source": [
    "s = [1,2,3,4]\n",
    "\n",
    "s.append([5])"
   ]
  },
  {
   "cell_type": "code",
   "execution_count": 2,
   "id": "6ec27261",
   "metadata": {},
   "outputs": [
    {
     "data": {
      "text/plain": [
       "[1, 2, 3, 4, [5]]"
      ]
     },
     "execution_count": 2,
     "metadata": {},
     "output_type": "execute_result"
    }
   ],
   "source": [
    "s"
   ]
  },
  {
   "cell_type": "code",
   "execution_count": 3,
   "id": "2eb9f27f",
   "metadata": {},
   "outputs": [],
   "source": [
    "s.extend([5])"
   ]
  },
  {
   "cell_type": "code",
   "execution_count": 4,
   "id": "3d8203f3",
   "metadata": {},
   "outputs": [
    {
     "data": {
      "text/plain": [
       "[1, 2, 3, 4, [5], 5]"
      ]
     },
     "execution_count": 4,
     "metadata": {},
     "output_type": "execute_result"
    }
   ],
   "source": [
    "s"
   ]
  },
  {
   "cell_type": "code",
   "execution_count": 5,
   "id": "66756430",
   "metadata": {},
   "outputs": [],
   "source": [
    "for i in range(0):\n",
    "    print(i)"
   ]
  },
  {
   "cell_type": "code",
   "execution_count": 1,
   "id": "f20cf3de",
   "metadata": {},
   "outputs": [],
   "source": [
    "board = [[\"X\",\"X\",\"X\",\"X\"],[\"X\",\"O\",\"O\",\"X\"],[\"X\",\"X\",\"O\",\"X\"],[\"X\",\"O\",\"X\",\"X\"]]"
   ]
  },
  {
   "cell_type": "code",
   "execution_count": 2,
   "id": "68f5ed8a",
   "metadata": {},
   "outputs": [
    {
     "data": {
      "text/plain": [
       "[['X', 'X', 'X', 'X'],\n",
       " ['X', 'O', 'O', 'X'],\n",
       " ['X', 'X', 'O', 'X'],\n",
       " ['X', 'O', 'X', 'X']]"
      ]
     },
     "execution_count": 2,
     "metadata": {},
     "output_type": "execute_result"
    }
   ],
   "source": [
    "board"
   ]
  },
  {
   "cell_type": "code",
   "execution_count": 5,
   "id": "1525eb5f",
   "metadata": {},
   "outputs": [
    {
     "data": {
      "text/plain": [
       "'X'"
      ]
     },
     "execution_count": 5,
     "metadata": {},
     "output_type": "execute_result"
    }
   ],
   "source": [
    "board[0][0]"
   ]
  },
  {
   "cell_type": "code",
   "execution_count": 4,
   "id": "ab5d2a67",
   "metadata": {},
   "outputs": [
    {
     "data": {
      "text/plain": [
       "4"
      ]
     },
     "execution_count": 4,
     "metadata": {},
     "output_type": "execute_result"
    }
   ],
   "source": [
    "len(board)"
   ]
  },
  {
   "cell_type": "markdown",
   "id": "9d1d3962",
   "metadata": {},
   "source": [
    "# deque的所有操作"
   ]
  },
  {
   "cell_type": "code",
   "execution_count": 1,
   "id": "f7053e91",
   "metadata": {},
   "outputs": [
    {
     "name": "stdout",
     "output_type": "stream",
     "text": [
      "deque(['name', 'age', 'DOB'])\n"
     ]
    }
   ],
   "source": [
    "# Python code to demonstrate deque\n",
    "\t\n",
    "\n",
    "from collections import deque\n",
    "\t\n",
    "# Declaring deque\n",
    "queue = deque(['name','age','DOB'])\n",
    "\t\n",
    "print(queue)\n"
   ]
  },
  {
   "cell_type": "code",
   "execution_count": 2,
   "id": "695a3068",
   "metadata": {},
   "outputs": [
    {
     "name": "stdout",
     "output_type": "stream",
     "text": [
      "The deque after appending at right is : \n",
      "deque([1, 2, 3, 4])\n",
      "The deque after appending at left is : \n",
      "deque([6, 1, 2, 3, 4])\n",
      "The deque after deleting from right is : \n",
      "deque([6, 1, 2, 3])\n",
      "The deque after deleting from left is : \n",
      "deque([1, 2, 3])\n"
     ]
    }
   ],
   "source": [
    "# Python code to demonstrate working of\n",
    "# append(), appendleft(), pop(), and popleft()\n",
    "\n",
    "# importing \"collections\" for deque operations\n",
    "import collections\n",
    "\n",
    "# initializing deque\n",
    "de = collections.deque([1,2,3])\n",
    "\n",
    "# using append() to insert element at right end\n",
    "# inserts 4 at the end of deque\n",
    "de.append(4)\n",
    "\n",
    "# printing modified deque\n",
    "print (\"The deque after appending at right is : \")\n",
    "print (de)\n",
    "\n",
    "# using appendleft() to insert element at left end\n",
    "# inserts 6 at the beginning of deque\n",
    "de.appendleft(6)\n",
    "\n",
    "# printing modified deque\n",
    "print (\"The deque after appending at left is : \")\n",
    "print (de)\n",
    "\n",
    "# using pop() to delete element from right end\n",
    "# deletes 4 from the right end of deque\n",
    "de.pop()\n",
    "\n",
    "# printing modified deque\n",
    "print (\"The deque after deleting from right is : \")\n",
    "print (de)\n",
    "\n",
    "# using popleft() to delete element from left end\n",
    "# deletes 6 from the left end of deque\n",
    "de.popleft()\n",
    "\n",
    "# printing modified deque\n",
    "print (\"The deque after deleting from left is : \")\n",
    "print (de)\n"
   ]
  },
  {
   "cell_type": "code",
   "execution_count": 3,
   "id": "8824d4c5",
   "metadata": {},
   "outputs": [
    {
     "name": "stdout",
     "output_type": "stream",
     "text": [
      "The number 4 first occurs at a position : \n",
      "4\n",
      "The deque after inserting 3 at 5th position is : \n",
      "deque([1, 2, 3, 3, 3, 4, 2, 4])\n",
      "The count of 3 in deque is : \n",
      "3\n",
      "The deque after deleting first occurrence of 3 is : \n",
      "deque([1, 2, 3, 3, 4, 2, 4])\n"
     ]
    }
   ],
   "source": [
    "# Python code to demonstrate working of\n",
    "# insert(), index(), remove(), count()\n",
    "\n",
    "# importing \"collections\" for deque operations\n",
    "import collections\n",
    "\n",
    "# initializing deque\n",
    "de = collections.deque([1, 2, 3, 3, 4, 2, 4])\n",
    "\n",
    "# using index() to print the first occurrence of 4\n",
    "print (\"The number 4 first occurs at a position : \")\n",
    "print (de.index(4,2,5))\n",
    "\n",
    "# using insert() to insert the value 3 at 5th position\n",
    "de.insert(4,3)\n",
    "\n",
    "# printing modified deque\n",
    "print (\"The deque after inserting 3 at 5th position is : \")\n",
    "print (de)\n",
    "\n",
    "# using count() to count the occurrences of 3\n",
    "print (\"The count of 3 in deque is : \")\n",
    "print (de.count(3))\n",
    "\n",
    "# using remove() to remove the first occurrence of 3\n",
    "de.remove(3)\n",
    "\n",
    "# printing modified deque\n",
    "print (\"The deque after deleting first occurrence of 3 is : \")\n",
    "print (de)\n"
   ]
  },
  {
   "cell_type": "code",
   "execution_count": 4,
   "id": "0d846161",
   "metadata": {},
   "outputs": [
    {
     "name": "stdout",
     "output_type": "stream",
     "text": [
      "The deque after extending deque at end is : \n",
      "deque([1, 2, 3, 4, 5, 6])\n",
      "The deque after extending deque at beginning is : \n",
      "deque([9, 8, 7, 1, 2, 3, 4, 5, 6])\n",
      "The deque after rotating deque is : \n",
      "deque([1, 2, 3, 4, 5, 6, 9, 8, 7])\n",
      "The deque after reversing deque is : \n",
      "deque([7, 8, 9, 6, 5, 4, 3, 2, 1])\n"
     ]
    }
   ],
   "source": [
    "# Python code to demonstrate working of\n",
    "# extend(), extendleft(), rotate(), reverse()\n",
    "\n",
    "# importing \"collections\" for deque operations\n",
    "import collections\n",
    "\n",
    "# initializing deque\n",
    "de = collections.deque([1, 2, 3,])\n",
    "\n",
    "# using extend() to add numbers to right end\n",
    "# adds 4,5,6 to right end\n",
    "de.extend([4,5,6])\n",
    "\n",
    "# printing modified deque\n",
    "print (\"The deque after extending deque at end is : \")\n",
    "print (de)\n",
    "\n",
    "# using extendleft() to add numbers to left end\n",
    "# adds 7,8,9 to right end\n",
    "de.extendleft([7,8,9])\n",
    "\n",
    "# printing modified deque\n",
    "print (\"The deque after extending deque at beginning is : \")\n",
    "print (de)\n",
    "\n",
    "# using rotate() to rotate the deque\n",
    "# rotates by 3 to left\n",
    "de.rotate(-3)\n",
    "\n",
    "# printing modified deque\n",
    "print (\"The deque after rotating deque is : \")\n",
    "print (de)\n",
    "\n",
    "# using reverse() to reverse the deque\n",
    "de.reverse()\n",
    "\n",
    "# printing modified deque\n",
    "print (\"The deque after reversing deque is : \")\n",
    "print (de)\n"
   ]
  },
  {
   "cell_type": "code",
   "execution_count": 7,
   "id": "03e28ad2",
   "metadata": {},
   "outputs": [
    {
     "data": {
      "text/plain": [
       "deque([7, 8, 9, 6, 5, 4, 3, 2, 1, [0, 0, 0], [0, 0, 0]])"
      ]
     },
     "execution_count": 7,
     "metadata": {},
     "output_type": "execute_result"
    }
   ],
   "source": [
    "de.append([0,0,0])\n",
    "de"
   ]
  },
  {
   "cell_type": "code",
   "execution_count": 8,
   "id": "1395c7b5",
   "metadata": {},
   "outputs": [],
   "source": [
    "de.extend([0,0,0])"
   ]
  },
  {
   "cell_type": "code",
   "execution_count": 9,
   "id": "2d6f6a64",
   "metadata": {},
   "outputs": [
    {
     "data": {
      "text/plain": [
       "deque([7, 8, 9, 6, 5, 4, 3, 2, 1, [0, 0, 0], [0, 0, 0], 0, 0, 0])"
      ]
     },
     "execution_count": 9,
     "metadata": {},
     "output_type": "execute_result"
    }
   ],
   "source": [
    "de"
   ]
  },
  {
   "cell_type": "code",
   "execution_count": null,
   "id": "02bed039",
   "metadata": {},
   "outputs": [],
   "source": []
  }
 ],
 "metadata": {
  "kernelspec": {
   "display_name": "Python 3 (ipykernel)",
   "language": "python",
   "name": "python3"
  },
  "language_info": {
   "codemirror_mode": {
    "name": "ipython",
    "version": 3
   },
   "file_extension": ".py",
   "mimetype": "text/x-python",
   "name": "python",
   "nbconvert_exporter": "python",
   "pygments_lexer": "ipython3",
   "version": "3.9.7"
  }
 },
 "nbformat": 4,
 "nbformat_minor": 5
}
