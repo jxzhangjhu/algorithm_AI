{
 "cells": [
  {
   "cell_type": "code",
   "execution_count": 4,
   "id": "0cddc63c",
   "metadata": {},
   "outputs": [
    {
     "name": "stdout",
     "output_type": "stream",
     "text": [
      "1\n",
      "1\n",
      "1\n",
      "1\n"
     ]
    },
    {
     "data": {
      "text/plain": [
       "1"
      ]
     },
     "execution_count": 4,
     "metadata": {},
     "output_type": "execute_result"
    }
   ],
   "source": [
    "def fact(n):\n",
    "    if n==1:\n",
    "        return 1\n",
    "    \n",
    "    fn = fact(n-1)\n",
    "    output = fn\n",
    "    print(fn)\n",
    "    \n",
    "    return output\n",
    "\n",
    "fact(5)"
   ]
  },
  {
   "cell_type": "code",
   "execution_count": 1,
   "id": "e1025536",
   "metadata": {},
   "outputs": [
    {
     "name": "stdout",
     "output_type": "stream",
     "text": [
      "120\n"
     ]
    }
   ],
   "source": [
    "def jiecheng(n):\n",
    "    if n <= 1:\n",
    "        return 1\n",
    "    return n*jiecheng(n-1)\n",
    "\n",
    "res = jiecheng(5)\n",
    "print(res)"
   ]
  },
  {
   "cell_type": "code",
   "execution_count": 13,
   "id": "f2666738",
   "metadata": {},
   "outputs": [
    {
     "name": "stdout",
     "output_type": "stream",
     "text": [
      "2\n"
     ]
    },
    {
     "ename": "TypeError",
     "evalue": "unsupported operand type(s) for *: 'int' and 'NoneType'",
     "output_type": "error",
     "traceback": [
      "\u001b[0;31m---------------------------------------------------------------------------\u001b[0m",
      "\u001b[0;31mTypeError\u001b[0m                                 Traceback (most recent call last)",
      "\u001b[0;32m/var/folders/qp/zbmlljzd6m33mg4gt0zdfwjryvxfkf/T/ipykernel_42156/84142938.py\u001b[0m in \u001b[0;36m<module>\u001b[0;34m\u001b[0m\n\u001b[1;32m      7\u001b[0m \u001b[0;31m#     return res\u001b[0m\u001b[0;34m\u001b[0m\u001b[0;34m\u001b[0m\u001b[0m\n\u001b[1;32m      8\u001b[0m \u001b[0;34m\u001b[0m\u001b[0m\n\u001b[0;32m----> 9\u001b[0;31m \u001b[0mjiecheng\u001b[0m\u001b[0;34m(\u001b[0m\u001b[0;36m5\u001b[0m\u001b[0;34m)\u001b[0m\u001b[0;34m\u001b[0m\u001b[0;34m\u001b[0m\u001b[0m\n\u001b[0m\u001b[1;32m     10\u001b[0m \u001b[0;31m# print('final',res)\u001b[0m\u001b[0;34m\u001b[0m\u001b[0;34m\u001b[0m\u001b[0m\n",
      "\u001b[0;32m/var/folders/qp/zbmlljzd6m33mg4gt0zdfwjryvxfkf/T/ipykernel_42156/84142938.py\u001b[0m in \u001b[0;36mjiecheng\u001b[0;34m(n)\u001b[0m\n\u001b[1;32m      2\u001b[0m     \u001b[0;32mif\u001b[0m \u001b[0mn\u001b[0m \u001b[0;34m<=\u001b[0m \u001b[0;36m1\u001b[0m\u001b[0;34m:\u001b[0m\u001b[0;34m\u001b[0m\u001b[0;34m\u001b[0m\u001b[0m\n\u001b[1;32m      3\u001b[0m         \u001b[0;32mreturn\u001b[0m \u001b[0;36m1\u001b[0m\u001b[0;34m\u001b[0m\u001b[0;34m\u001b[0m\u001b[0m\n\u001b[0;32m----> 4\u001b[0;31m     \u001b[0mprint\u001b[0m\u001b[0;34m(\u001b[0m\u001b[0mn\u001b[0m\u001b[0;34m*\u001b[0m\u001b[0mjiecheng\u001b[0m\u001b[0;34m(\u001b[0m\u001b[0mn\u001b[0m\u001b[0;34m-\u001b[0m\u001b[0;36m1\u001b[0m\u001b[0;34m)\u001b[0m\u001b[0;34m)\u001b[0m\u001b[0;34m\u001b[0m\u001b[0;34m\u001b[0m\u001b[0m\n\u001b[0m\u001b[1;32m      5\u001b[0m \u001b[0;34m\u001b[0m\u001b[0m\n\u001b[1;32m      6\u001b[0m \u001b[0;31m#     print(n,res)\u001b[0m\u001b[0;34m\u001b[0m\u001b[0;34m\u001b[0m\u001b[0m\n",
      "\u001b[0;32m/var/folders/qp/zbmlljzd6m33mg4gt0zdfwjryvxfkf/T/ipykernel_42156/84142938.py\u001b[0m in \u001b[0;36mjiecheng\u001b[0;34m(n)\u001b[0m\n\u001b[1;32m      2\u001b[0m     \u001b[0;32mif\u001b[0m \u001b[0mn\u001b[0m \u001b[0;34m<=\u001b[0m \u001b[0;36m1\u001b[0m\u001b[0;34m:\u001b[0m\u001b[0;34m\u001b[0m\u001b[0;34m\u001b[0m\u001b[0m\n\u001b[1;32m      3\u001b[0m         \u001b[0;32mreturn\u001b[0m \u001b[0;36m1\u001b[0m\u001b[0;34m\u001b[0m\u001b[0;34m\u001b[0m\u001b[0m\n\u001b[0;32m----> 4\u001b[0;31m     \u001b[0mprint\u001b[0m\u001b[0;34m(\u001b[0m\u001b[0mn\u001b[0m\u001b[0;34m*\u001b[0m\u001b[0mjiecheng\u001b[0m\u001b[0;34m(\u001b[0m\u001b[0mn\u001b[0m\u001b[0;34m-\u001b[0m\u001b[0;36m1\u001b[0m\u001b[0;34m)\u001b[0m\u001b[0;34m)\u001b[0m\u001b[0;34m\u001b[0m\u001b[0;34m\u001b[0m\u001b[0m\n\u001b[0m\u001b[1;32m      5\u001b[0m \u001b[0;34m\u001b[0m\u001b[0m\n\u001b[1;32m      6\u001b[0m \u001b[0;31m#     print(n,res)\u001b[0m\u001b[0;34m\u001b[0m\u001b[0;34m\u001b[0m\u001b[0m\n",
      "\u001b[0;32m/var/folders/qp/zbmlljzd6m33mg4gt0zdfwjryvxfkf/T/ipykernel_42156/84142938.py\u001b[0m in \u001b[0;36mjiecheng\u001b[0;34m(n)\u001b[0m\n\u001b[1;32m      2\u001b[0m     \u001b[0;32mif\u001b[0m \u001b[0mn\u001b[0m \u001b[0;34m<=\u001b[0m \u001b[0;36m1\u001b[0m\u001b[0;34m:\u001b[0m\u001b[0;34m\u001b[0m\u001b[0;34m\u001b[0m\u001b[0m\n\u001b[1;32m      3\u001b[0m         \u001b[0;32mreturn\u001b[0m \u001b[0;36m1\u001b[0m\u001b[0;34m\u001b[0m\u001b[0;34m\u001b[0m\u001b[0m\n\u001b[0;32m----> 4\u001b[0;31m     \u001b[0mprint\u001b[0m\u001b[0;34m(\u001b[0m\u001b[0mn\u001b[0m\u001b[0;34m*\u001b[0m\u001b[0mjiecheng\u001b[0m\u001b[0;34m(\u001b[0m\u001b[0mn\u001b[0m\u001b[0;34m-\u001b[0m\u001b[0;36m1\u001b[0m\u001b[0;34m)\u001b[0m\u001b[0;34m)\u001b[0m\u001b[0;34m\u001b[0m\u001b[0;34m\u001b[0m\u001b[0m\n\u001b[0m\u001b[1;32m      5\u001b[0m \u001b[0;34m\u001b[0m\u001b[0m\n\u001b[1;32m      6\u001b[0m \u001b[0;31m#     print(n,res)\u001b[0m\u001b[0;34m\u001b[0m\u001b[0;34m\u001b[0m\u001b[0m\n",
      "\u001b[0;31mTypeError\u001b[0m: unsupported operand type(s) for *: 'int' and 'NoneType'"
     ]
    }
   ],
   "source": [
    "def jiecheng(n):\n",
    "    if n <= 1:\n",
    "        return 1\n",
    "    print(n*jiecheng(n-1))\n",
    "    \n",
    "#     print(n,res)\n",
    "#     return res\n",
    "\n",
    "jiecheng(5)\n",
    "# print('final',res)"
   ]
  },
  {
   "cell_type": "code",
   "execution_count": 18,
   "id": "bf148769",
   "metadata": {},
   "outputs": [
    {
     "name": "stdout",
     "output_type": "stream",
     "text": [
      "4\n",
      "3\n",
      "2\n",
      "3\n",
      "4\n",
      "None\n"
     ]
    }
   ],
   "source": [
    "def get_num(n):\n",
    "    if n > 2:\n",
    "        print(n)\n",
    "        get_num(n-1)\n",
    "    print(n) # 没有返回值，只能打印，调用函数的return为None\n",
    "\n",
    "print(get_num(4))"
   ]
  },
  {
   "cell_type": "code",
   "execution_count": 19,
   "id": "2ba65036",
   "metadata": {},
   "outputs": [
    {
     "name": "stdout",
     "output_type": "stream",
     "text": [
      "2\n"
     ]
    }
   ],
   "source": [
    "def get_num(n):\n",
    "    if n > 2:\n",
    "        get_num(n-1)\n",
    "    else:\n",
    "        print(n)\n",
    "\n",
    "get_num(4)"
   ]
  },
  {
   "cell_type": "code",
   "execution_count": 22,
   "id": "67bff875",
   "metadata": {},
   "outputs": [
    {
     "name": "stdout",
     "output_type": "stream",
     "text": [
      "before 4\n",
      "before 3\n",
      "before 2\n",
      "2\n"
     ]
    }
   ],
   "source": [
    "def get_num(n):\n",
    "    print('before',n)\n",
    "    if n > 2:\n",
    "        get_num(n-1)\n",
    "    else:\n",
    "        print(n)\n",
    "\n",
    "get_num(4)\n",
    "\n",
    "# 当n=3时开辟一层空间，此时get_num(2)再开辟一个空间，当它从上往下执行过程中，\n",
    "# 在他本层空间，遇到if n > 2不成立，所以走分支else, 打印，此时代码还没有结束，回到上一层空间，num = 3, num > 2 已经进入了if 不会走else 所以这两层没有输出"
   ]
  },
  {
   "cell_type": "code",
   "execution_count": 25,
   "id": "003ac47e",
   "metadata": {},
   "outputs": [
    {
     "name": "stdout",
     "output_type": "stream",
     "text": [
      "[[3]]\n",
      "None\n"
     ]
    }
   ],
   "source": [
    "# return 返回值详解\n",
    "# case 1\n",
    "def fullpermutation(list):\n",
    "    if list is None:\n",
    "        return None\n",
    "    if len(list) == 1:\n",
    "        return [list]\n",
    "    remain = fullpermutation(list[1:])\n",
    "    print(remain)\n",
    "    \n",
    "fullpermutation([1,2,3])    \n",
    "\n",
    "# 最后一层触发return到line6， 碰到return，所以return给了一个返回值，所以remain = [[3]]， 然后打印line9； \n",
    "# 执行完print，实际上回到上一层空间也就是 fullpermutation([2,3]), 但这个有返回值吗？ 因为len(list) != 1, 所以没有返回值\n",
    "# 最后一层空间是碰到了return 给他返回的值，只会给最后一层使用！！！！接下来2层都是空"
   ]
  },
  {
   "cell_type": "code",
   "execution_count": 29,
   "id": "f596b7fc",
   "metadata": {},
   "outputs": [
    {
     "name": "stdout",
     "output_type": "stream",
     "text": [
      "yes [[3]]\n",
      "yes [[3]]\n",
      "output [[3]]\n"
     ]
    }
   ],
   "source": [
    "# case 2 \n",
    "def fullpermutation(list):\n",
    "    if list is None:\n",
    "        return None\n",
    "    if len(list) == 1:\n",
    "        return [list]\n",
    "    \n",
    "    res = fullpermutation(list[1:])\n",
    "    print('yes',res)\n",
    "    return res\n",
    "    \n",
    "print('output',fullpermutation([1,2,3]))\n",
    "\n",
    "# 这次是从最底层传上来的返回值，一直传到最外层，其实每次一层都获得了返回值，而且都是[[3]]"
   ]
  },
  {
   "cell_type": "code",
   "execution_count": 33,
   "id": "fea40857",
   "metadata": {},
   "outputs": [
    {
     "name": "stdout",
     "output_type": "stream",
     "text": [
      "res [[3]]\n",
      "list [2, 3]\n",
      "res None\n",
      "list [1, 2, 3]\n",
      "output None\n"
     ]
    }
   ],
   "source": [
    "# case 3 \n",
    "def fullpermutation(list):\n",
    "    if list is None:\n",
    "        return None\n",
    "    if len(list) == 1:\n",
    "        return [list]\n",
    "    \n",
    "    res = fullpermutation(list[1:])\n",
    "    print('res',res) # 再往上一层，没有return 就是none！list可以一直打印，但是返回值就没有了\n",
    "    print('list',list)\n",
    "    \n",
    "print('output',fullpermutation([1,2,3]))"
   ]
  },
  {
   "cell_type": "code",
   "execution_count": 35,
   "id": "1584ea78",
   "metadata": {},
   "outputs": [
    {
     "name": "stdout",
     "output_type": "stream",
     "text": [
      "res [[3]]\n",
      "res [2, 3]\n",
      "output [1, 2, 3]\n"
     ]
    }
   ],
   "source": [
    "# case 4\n",
    "def fullpermutation(list):\n",
    "    if list is None:\n",
    "        return None\n",
    "    if len(list) == 1:\n",
    "        return [list]\n",
    "    \n",
    "    res = fullpermutation(list[1:])\n",
    "    print('res',res) # 再往上一层，没有return 就是none！list可以一直打印，但是返回值就没有了\n",
    "#     print('list',list)\n",
    "    return list\n",
    "    \n",
    "print('output',fullpermutation([1,2,3]))\n",
    "\n",
    "# 这个就是2次的返回值都不同，当len(list)==1的时候，return [list]，但是之后，返回值是 list = res "
   ]
  },
  {
   "cell_type": "code",
   "execution_count": 36,
   "id": "26f3e571",
   "metadata": {},
   "outputs": [
    {
     "name": "stdout",
     "output_type": "stream",
     "text": [
      "res [[3]]\n",
      "res [2, 3]\n",
      "output [1, 2, 3]\n"
     ]
    }
   ],
   "source": [
    "# case 5\n",
    "def fullpermutation(list):\n",
    "    if list is None:\n",
    "        return None\n",
    "    if len(list) == 1:\n",
    "        return [list]\n",
    "    \n",
    "    res = fullpermutation(list[1:])\n",
    "    print('res',res) # 再往上一层，没有return 就是none！list可以一直打印，但是返回值就没有了\n",
    "#     print('list',list)\n",
    "    return list\n",
    "    \n",
    "print('output',fullpermutation([1,2,3]))\n",
    "\n",
    "# 这个就是2次的返回值都不同，当len(list)==1的时候，return [list]，但是之后，返回值是 list = res "
   ]
  },
  {
   "cell_type": "code",
   "execution_count": 37,
   "id": "fe1fcaf7",
   "metadata": {},
   "outputs": [
    {
     "name": "stdout",
     "output_type": "stream",
     "text": [
      "res [[3]]\n",
      "list [2, 3]\n",
      "res [2, 3]\n",
      "list [1, 2, 3]\n",
      "output [1, 2, 3]\n"
     ]
    }
   ],
   "source": [
    "# case 6\n",
    "def fullpermutation(list):\n",
    "    if list is None:\n",
    "        return None\n",
    "    if len(list) == 1:\n",
    "        return [list]\n",
    "    \n",
    "    res = fullpermutation(list[1:])\n",
    "    print('res',res) # 再往上一层，没有return 就是none！list可以一直打印，但是返回值就没有了\n",
    "    print('list',list)\n",
    "    return list\n",
    "    \n",
    "print('output',fullpermutation([1,2,3]))\n",
    "\n",
    "# 这个就是2次的返回值都不同，当len(list)==1的时候，return [list]，但是之后，返回值是 list = res "
   ]
  },
  {
   "cell_type": "code",
   "execution_count": null,
   "id": "aedd5af8",
   "metadata": {},
   "outputs": [],
   "source": [
    "# #总结一下：\n",
    "# 1. 最后一层遇到的return 需要执行回的过程，此时的返回值值会返回给最后的调用处的接受者，\n",
    "# 2. 然后执行阻塞处下面的代码时，如果又遇到return这里的返回值，如果没有到达最外层，都是给本层的接收者"
   ]
  },
  {
   "cell_type": "code",
   "execution_count": 16,
   "id": "8873d2c3",
   "metadata": {},
   "outputs": [
    {
     "name": "stdout",
     "output_type": "stream",
     "text": [
      "[[1, 2]]\n",
      "[[1, 3], [1, 3]]\n"
     ]
    }
   ],
   "source": [
    "s = []\n",
    "a = [1,2]\n",
    "s.append(a)\n",
    "print(s)\n",
    "a.pop()\n",
    "a.append(3)\n",
    "s.append(a)\n",
    "print(s)"
   ]
  },
  {
   "cell_type": "code",
   "execution_count": 15,
   "id": "8cf4377d",
   "metadata": {},
   "outputs": [
    {
     "data": {
      "text/plain": [
       "[[1, 3], [1, 3]]"
      ]
     },
     "execution_count": 15,
     "metadata": {},
     "output_type": "execute_result"
    }
   ],
   "source": [
    "s"
   ]
  },
  {
   "cell_type": "code",
   "execution_count": null,
   "id": "d9d13194",
   "metadata": {},
   "outputs": [],
   "source": []
  }
 ],
 "metadata": {
  "kernelspec": {
   "display_name": "Python 3 (ipykernel)",
   "language": "python",
   "name": "python3"
  },
  "language_info": {
   "codemirror_mode": {
    "name": "ipython",
    "version": 3
   },
   "file_extension": ".py",
   "mimetype": "text/x-python",
   "name": "python",
   "nbconvert_exporter": "python",
   "pygments_lexer": "ipython3",
   "version": "3.9.7"
  }
 },
 "nbformat": 4,
 "nbformat_minor": 5
}
