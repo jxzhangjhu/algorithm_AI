{
 "cells": [
  {
   "cell_type": "code",
   "execution_count": 1,
   "id": "7e1154aa",
   "metadata": {},
   "outputs": [],
   "source": [
    "# 11133555 => True\n",
    "\n",
    "# 111333555 => False\n",
    "\n",
    "# 00000111 => Tru"
   ]
  },
  {
   "cell_type": "code",
   "execution_count": 5,
   "id": "38dc367e",
   "metadata": {},
   "outputs": [
    {
     "data": {
      "text/plain": [
       "Counter({'11133555': 1})"
      ]
     },
     "execution_count": 5,
     "metadata": {},
     "output_type": "execute_result"
    }
   ],
   "source": [
    "s = '11133555'\n",
    "news = []\n",
    "for num in s:\n",
    "    news.append(num)\n",
    "    \n",
    "    \n",
    "# from collections import Counter\n",
    "# Counter(s)\n",
    "\n",
    "# def majiang(s):\n",
    "    \n",
    "#     from collections import Counter\n",
    "    \n",
    "#     hashmap = Counter(s)\n",
    "    \n",
    "#     for key \n",
    "    \n",
    "#     return"
   ]
  },
  {
   "cell_type": "code",
   "execution_count": 6,
   "id": "ebcfb0e8",
   "metadata": {},
   "outputs": [
    {
     "data": {
      "text/plain": [
       "['11133555']"
      ]
     },
     "execution_count": 6,
     "metadata": {},
     "output_type": "execute_result"
    }
   ],
   "source": [
    "news"
   ]
  },
  {
   "cell_type": "code",
   "execution_count": null,
   "id": "7fefe56c",
   "metadata": {},
   "outputs": [],
   "source": []
  }
 ],
 "metadata": {
  "kernelspec": {
   "display_name": "Python 3 (ipykernel)",
   "language": "python",
   "name": "python3"
  },
  "language_info": {
   "codemirror_mode": {
    "name": "ipython",
    "version": 3
   },
   "file_extension": ".py",
   "mimetype": "text/x-python",
   "name": "python",
   "nbconvert_exporter": "python",
   "pygments_lexer": "ipython3",
   "version": "3.9.7"
  }
 },
 "nbformat": 4,
 "nbformat_minor": 5
}
