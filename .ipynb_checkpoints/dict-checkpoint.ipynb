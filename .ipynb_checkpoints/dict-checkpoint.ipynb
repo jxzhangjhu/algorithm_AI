{
 "cells": [
  {
   "cell_type": "code",
   "execution_count": 1,
   "id": "0fac85b9",
   "metadata": {},
   "outputs": [],
   "source": [
    "dict2 = dict(zip(['a','b'], [2,3]))"
   ]
  },
  {
   "cell_type": "code",
   "execution_count": 2,
   "id": "a399b886",
   "metadata": {},
   "outputs": [
    {
     "data": {
      "text/plain": [
       "{'a': 2, 'b': 3}"
      ]
     },
     "execution_count": 2,
     "metadata": {},
     "output_type": "execute_result"
    }
   ],
   "source": [
    "dict2"
   ]
  },
  {
   "cell_type": "code",
   "execution_count": 3,
   "id": "f39290e2",
   "metadata": {},
   "outputs": [
    {
     "data": {
      "text/plain": [
       "2"
      ]
     },
     "execution_count": 3,
     "metadata": {},
     "output_type": "execute_result"
    }
   ],
   "source": [
    "dict2['a']"
   ]
  },
  {
   "cell_type": "code",
   "execution_count": 4,
   "id": "d72ac463",
   "metadata": {},
   "outputs": [
    {
     "data": {
      "text/plain": [
       "3"
      ]
     },
     "execution_count": 4,
     "metadata": {},
     "output_type": "execute_result"
    }
   ],
   "source": [
    "dict2['b']"
   ]
  },
  {
   "cell_type": "code",
   "execution_count": 6,
   "id": "7bf2676d",
   "metadata": {},
   "outputs": [],
   "source": [
    "dict1 = {}\n",
    "dict2 = {'spam':2, 'egg':3, 'food':{'ham':1, 'ice':2}}\n",
    "dict3 = dict(zip(['spam','egg'], [2,3]))"
   ]
  },
  {
   "cell_type": "code",
   "execution_count": 7,
   "id": "def1f643",
   "metadata": {},
   "outputs": [],
   "source": [
    "dict4 = {100:2,200:3}"
   ]
  },
  {
   "cell_type": "code",
   "execution_count": 9,
   "id": "e65da4dc",
   "metadata": {},
   "outputs": [
    {
     "data": {
      "text/plain": [
       "2"
      ]
     },
     "execution_count": 9,
     "metadata": {},
     "output_type": "execute_result"
    }
   ],
   "source": [
    "dict4[100]"
   ]
  },
  {
   "cell_type": "code",
   "execution_count": 10,
   "id": "c4157e78",
   "metadata": {},
   "outputs": [],
   "source": [
    "dict1[2]=4"
   ]
  },
  {
   "cell_type": "code",
   "execution_count": 11,
   "id": "4358dbd9",
   "metadata": {},
   "outputs": [
    {
     "data": {
      "text/plain": [
       "{2: 4}"
      ]
     },
     "execution_count": 11,
     "metadata": {},
     "output_type": "execute_result"
    }
   ],
   "source": [
    "dict1"
   ]
  },
  {
   "cell_type": "code",
   "execution_count": 12,
   "id": "73c63d97",
   "metadata": {},
   "outputs": [],
   "source": [
    "dict1.update(dict2)"
   ]
  },
  {
   "cell_type": "code",
   "execution_count": 13,
   "id": "397819af",
   "metadata": {},
   "outputs": [
    {
     "data": {
      "text/plain": [
       "{2: 4, 'spam': 2, 'egg': 3, 'food': {'ham': 1, 'ice': 2}}"
      ]
     },
     "execution_count": 13,
     "metadata": {},
     "output_type": "execute_result"
    }
   ],
   "source": [
    "dict1"
   ]
  },
  {
   "cell_type": "code",
   "execution_count": 14,
   "id": "f71c369d",
   "metadata": {},
   "outputs": [
    {
     "data": {
      "text/plain": [
       "{2: 4, 'spam': 2, 'egg': 3, 'food': {'ham': 1, 'ice': 2}}"
      ]
     },
     "execution_count": 14,
     "metadata": {},
     "output_type": "execute_result"
    }
   ],
   "source": [
    "dict1"
   ]
  },
  {
   "cell_type": "code",
   "execution_count": 15,
   "id": "a346e36c",
   "metadata": {},
   "outputs": [
    {
     "data": {
      "text/plain": [
       "2"
      ]
     },
     "execution_count": 15,
     "metadata": {},
     "output_type": "execute_result"
    }
   ],
   "source": [
    "dict1.get('spam',-100)"
   ]
  },
  {
   "cell_type": "code",
   "execution_count": 16,
   "id": "1caf3841",
   "metadata": {},
   "outputs": [
    {
     "data": {
      "text/plain": [
       "-100"
      ]
     },
     "execution_count": 16,
     "metadata": {},
     "output_type": "execute_result"
    }
   ],
   "source": [
    "dict1.get('spmm',-100)"
   ]
  },
  {
   "cell_type": "code",
   "execution_count": 18,
   "id": "8e62d94d",
   "metadata": {},
   "outputs": [
    {
     "data": {
      "text/plain": [
       "dict_keys([2, 'spam', 'egg', 'food'])"
      ]
     },
     "execution_count": 18,
     "metadata": {},
     "output_type": "execute_result"
    }
   ],
   "source": [
    "dict1.keys()"
   ]
  },
  {
   "cell_type": "code",
   "execution_count": 19,
   "id": "d9e4a175",
   "metadata": {},
   "outputs": [
    {
     "data": {
      "text/plain": [
       "[2, 'spam', 'egg', 'food']"
      ]
     },
     "execution_count": 19,
     "metadata": {},
     "output_type": "execute_result"
    }
   ],
   "source": [
    "list(dict1.keys())"
   ]
  },
  {
   "cell_type": "code",
   "execution_count": 20,
   "id": "355562dc",
   "metadata": {},
   "outputs": [
    {
     "data": {
      "text/plain": [
       "dict_values([4, 2, 3, {'ham': 1, 'ice': 2}])"
      ]
     },
     "execution_count": 20,
     "metadata": {},
     "output_type": "execute_result"
    }
   ],
   "source": [
    "dict1.values()"
   ]
  },
  {
   "cell_type": "code",
   "execution_count": 21,
   "id": "f6ce015f",
   "metadata": {},
   "outputs": [
    {
     "data": {
      "text/plain": [
       "[4, 2, 3, {'ham': 1, 'ice': 2}]"
      ]
     },
     "execution_count": 21,
     "metadata": {},
     "output_type": "execute_result"
    }
   ],
   "source": [
    "list(dict1.values())"
   ]
  },
  {
   "cell_type": "code",
   "execution_count": 22,
   "id": "0a7172c3",
   "metadata": {},
   "outputs": [
    {
     "name": "stdout",
     "output_type": "stream",
     "text": [
      "2 4\n",
      "spam 2\n",
      "egg 3\n",
      "food {'ham': 1, 'ice': 2}\n"
     ]
    }
   ],
   "source": [
    "# 遍历\n",
    "\n",
    "for key in dict1:\n",
    "    print(key, dict1[key])"
   ]
  },
  {
   "cell_type": "code",
   "execution_count": 24,
   "id": "c223da5d",
   "metadata": {},
   "outputs": [
    {
     "name": "stdout",
     "output_type": "stream",
     "text": [
      "2 4\n",
      "spam 2\n",
      "egg 3\n",
      "food {'ham': 1, 'ice': 2}\n"
     ]
    }
   ],
   "source": [
    "for (key, value) in dict1.items(): # 更常用\n",
    "    print(key, value)"
   ]
  },
  {
   "cell_type": "code",
   "execution_count": null,
   "id": "743eeaaf",
   "metadata": {},
   "outputs": [],
   "source": []
  }
 ],
 "metadata": {
  "kernelspec": {
   "display_name": "Python 3 (ipykernel)",
   "language": "python",
   "name": "python3"
  },
  "language_info": {
   "codemirror_mode": {
    "name": "ipython",
    "version": 3
   },
   "file_extension": ".py",
   "mimetype": "text/x-python",
   "name": "python",
   "nbconvert_exporter": "python",
   "pygments_lexer": "ipython3",
   "version": "3.9.7"
  }
 },
 "nbformat": 4,
 "nbformat_minor": 5
}
