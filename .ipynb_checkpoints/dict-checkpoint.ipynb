{
 "cells": [
  {
   "cell_type": "code",
   "execution_count": 47,
   "id": "dc3795cf",
   "metadata": {},
   "outputs": [],
   "source": [
    "dict2 = dict(zip(['a','b'], [2,3]))"
   ]
  },
  {
   "cell_type": "code",
   "execution_count": 48,
   "id": "badd8164",
   "metadata": {},
   "outputs": [
    {
     "data": {
      "text/plain": [
       "{'a': 2, 'b': 3}"
      ]
     },
     "execution_count": 48,
     "metadata": {},
     "output_type": "execute_result"
    }
   ],
   "source": [
    "dict2"
   ]
  },
  {
   "cell_type": "code",
   "execution_count": 49,
   "id": "6d893935",
   "metadata": {},
   "outputs": [
    {
     "data": {
      "text/plain": [
       "2"
      ]
     },
     "execution_count": 49,
     "metadata": {},
     "output_type": "execute_result"
    }
   ],
   "source": [
    "dict2['a']"
   ]
  },
  {
   "cell_type": "code",
   "execution_count": 50,
   "id": "9630c1f2",
   "metadata": {},
   "outputs": [
    {
     "data": {
      "text/plain": [
       "3"
      ]
     },
     "execution_count": 50,
     "metadata": {},
     "output_type": "execute_result"
    }
   ],
   "source": [
    "dict2['b']"
   ]
  },
  {
   "cell_type": "code",
   "execution_count": 51,
   "id": "0cc48d2b",
   "metadata": {},
   "outputs": [],
   "source": [
    "dict1 = {}\n",
    "dict2 = {'spam':2, 'egg':3, 'food':{'ham':1, 'ice':2}}\n",
    "dict3 = dict(zip(['spam','egg'], [2,3]))"
   ]
  },
  {
   "cell_type": "code",
   "execution_count": 52,
   "id": "5288eea5",
   "metadata": {},
   "outputs": [],
   "source": [
    "dict4 = {100:2,200:3}"
   ]
  },
  {
   "cell_type": "code",
   "execution_count": 53,
   "id": "bbabc329",
   "metadata": {},
   "outputs": [
    {
     "data": {
      "text/plain": [
       "2"
      ]
     },
     "execution_count": 53,
     "metadata": {},
     "output_type": "execute_result"
    }
   ],
   "source": [
    "dict4[100]"
   ]
  },
  {
   "cell_type": "code",
   "execution_count": 54,
   "id": "6e9f6eb3",
   "metadata": {},
   "outputs": [],
   "source": [
    "dict1[2]=4"
   ]
  },
  {
   "cell_type": "code",
   "execution_count": 55,
   "id": "786c4de4",
   "metadata": {},
   "outputs": [
    {
     "data": {
      "text/plain": [
       "{2: 4}"
      ]
     },
     "execution_count": 55,
     "metadata": {},
     "output_type": "execute_result"
    }
   ],
   "source": [
    "dict1"
   ]
  },
  {
   "cell_type": "code",
   "execution_count": 56,
   "id": "ed7d0683",
   "metadata": {},
   "outputs": [],
   "source": [
    "dict1.update(dict2)"
   ]
  },
  {
   "cell_type": "code",
   "execution_count": 57,
   "id": "9d656b79",
   "metadata": {},
   "outputs": [
    {
     "data": {
      "text/plain": [
       "{2: 4, 'spam': 2, 'egg': 3, 'food': {'ham': 1, 'ice': 2}}"
      ]
     },
     "execution_count": 57,
     "metadata": {},
     "output_type": "execute_result"
    }
   ],
   "source": [
    "dict1"
   ]
  },
  {
   "cell_type": "code",
   "execution_count": 58,
   "id": "c0c21dc1",
   "metadata": {},
   "outputs": [
    {
     "data": {
      "text/plain": [
       "{2: 4, 'spam': 2, 'egg': 3, 'food': {'ham': 1, 'ice': 2}}"
      ]
     },
     "execution_count": 58,
     "metadata": {},
     "output_type": "execute_result"
    }
   ],
   "source": [
    "dict1"
   ]
  },
  {
   "cell_type": "code",
   "execution_count": 59,
   "id": "39e19378",
   "metadata": {},
   "outputs": [
    {
     "data": {
      "text/plain": [
       "2"
      ]
     },
     "execution_count": 59,
     "metadata": {},
     "output_type": "execute_result"
    }
   ],
   "source": [
    "dict1.get('spam',-100)"
   ]
  },
  {
   "cell_type": "code",
   "execution_count": 60,
   "id": "a6dc37e3",
   "metadata": {},
   "outputs": [
    {
     "data": {
      "text/plain": [
       "-100"
      ]
     },
     "execution_count": 60,
     "metadata": {},
     "output_type": "execute_result"
    }
   ],
   "source": [
    "dict1.get('spmm',-100)"
   ]
  },
  {
   "cell_type": "code",
   "execution_count": 61,
   "id": "ff046dc5",
   "metadata": {},
   "outputs": [
    {
     "data": {
      "text/plain": [
       "dict_keys([2, 'spam', 'egg', 'food'])"
      ]
     },
     "execution_count": 61,
     "metadata": {},
     "output_type": "execute_result"
    }
   ],
   "source": [
    "dict1.keys()"
   ]
  },
  {
   "cell_type": "code",
   "execution_count": 62,
   "id": "eb1bb415",
   "metadata": {},
   "outputs": [
    {
     "data": {
      "text/plain": [
       "[2, 'spam', 'egg', 'food']"
      ]
     },
     "execution_count": 62,
     "metadata": {},
     "output_type": "execute_result"
    }
   ],
   "source": [
    "list(dict1.keys())"
   ]
  },
  {
   "cell_type": "code",
   "execution_count": 63,
   "id": "14b57e77",
   "metadata": {},
   "outputs": [
    {
     "data": {
      "text/plain": [
       "dict_values([4, 2, 3, {'ham': 1, 'ice': 2}])"
      ]
     },
     "execution_count": 63,
     "metadata": {},
     "output_type": "execute_result"
    }
   ],
   "source": [
    "dict1.values()"
   ]
  },
  {
   "cell_type": "code",
   "execution_count": 64,
   "id": "81c0cf14",
   "metadata": {},
   "outputs": [
    {
     "data": {
      "text/plain": [
       "[4, 2, 3, {'ham': 1, 'ice': 2}]"
      ]
     },
     "execution_count": 64,
     "metadata": {},
     "output_type": "execute_result"
    }
   ],
   "source": [
    "list(dict1.values())"
   ]
  },
  {
   "cell_type": "code",
   "execution_count": 65,
   "id": "8e2b58df",
   "metadata": {},
   "outputs": [
    {
     "name": "stdout",
     "output_type": "stream",
     "text": [
      "2 4\n",
      "spam 2\n",
      "egg 3\n",
      "food {'ham': 1, 'ice': 2}\n"
     ]
    }
   ],
   "source": [
    "# 遍历\n",
    "\n",
    "for key in dict1:\n",
    "    print(key, dict1[key])"
   ]
  },
  {
   "cell_type": "code",
   "execution_count": 66,
   "id": "8c3ea12f",
   "metadata": {},
   "outputs": [
    {
     "name": "stdout",
     "output_type": "stream",
     "text": [
      "2 4\n",
      "spam 2\n",
      "egg 3\n",
      "food {'ham': 1, 'ice': 2}\n"
     ]
    }
   ],
   "source": [
    "for (key, value) in dict1.items(): # 更常用\n",
    "    print(key, value)"
   ]
  },
  {
   "cell_type": "code",
   "execution_count": 67,
   "id": "c858b73f",
   "metadata": {},
   "outputs": [
    {
     "data": {
      "text/plain": [
       "{2: 4, 'spam': 2, 'egg': 3, 'food': {'ham': 1, 'ice': 2}}"
      ]
     },
     "execution_count": 67,
     "metadata": {},
     "output_type": "execute_result"
    }
   ],
   "source": [
    "# update\n",
    "\n",
    "dict1"
   ]
  },
  {
   "cell_type": "code",
   "execution_count": 68,
   "id": "3d212ea9",
   "metadata": {},
   "outputs": [],
   "source": [
    "dict1['egg'] = 100"
   ]
  },
  {
   "cell_type": "code",
   "execution_count": 69,
   "id": "d819928f",
   "metadata": {},
   "outputs": [
    {
     "data": {
      "text/plain": [
       "{2: 4, 'spam': 2, 'egg': 100, 'food': {'ham': 1, 'ice': 2}}"
      ]
     },
     "execution_count": 69,
     "metadata": {},
     "output_type": "execute_result"
    }
   ],
   "source": [
    "dict1"
   ]
  },
  {
   "cell_type": "code",
   "execution_count": 70,
   "id": "2fba7a04",
   "metadata": {},
   "outputs": [
    {
     "data": {
      "text/plain": [
       "100"
      ]
     },
     "execution_count": 70,
     "metadata": {},
     "output_type": "execute_result"
    }
   ],
   "source": [
    "# pop delete\n",
    "\n",
    "dict1.pop('egg')"
   ]
  },
  {
   "cell_type": "code",
   "execution_count": 71,
   "id": "bfd9e4ed",
   "metadata": {},
   "outputs": [
    {
     "data": {
      "text/plain": [
       "{2: 4, 'spam': 2, 'food': {'ham': 1, 'ice': 2}}"
      ]
     },
     "execution_count": 71,
     "metadata": {},
     "output_type": "execute_result"
    }
   ],
   "source": [
    "dict1"
   ]
  },
  {
   "cell_type": "code",
   "execution_count": 72,
   "id": "927408b2",
   "metadata": {},
   "outputs": [],
   "source": [
    "del dict1['spam']"
   ]
  },
  {
   "cell_type": "code",
   "execution_count": 73,
   "id": "916d2c40",
   "metadata": {},
   "outputs": [
    {
     "data": {
      "text/plain": [
       "{2: 4, 'food': {'ham': 1, 'ice': 2}}"
      ]
     },
     "execution_count": 73,
     "metadata": {},
     "output_type": "execute_result"
    }
   ],
   "source": [
    "dict1"
   ]
  },
  {
   "cell_type": "code",
   "execution_count": 74,
   "id": "52bdc25b",
   "metadata": {},
   "outputs": [
    {
     "data": {
      "text/plain": [
       "2"
      ]
     },
     "execution_count": 74,
     "metadata": {},
     "output_type": "execute_result"
    }
   ],
   "source": [
    "len(dict1)"
   ]
  },
  {
   "cell_type": "code",
   "execution_count": 75,
   "id": "8e44c3c5",
   "metadata": {},
   "outputs": [],
   "source": [
    "target = 'abcdeddbac'\n",
    "dict1 = {}\n",
    "target_counter = {}\n",
    "for i in range(len(target)):\n",
    "    target_counter[target[i]] = target_counter.get(target[i],0)+1"
   ]
  },
  {
   "cell_type": "code",
   "execution_count": 76,
   "id": "9cdc7978",
   "metadata": {},
   "outputs": [
    {
     "data": {
      "text/plain": [
       "{'a': 2, 'b': 2, 'c': 2, 'd': 3, 'e': 1}"
      ]
     },
     "execution_count": 76,
     "metadata": {},
     "output_type": "execute_result"
    }
   ],
   "source": [
    "target_counter"
   ]
  },
  {
   "cell_type": "code",
   "execution_count": 77,
   "id": "bae9f1f3",
   "metadata": {},
   "outputs": [
    {
     "data": {
      "text/plain": [
       "2"
      ]
     },
     "execution_count": 77,
     "metadata": {},
     "output_type": "execute_result"
    }
   ],
   "source": [
    "target_counter.get('a',-100)"
   ]
  },
  {
   "cell_type": "code",
   "execution_count": 78,
   "id": "a121d61c",
   "metadata": {},
   "outputs": [
    {
     "data": {
      "text/plain": [
       "Counter({'a': 2, 'b': 2, 'c': 2, 'd': 3, 'e': 1})"
      ]
     },
     "execution_count": 78,
     "metadata": {},
     "output_type": "execute_result"
    }
   ],
   "source": [
    "from collections import Counter\n",
    "target = 'abcdeddbac'\n",
    "s = Counter(target)\n",
    "Counter({'a': 2, 'b': 2, 'c': 2, 'd': 3, 'e': 1})"
   ]
  },
  {
   "cell_type": "code",
   "execution_count": 79,
   "id": "fc4b5618",
   "metadata": {},
   "outputs": [],
   "source": [
    "s = Counter(target)"
   ]
  },
  {
   "cell_type": "code",
   "execution_count": 80,
   "id": "daeec7a7",
   "metadata": {},
   "outputs": [
    {
     "data": {
      "text/plain": [
       "2"
      ]
     },
     "execution_count": 80,
     "metadata": {},
     "output_type": "execute_result"
    }
   ],
   "source": [
    "s['a']"
   ]
  },
  {
   "cell_type": "code",
   "execution_count": 81,
   "id": "15c04d8f",
   "metadata": {},
   "outputs": [],
   "source": [
    "nums = [1,2,3,4,5,6]\n",
    "# s = (list(accumulate(nums)))\n",
    "\n",
    "presum = 0 \n",
    "arr = [0]*len(nums)\n",
    "for i, num in enumerate(nums): \n",
    "    presum += num\n",
    "    arr[i] = presum"
   ]
  },
  {
   "cell_type": "code",
   "execution_count": 82,
   "id": "a69984af",
   "metadata": {},
   "outputs": [
    {
     "data": {
      "text/plain": [
       "[1, 3, 6, 10, 15, 21]"
      ]
     },
     "execution_count": 82,
     "metadata": {},
     "output_type": "execute_result"
    }
   ],
   "source": [
    "arr"
   ]
  },
  {
   "cell_type": "code",
   "execution_count": 83,
   "id": "62d9661c",
   "metadata": {},
   "outputs": [],
   "source": [
    "from collections import Counter\n",
    "nums2 = [9,4,9,8,4]\n",
    "s = Counter(nums2)"
   ]
  },
  {
   "cell_type": "code",
   "execution_count": 84,
   "id": "e645ee73",
   "metadata": {},
   "outputs": [
    {
     "data": {
      "text/plain": [
       "Counter({9: 2, 4: 2, 8: 1})"
      ]
     },
     "execution_count": 84,
     "metadata": {},
     "output_type": "execute_result"
    }
   ],
   "source": [
    "s"
   ]
  },
  {
   "cell_type": "code",
   "execution_count": 85,
   "id": "782cd16a",
   "metadata": {},
   "outputs": [
    {
     "name": "stdout",
     "output_type": "stream",
     "text": [
      "5\n",
      "4\n",
      "3\n",
      "2\n",
      "1\n"
     ]
    }
   ],
   "source": [
    "for i in range(5,0,-1):\n",
    "    print(i)\n"
   ]
  },
  {
   "cell_type": "code",
   "execution_count": 86,
   "id": "7a495d66",
   "metadata": {},
   "outputs": [],
   "source": [
    "s = [\"9001 discuss.leetcode.com\"]"
   ]
  },
  {
   "cell_type": "code",
   "execution_count": 87,
   "id": "14cc6769",
   "metadata": {},
   "outputs": [
    {
     "data": {
      "text/plain": [
       "['9001 discuss.leetcode.com']"
      ]
     },
     "execution_count": 87,
     "metadata": {},
     "output_type": "execute_result"
    }
   ],
   "source": [
    "s"
   ]
  },
  {
   "cell_type": "code",
   "execution_count": 88,
   "id": "2512b516",
   "metadata": {},
   "outputs": [],
   "source": [
    "ss = s[0].split(' ')"
   ]
  },
  {
   "cell_type": "code",
   "execution_count": 89,
   "id": "35a20716",
   "metadata": {},
   "outputs": [
    {
     "data": {
      "text/plain": [
       "9001"
      ]
     },
     "execution_count": 89,
     "metadata": {},
     "output_type": "execute_result"
    }
   ],
   "source": [
    "int(ss[0])"
   ]
  },
  {
   "cell_type": "code",
   "execution_count": 90,
   "id": "77a13572",
   "metadata": {},
   "outputs": [],
   "source": [
    "sss = ss[1].split('.')"
   ]
  },
  {
   "cell_type": "code",
   "execution_count": 91,
   "id": "1980391f",
   "metadata": {},
   "outputs": [
    {
     "data": {
      "text/plain": [
       "Counter({'discuss': 1, 'leetcode': 1, 'com': 1})"
      ]
     },
     "execution_count": 91,
     "metadata": {},
     "output_type": "execute_result"
    }
   ],
   "source": [
    "from collections import Counter \n",
    "Counter(sss)"
   ]
  },
  {
   "cell_type": "code",
   "execution_count": 92,
   "id": "baf3d4a1",
   "metadata": {},
   "outputs": [
    {
     "data": {
      "text/plain": [
       "['discuss', 'leetcode', 'com']"
      ]
     },
     "execution_count": 92,
     "metadata": {},
     "output_type": "execute_result"
    }
   ],
   "source": [
    "sss"
   ]
  },
  {
   "cell_type": "code",
   "execution_count": 93,
   "id": "34c63316",
   "metadata": {},
   "outputs": [
    {
     "data": {
      "text/plain": [
       "'discussleetcode'"
      ]
     },
     "execution_count": 93,
     "metadata": {},
     "output_type": "execute_result"
    }
   ],
   "source": [
    "sss[0] + sss[1]"
   ]
  },
  {
   "cell_type": "code",
   "execution_count": 109,
   "id": "758955d9",
   "metadata": {},
   "outputs": [
    {
     "name": "stdout",
     "output_type": "stream",
     "text": [
      "com\n",
      "com\n"
     ]
    }
   ],
   "source": [
    "# cpdomains = [\"9001 discuss.leetcode.com\"]\n",
    "cpdomains = [\"900 google.mail.com\", \"50 yahoo.com\", \"1 intel.mail.com\", \"5 wiki.org\"]\n",
    "from collections import defaultdict\n",
    "\n",
    "hashm = defaultdict()\n",
    "res_domain = []\n",
    "for domain in cpdomains:\n",
    "    s = domain.split(' ')\n",
    "    number = int(s[0])\n",
    "    d = s[1] # 'google.mail.com'\n",
    "    if d not in hashm:\n",
    "        res_domain.append(d)\n",
    "        hashm[d] = hashm.get(d, 0) + number\n",
    "        \n",
    "    d0 = d.split('.')\n",
    "    if len(d0) == 3:\n",
    "        d1 = d0[1] + '.' + d0[-1] #‘mail.com’\n",
    "        d2 = d0[-1] #'com'\n",
    "        print(d2)\n",
    "        if d1 not in hashm:\n",
    "            res_domain.append(d1)\n",
    "            hashm[d1] = hashm.get(d1, 0) + number\n",
    "        else:\n",
    "            hashm[d1] += number\n",
    "\n",
    "        if d2 not in hashm:\n",
    "            res_domain.append(d2)\n",
    "            hashm[d2] = hashm.get(d2, 0) + number\n",
    "        else:\n",
    "            hashm[d2] += number\n",
    "        \n",
    "    elif len(d0) == 2:\n",
    "        d2 = d0[-1]\n",
    "        if d2 not in hashm:\n",
    "            res_domain.append(d2)\n",
    "            hashm[d2] = hashm.get(d2, 0) + number\n",
    "        else:\n",
    "            hashm[d2] += number\n",
    "    \n",
    "\n",
    "    res = []\n",
    "    for domain in res_domain:\n",
    "        domain_output = str(hashm[domain]) + ' ' + domain\n",
    "        res.append(domain_output)"
   ]
  },
  {
   "cell_type": "code",
   "execution_count": 110,
   "id": "5856eeba",
   "metadata": {},
   "outputs": [
    {
     "data": {
      "text/plain": [
       "defaultdict(None,\n",
       "            {'google.mail.com': 900,\n",
       "             'mail.com': 901,\n",
       "             'com': 951,\n",
       "             'yahoo.com': 50,\n",
       "             'intel.mail.com': 1,\n",
       "             'wiki.org': 5,\n",
       "             'org': 5})"
      ]
     },
     "execution_count": 110,
     "metadata": {},
     "output_type": "execute_result"
    }
   ],
   "source": [
    "hashm"
   ]
  },
  {
   "cell_type": "code",
   "execution_count": 108,
   "id": "fbdcda28",
   "metadata": {},
   "outputs": [
    {
     "name": "stdout",
     "output_type": "stream",
     "text": [
      "['google', 'mail', 'com']\n",
      "['yahoo', 'com']\n",
      "['intel', 'mail', 'com']\n",
      "['wiki', 'org']\n",
      "Counter({'com': 951, 'mail.com': 901, 'google.mail.com': 900, 'yahoo.com': 50, 'wiki.org': 5, 'org': 5, 'intel.mail.com': 1})\n"
     ]
    }
   ],
   "source": [
    "cpdomains = [\"900 google.mail.com\", \"50 yahoo.com\", \"1 intel.mail.com\", \"5 wiki.org\"]\n",
    "import collections \n",
    "ans = collections.Counter()\n",
    "for domain in cpdomains:\n",
    "    count, domain = domain.split()\n",
    "    count = int(count)\n",
    "    frags = domain.split('.')\n",
    "    print(frags)\n",
    "    for i in range(len(frags)):\n",
    "        key = \".\".join(frags[i:]) \n",
    "#         print(key)\n",
    "        ans[key] += count\n",
    "#         print(ans[key])\n",
    "\n",
    "print(ans)\n",
    "res = [\"{} {}\".format(ct, dom) for dom, ct in ans.items()]"
   ]
  },
  {
   "cell_type": "code",
   "execution_count": 104,
   "id": "fe1d71e8",
   "metadata": {},
   "outputs": [
    {
     "data": {
      "text/plain": [
       "['900 google.mail.com',\n",
       " '901 mail.com',\n",
       " '951 com',\n",
       " '50 yahoo.com',\n",
       " '1 intel.mail.com',\n",
       " '5 wiki.org',\n",
       " '5 org']"
      ]
     },
     "execution_count": 104,
     "metadata": {},
     "output_type": "execute_result"
    }
   ],
   "source": [
    "res"
   ]
  },
  {
   "cell_type": "code",
   "execution_count": 104,
   "id": "6dd0b8bf",
   "metadata": {},
   "outputs": [
    {
     "data": {
      "text/plain": [
       "['900 google.mail.com',\n",
       " '901 mail.com',\n",
       " '951 com',\n",
       " '50 yahoo.com',\n",
       " '1 intel.mail.com',\n",
       " '5 wiki.org',\n",
       " '5 org']"
      ]
     },
     "execution_count": 104,
     "metadata": {},
     "output_type": "execute_result"
    }
   ],
   "source": [
    "res"
   ]
  },
  {
   "cell_type": "code",
   "execution_count": 99,
   "id": "f879cd28",
   "metadata": {},
   "outputs": [],
   "source": [
    "import collections \n",
    "ans = collections.Counter()"
   ]
  },
  {
   "cell_type": "code",
   "execution_count": 101,
   "id": "7359eee8",
   "metadata": {},
   "outputs": [
    {
     "data": {
      "text/plain": [
       "collections.Counter"
      ]
     },
     "execution_count": 101,
     "metadata": {},
     "output_type": "execute_result"
    }
   ],
   "source": [
    "type(ans)"
   ]
  },
  {
   "cell_type": "code",
   "execution_count": null,
   "id": "f7c8120a",
   "metadata": {},
   "outputs": [],
   "source": []
  }
 ],
 "metadata": {
  "kernelspec": {
   "display_name": "Python 3 (ipykernel)",
   "language": "python",
   "name": "python3"
  },
  "language_info": {
   "codemirror_mode": {
    "name": "ipython",
    "version": 3
   },
   "file_extension": ".py",
   "mimetype": "text/x-python",
   "name": "python",
   "nbconvert_exporter": "python",
   "pygments_lexer": "ipython3",
   "version": "3.9.7"
  }
 },
 "nbformat": 4,
 "nbformat_minor": 5
}
