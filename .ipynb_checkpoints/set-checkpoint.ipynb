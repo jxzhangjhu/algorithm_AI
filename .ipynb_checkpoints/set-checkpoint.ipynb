{
 "cells": [
  {
   "cell_type": "code",
   "execution_count": 1,
   "id": "7ede402e",
   "metadata": {},
   "outputs": [],
   "source": [
    "set3 = set('hello')"
   ]
  },
  {
   "cell_type": "code",
   "execution_count": 2,
   "id": "4bdf1f3e",
   "metadata": {},
   "outputs": [
    {
     "data": {
      "text/plain": [
       "{'e', 'h', 'l', 'o'}"
      ]
     },
     "execution_count": 2,
     "metadata": {},
     "output_type": "execute_result"
    }
   ],
   "source": [
    "set3"
   ]
  },
  {
   "cell_type": "code",
   "execution_count": 3,
   "id": "a76cddec",
   "metadata": {},
   "outputs": [],
   "source": [
    "set1 = set([12,15,18.2,'hello'])"
   ]
  },
  {
   "cell_type": "code",
   "execution_count": 4,
   "id": "0bb81430",
   "metadata": {},
   "outputs": [
    {
     "data": {
      "text/plain": [
       "{12, 15, 18.2, 'hello'}"
      ]
     },
     "execution_count": 4,
     "metadata": {},
     "output_type": "execute_result"
    }
   ],
   "source": [
    "set1"
   ]
  },
  {
   "cell_type": "code",
   "execution_count": 5,
   "id": "801d4840",
   "metadata": {},
   "outputs": [],
   "source": [
    "set1.add('jiuzhang')"
   ]
  },
  {
   "cell_type": "code",
   "execution_count": 6,
   "id": "884ab477",
   "metadata": {},
   "outputs": [
    {
     "data": {
      "text/plain": [
       "{12, 15, 18.2, 'hello', 'jiuzhang'}"
      ]
     },
     "execution_count": 6,
     "metadata": {},
     "output_type": "execute_result"
    }
   ],
   "source": [
    "set1"
   ]
  },
  {
   "cell_type": "code",
   "execution_count": 7,
   "id": "2db5b547",
   "metadata": {},
   "outputs": [],
   "source": [
    "set1.update([11, 'abc'])"
   ]
  },
  {
   "cell_type": "code",
   "execution_count": 8,
   "id": "037a8481",
   "metadata": {},
   "outputs": [
    {
     "data": {
      "text/plain": [
       "{11, 12, 15, 18.2, 'abc', 'hello', 'jiuzhang'}"
      ]
     },
     "execution_count": 8,
     "metadata": {},
     "output_type": "execute_result"
    }
   ],
   "source": [
    "set1"
   ]
  },
  {
   "cell_type": "code",
   "execution_count": 10,
   "id": "24659cfa",
   "metadata": {},
   "outputs": [
    {
     "name": "stdout",
     "output_type": "stream",
     "text": [
      "11 12 abc hello 15 18.2 jiuzhang "
     ]
    }
   ],
   "source": [
    "for elem in set1:\n",
    "    print(elem, end=' ')"
   ]
  },
  {
   "cell_type": "code",
   "execution_count": 11,
   "id": "7d38ac33",
   "metadata": {},
   "outputs": [
    {
     "data": {
      "text/plain": [
       "True"
      ]
     },
     "execution_count": 11,
     "metadata": {},
     "output_type": "execute_result"
    }
   ],
   "source": [
    "12 in set1"
   ]
  },
  {
   "cell_type": "code",
   "execution_count": 12,
   "id": "9d11318b",
   "metadata": {},
   "outputs": [],
   "source": [
    "set1.remove(12)"
   ]
  },
  {
   "cell_type": "code",
   "execution_count": 13,
   "id": "4aa51c84",
   "metadata": {},
   "outputs": [
    {
     "data": {
      "text/plain": [
       "{11, 15, 18.2, 'abc', 'hello', 'jiuzhang'}"
      ]
     },
     "execution_count": 13,
     "metadata": {},
     "output_type": "execute_result"
    }
   ],
   "source": [
    "set1"
   ]
  },
  {
   "cell_type": "code",
   "execution_count": 14,
   "id": "52ff75b4",
   "metadata": {},
   "outputs": [
    {
     "ename": "KeyError",
     "evalue": "100",
     "output_type": "error",
     "traceback": [
      "\u001b[0;31m---------------------------------------------------------------------------\u001b[0m",
      "\u001b[0;31mKeyError\u001b[0m                                  Traceback (most recent call last)",
      "\u001b[0;32m/var/folders/qp/zbmlljzd6m33mg4gt0zdfwjryvxfkf/T/ipykernel_68229/1200921940.py\u001b[0m in \u001b[0;36m<module>\u001b[0;34m\u001b[0m\n\u001b[0;32m----> 1\u001b[0;31m \u001b[0mset1\u001b[0m\u001b[0;34m.\u001b[0m\u001b[0mremove\u001b[0m\u001b[0;34m(\u001b[0m\u001b[0;36m100\u001b[0m\u001b[0;34m)\u001b[0m\u001b[0;34m\u001b[0m\u001b[0;34m\u001b[0m\u001b[0m\n\u001b[0m",
      "\u001b[0;31mKeyError\u001b[0m: 100"
     ]
    }
   ],
   "source": [
    "set1.remove(100)"
   ]
  },
  {
   "cell_type": "code",
   "execution_count": 15,
   "id": "242aab25",
   "metadata": {},
   "outputs": [],
   "source": [
    "set1.discard(100)"
   ]
  },
  {
   "cell_type": "code",
   "execution_count": 16,
   "id": "ee0b0695",
   "metadata": {},
   "outputs": [
    {
     "data": {
      "text/plain": [
       "{11, 15, 18.2, 'abc', 'hello', 'jiuzhang'}"
      ]
     },
     "execution_count": 16,
     "metadata": {},
     "output_type": "execute_result"
    }
   ],
   "source": [
    "set1"
   ]
  },
  {
   "cell_type": "code",
   "execution_count": 17,
   "id": "2cbe61c2",
   "metadata": {},
   "outputs": [],
   "source": [
    "set1.discard(15)"
   ]
  },
  {
   "cell_type": "code",
   "execution_count": 18,
   "id": "8e39920a",
   "metadata": {},
   "outputs": [
    {
     "data": {
      "text/plain": [
       "{11, 18.2, 'abc', 'hello', 'jiuzhang'}"
      ]
     },
     "execution_count": 18,
     "metadata": {},
     "output_type": "execute_result"
    }
   ],
   "source": [
    "set1"
   ]
  },
  {
   "cell_type": "code",
   "execution_count": 19,
   "id": "2faad0e8",
   "metadata": {},
   "outputs": [
    {
     "data": {
      "text/plain": [
       "11"
      ]
     },
     "execution_count": 19,
     "metadata": {},
     "output_type": "execute_result"
    }
   ],
   "source": [
    "set1.pop()"
   ]
  },
  {
   "cell_type": "code",
   "execution_count": 20,
   "id": "a39519d1",
   "metadata": {},
   "outputs": [
    {
     "data": {
      "text/plain": [
       "'abc'"
      ]
     },
     "execution_count": 20,
     "metadata": {},
     "output_type": "execute_result"
    }
   ],
   "source": [
    "set1.pop()"
   ]
  },
  {
   "cell_type": "code",
   "execution_count": 21,
   "id": "e2c2d8d8",
   "metadata": {},
   "outputs": [
    {
     "data": {
      "text/plain": [
       "3"
      ]
     },
     "execution_count": 21,
     "metadata": {},
     "output_type": "execute_result"
    }
   ],
   "source": [
    "len(set1)"
   ]
  },
  {
   "cell_type": "code",
   "execution_count": 3,
   "id": "b1e96522",
   "metadata": {},
   "outputs": [],
   "source": [
    "set1 = {1,3,5,8}"
   ]
  },
  {
   "cell_type": "code",
   "execution_count": 4,
   "id": "9caa4651",
   "metadata": {},
   "outputs": [
    {
     "data": {
      "text/plain": [
       "{1, 3, 5, 8}"
      ]
     },
     "execution_count": 4,
     "metadata": {},
     "output_type": "execute_result"
    }
   ],
   "source": [
    "set1"
   ]
  },
  {
   "cell_type": "code",
   "execution_count": 5,
   "id": "259023fd",
   "metadata": {},
   "outputs": [
    {
     "name": "stdout",
     "output_type": "stream",
     "text": [
      "8\n",
      "1\n",
      "3\n",
      "5\n"
     ]
    }
   ],
   "source": [
    "for val in set1:\n",
    "    print(val)"
   ]
  },
  {
   "cell_type": "code",
   "execution_count": 1,
   "id": "f2055c15",
   "metadata": {},
   "outputs": [],
   "source": [
    "ss = set('anagram')"
   ]
  },
  {
   "cell_type": "code",
   "execution_count": 2,
   "id": "63fe1430",
   "metadata": {},
   "outputs": [
    {
     "data": {
      "text/plain": [
       "{'a', 'g', 'm', 'n', 'r'}"
      ]
     },
     "execution_count": 2,
     "metadata": {},
     "output_type": "execute_result"
    }
   ],
   "source": [
    "ss"
   ]
  },
  {
   "cell_type": "code",
   "execution_count": 3,
   "id": "38b4586e",
   "metadata": {},
   "outputs": [],
   "source": [
    "bb = 'abc'"
   ]
  },
  {
   "cell_type": "code",
   "execution_count": 4,
   "id": "3af2bc34",
   "metadata": {},
   "outputs": [
    {
     "data": {
      "text/plain": [
       "97"
      ]
     },
     "execution_count": 4,
     "metadata": {},
     "output_type": "execute_result"
    }
   ],
   "source": [
    "ord('a')"
   ]
  },
  {
   "cell_type": "code",
   "execution_count": 5,
   "id": "c0422d2b",
   "metadata": {},
   "outputs": [
    {
     "data": {
      "text/plain": [
       "3"
      ]
     },
     "execution_count": 5,
     "metadata": {},
     "output_type": "execute_result"
    }
   ],
   "source": [
    "len(bb)"
   ]
  },
  {
   "cell_type": "code",
   "execution_count": 6,
   "id": "9f4a2680",
   "metadata": {},
   "outputs": [],
   "source": [
    "set1 = set([1,2,2,1])"
   ]
  },
  {
   "cell_type": "code",
   "execution_count": 7,
   "id": "3713591c",
   "metadata": {},
   "outputs": [
    {
     "data": {
      "text/plain": [
       "{1, 2}"
      ]
     },
     "execution_count": 7,
     "metadata": {},
     "output_type": "execute_result"
    }
   ],
   "source": [
    "set1"
   ]
  },
  {
   "cell_type": "code",
   "execution_count": 8,
   "id": "62c20e68",
   "metadata": {},
   "outputs": [],
   "source": [
    "from collections import Counter"
   ]
  },
  {
   "cell_type": "code",
   "execution_count": 9,
   "id": "66edef77",
   "metadata": {},
   "outputs": [
    {
     "data": {
      "text/plain": [
       "Counter({1: 2, 2: 2})"
      ]
     },
     "execution_count": 9,
     "metadata": {},
     "output_type": "execute_result"
    }
   ],
   "source": [
    "a = [1,2,2,1]\n",
    "Counter(a)"
   ]
  },
  {
   "cell_type": "code",
   "execution_count": 10,
   "id": "1cbdc59e",
   "metadata": {},
   "outputs": [],
   "source": [
    "s = [4,5,6,7,4,9,5]"
   ]
  },
  {
   "cell_type": "code",
   "execution_count": 11,
   "id": "e2b42b8f",
   "metadata": {},
   "outputs": [
    {
     "data": {
      "text/plain": [
       "Counter({4: 2, 5: 2, 6: 1, 7: 1, 9: 1})"
      ]
     },
     "execution_count": 11,
     "metadata": {},
     "output_type": "execute_result"
    }
   ],
   "source": [
    "Counter(s)"
   ]
  },
  {
   "cell_type": "code",
   "execution_count": 13,
   "id": "d04a5661",
   "metadata": {},
   "outputs": [],
   "source": [
    "# dict1 = {}\n",
    "# for i in s:\n",
    "#     dict1{i}\n",
    "\n",
    "dict1 = {}\n",
    "dict1[4] = 1"
   ]
  },
  {
   "cell_type": "code",
   "execution_count": 14,
   "id": "b151dd1d",
   "metadata": {},
   "outputs": [
    {
     "data": {
      "text/plain": [
       "{4: 1}"
      ]
     },
     "execution_count": 14,
     "metadata": {},
     "output_type": "execute_result"
    }
   ],
   "source": [
    "dict1"
   ]
  },
  {
   "cell_type": "code",
   "execution_count": 15,
   "id": "29516b10",
   "metadata": {},
   "outputs": [
    {
     "ename": "KeyError",
     "evalue": "4",
     "output_type": "error",
     "traceback": [
      "\u001b[0;31m---------------------------------------------------------------------------\u001b[0m",
      "\u001b[0;31mKeyError\u001b[0m                                  Traceback (most recent call last)",
      "\u001b[0;32m/var/folders/qp/zbmlljzd6m33mg4gt0zdfwjryvxfkf/T/ipykernel_11476/61537639.py\u001b[0m in \u001b[0;36m<module>\u001b[0;34m\u001b[0m\n\u001b[1;32m      1\u001b[0m \u001b[0mdict1\u001b[0m \u001b[0;34m=\u001b[0m \u001b[0;34m{\u001b[0m\u001b[0;34m}\u001b[0m\u001b[0;34m\u001b[0m\u001b[0;34m\u001b[0m\u001b[0m\n\u001b[1;32m      2\u001b[0m \u001b[0;32mfor\u001b[0m \u001b[0mi\u001b[0m \u001b[0;32min\u001b[0m \u001b[0ms\u001b[0m\u001b[0;34m:\u001b[0m\u001b[0;34m\u001b[0m\u001b[0;34m\u001b[0m\u001b[0m\n\u001b[0;32m----> 3\u001b[0;31m     \u001b[0mdict1\u001b[0m\u001b[0;34m[\u001b[0m\u001b[0mi\u001b[0m\u001b[0;34m]\u001b[0m \u001b[0;34m+=\u001b[0m \u001b[0;36m1\u001b[0m\u001b[0;34m\u001b[0m\u001b[0;34m\u001b[0m\u001b[0m\n\u001b[0m\u001b[1;32m      4\u001b[0m \u001b[0;34m\u001b[0m\u001b[0m\n",
      "\u001b[0;31mKeyError\u001b[0m: 4"
     ]
    }
   ],
   "source": [
    "dict1 = {}\n",
    "for i in s:\n",
    "    dict1[i] \n",
    "    "
   ]
  },
  {
   "cell_type": "code",
   "execution_count": 16,
   "id": "4d3ae658",
   "metadata": {},
   "outputs": [],
   "source": [
    "set1 = set(s)"
   ]
  },
  {
   "cell_type": "code",
   "execution_count": 17,
   "id": "25ea0d6a",
   "metadata": {},
   "outputs": [
    {
     "data": {
      "text/plain": [
       "{4, 5, 6, 7, 9}"
      ]
     },
     "execution_count": 17,
     "metadata": {},
     "output_type": "execute_result"
    }
   ],
   "source": [
    "set1"
   ]
  },
  {
   "cell_type": "code",
   "execution_count": 18,
   "id": "1b676a0d",
   "metadata": {},
   "outputs": [],
   "source": [
    "for i in set1:\n",
    "    dict1[i] = 1"
   ]
  },
  {
   "cell_type": "code",
   "execution_count": 19,
   "id": "774acfdc",
   "metadata": {},
   "outputs": [
    {
     "data": {
      "text/plain": [
       "{4: 1, 5: 1, 6: 1, 7: 1, 9: 1}"
      ]
     },
     "execution_count": 19,
     "metadata": {},
     "output_type": "execute_result"
    }
   ],
   "source": [
    "dict1"
   ]
  },
  {
   "cell_type": "code",
   "execution_count": 23,
   "id": "2ff27be8",
   "metadata": {},
   "outputs": [],
   "source": [
    "for i in s:\n",
    "    if i in dict1:\n",
    "        dict1[i] +=1"
   ]
  },
  {
   "cell_type": "code",
   "execution_count": 21,
   "id": "a5b9912a",
   "metadata": {},
   "outputs": [
    {
     "data": {
      "text/plain": [
       "{4: 2, 5: 2, 6: 1, 7: 1, 9: 2}"
      ]
     },
     "execution_count": 21,
     "metadata": {},
     "output_type": "execute_result"
    }
   ],
   "source": [
    "dict1"
   ]
  },
  {
   "cell_type": "code",
   "execution_count": 24,
   "id": "37800c0c",
   "metadata": {},
   "outputs": [
    {
     "data": {
      "text/plain": [
       "{4: 5, 5: 5, 6: 2, 7: 2, 9: 4}"
      ]
     },
     "execution_count": 24,
     "metadata": {},
     "output_type": "execute_result"
    }
   ],
   "source": [
    "dict1"
   ]
  },
  {
   "cell_type": "code",
   "execution_count": 25,
   "id": "4418435d",
   "metadata": {},
   "outputs": [],
   "source": [
    "s = [4,5,6,7,4,9,5]\n",
    "\n",
    "set2 = set(s)\n",
    "dict2 = {}\n",
    "for i in set2:\n",
    "    dict2[i] = 0\n",
    "    \n",
    "for j in s:\n",
    "    if j in dict2:\n",
    "        dict2[j] +=1"
   ]
  },
  {
   "cell_type": "code",
   "execution_count": 26,
   "id": "95f1da69",
   "metadata": {},
   "outputs": [
    {
     "data": {
      "text/plain": [
       "{4: 2, 5: 2, 6: 1, 7: 1, 9: 1}"
      ]
     },
     "execution_count": 26,
     "metadata": {},
     "output_type": "execute_result"
    }
   ],
   "source": [
    "dict2"
   ]
  },
  {
   "cell_type": "code",
   "execution_count": 27,
   "id": "3c30d9b7",
   "metadata": {},
   "outputs": [
    {
     "data": {
      "text/plain": [
       "Counter({4: 2, 5: 2, 6: 1, 7: 1, 9: 1})"
      ]
     },
     "execution_count": 27,
     "metadata": {},
     "output_type": "execute_result"
    }
   ],
   "source": [
    "Counter(s)"
   ]
  },
  {
   "cell_type": "code",
   "execution_count": 30,
   "id": "ee85148a",
   "metadata": {},
   "outputs": [],
   "source": [
    "dict2 = [dict2 for i in set2]"
   ]
  },
  {
   "cell_type": "code",
   "execution_count": 31,
   "id": "e8cfb0eb",
   "metadata": {},
   "outputs": [
    {
     "data": {
      "text/plain": [
       "[{4: 2, 5: 2, 6: 1, 7: 1, 9: 1},\n",
       " {4: 2, 5: 2, 6: 1, 7: 1, 9: 1},\n",
       " {4: 2, 5: 2, 6: 1, 7: 1, 9: 1},\n",
       " {4: 2, 5: 2, 6: 1, 7: 1, 9: 1},\n",
       " {4: 2, 5: 2, 6: 1, 7: 1, 9: 1}]"
      ]
     },
     "execution_count": 31,
     "metadata": {},
     "output_type": "execute_result"
    }
   ],
   "source": [
    "dict2"
   ]
  },
  {
   "cell_type": "code",
   "execution_count": 32,
   "id": "80ef043f",
   "metadata": {},
   "outputs": [],
   "source": [
    "dict3 = dict(zip(set(s),[0]*len(set(s))))"
   ]
  },
  {
   "cell_type": "code",
   "execution_count": 33,
   "id": "a2f96211",
   "metadata": {},
   "outputs": [
    {
     "data": {
      "text/plain": [
       "{4: 0, 5: 0, 6: 0, 7: 0, 9: 0}"
      ]
     },
     "execution_count": 33,
     "metadata": {},
     "output_type": "execute_result"
    }
   ],
   "source": [
    "dict3"
   ]
  },
  {
   "cell_type": "code",
   "execution_count": 36,
   "id": "aaafcc0d",
   "metadata": {},
   "outputs": [
    {
     "data": {
      "text/plain": [
       "9"
      ]
     },
     "execution_count": 36,
     "metadata": {},
     "output_type": "execute_result"
    }
   ],
   "source": [
    "29 % 10"
   ]
  },
  {
   "cell_type": "code",
   "execution_count": 37,
   "id": "eaf14e58",
   "metadata": {},
   "outputs": [
    {
     "data": {
      "text/plain": [
       "Counter({'a': 1, 'b': 1, 'c': 1})"
      ]
     },
     "execution_count": 37,
     "metadata": {},
     "output_type": "execute_result"
    }
   ],
   "source": [
    "Counter('abc')"
   ]
  },
  {
   "cell_type": "code",
   "execution_count": 42,
   "id": "ac11b68e",
   "metadata": {},
   "outputs": [
    {
     "name": "stdout",
     "output_type": "stream",
     "text": [
      "Counter({'j': 4, 'i': 2, 'f': 1, 'h': 1, 'e': 1})\n",
      "Counter({'a': 6, 'b': 3, 'e': 3, 'h': 2, 'j': 2, 'i': 2, 'g': 2, 'd': 2, 'f': 2, 'c': 1})\n",
      "f\n",
      "True\n",
      "i\n",
      "True\n",
      "h\n",
      "True\n",
      "j\n",
      "False\n",
      "e\n",
      "True\n"
     ]
    }
   ],
   "source": [
    "ransomNote = \"fihjjjjei\"\n",
    "magazine = \"hjibagacbhadfaefdjaeaebgi\"\n",
    "\n",
    "from collections import Counter\n",
    "\n",
    "dict_note = Counter(ransomNote)\n",
    "dict_mag = Counter(magazine)\n",
    "        \n",
    "print(dict_note)\n",
    "print(dict_mag)\n",
    "for alpha in dict_note:\n",
    "    print(alpha)\n",
    "    if alpha in dict_mag and dict_note[alpha] <= dict_mag[alpha]:\n",
    "        print(True)\n",
    "    else:\n",
    "        print(False)"
   ]
  },
  {
   "cell_type": "code",
   "execution_count": 45,
   "id": "ee7079fc",
   "metadata": {},
   "outputs": [],
   "source": [
    "ss = dict()\n",
    "ss[3]=[1,2]"
   ]
  },
  {
   "cell_type": "code",
   "execution_count": 46,
   "id": "5e3c31b6",
   "metadata": {},
   "outputs": [
    {
     "data": {
      "text/plain": [
       "{3: [1, 2]}"
      ]
     },
     "execution_count": 46,
     "metadata": {},
     "output_type": "execute_result"
    }
   ],
   "source": [
    "ss"
   ]
  },
  {
   "cell_type": "code",
   "execution_count": 50,
   "id": "e9cef1e5",
   "metadata": {},
   "outputs": [
    {
     "data": {
      "text/plain": [
       "[1, 2, 3]"
      ]
     },
     "execution_count": 50,
     "metadata": {},
     "output_type": "execute_result"
    }
   ],
   "source": [
    "[1,2]+[3]"
   ]
  },
  {
   "cell_type": "code",
   "execution_count": 51,
   "id": "224e792d",
   "metadata": {},
   "outputs": [
    {
     "data": {
      "text/plain": [
       "10"
      ]
     },
     "execution_count": 51,
     "metadata": {},
     "output_type": "execute_result"
    }
   ],
   "source": [
    "ss = [1,2,3,4]\n",
    "sum(ss)"
   ]
  },
  {
   "cell_type": "code",
   "execution_count": 52,
   "id": "9d03f182",
   "metadata": {},
   "outputs": [
    {
     "data": {
      "text/plain": [
       "3"
      ]
     },
     "execution_count": 52,
     "metadata": {},
     "output_type": "execute_result"
    }
   ],
   "source": [
    "sum(ss[2:3])"
   ]
  },
  {
   "cell_type": "code",
   "execution_count": 56,
   "id": "fd60740c",
   "metadata": {},
   "outputs": [
    {
     "name": "stdout",
     "output_type": "stream",
     "text": [
      "0.1 140617636083312\n",
      "1.1 140618982391600\n",
      "3.1 140618982391632\n"
     ]
    }
   ],
   "source": [
    "res = 0.1 \n",
    "print(res, id(res))\n",
    "\n",
    "res += 1\n",
    "print(res, id(res))\n",
    "\n",
    "res += 2\n",
    "print(res, id(res))"
   ]
  },
  {
   "cell_type": "code",
   "execution_count": 57,
   "id": "dcd9ab24",
   "metadata": {},
   "outputs": [
    {
     "name": "stdout",
     "output_type": "stream",
     "text": [
      "[] 140617908626560\n",
      "[1] 140617908626560\n",
      "[1, [2, 3]] 140617908626560\n"
     ]
    }
   ],
   "source": [
    "abc = []\n",
    "print(abc, id(abc))\n",
    "\n",
    "abc.append(1)\n",
    "print(abc, id(abc))\n",
    "\n",
    "abc.append([2,3])\n",
    "print(abc, id(abc))"
   ]
  },
  {
   "cell_type": "code",
   "execution_count": 58,
   "id": "5c23da13",
   "metadata": {},
   "outputs": [
    {
     "data": {
      "text/plain": [
       "'c'"
      ]
     },
     "execution_count": 58,
     "metadata": {},
     "output_type": "execute_result"
    }
   ],
   "source": [
    "s1 = 'abcdefg'\n"
   ]
  },
  {
   "cell_type": "code",
   "execution_count": null,
   "id": "cb920da1",
   "metadata": {},
   "outputs": [],
   "source": []
  }
 ],
 "metadata": {
  "kernelspec": {
   "display_name": "Python 3 (ipykernel)",
   "language": "python",
   "name": "python3"
  },
  "language_info": {
   "codemirror_mode": {
    "name": "ipython",
    "version": 3
   },
   "file_extension": ".py",
   "mimetype": "text/x-python",
   "name": "python",
   "nbconvert_exporter": "python",
   "pygments_lexer": "ipython3",
   "version": "3.9.7"
  }
 },
 "nbformat": 4,
 "nbformat_minor": 5
}
