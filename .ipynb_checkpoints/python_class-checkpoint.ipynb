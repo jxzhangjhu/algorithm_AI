{
 "cells": [
  {
   "cell_type": "code",
   "execution_count": null,
   "id": "83c9880b",
   "metadata": {},
   "outputs": [],
   "source": [
    "# 12-16-2021 basic python "
   ]
  },
  {
   "cell_type": "code",
   "execution_count": 1,
   "id": "32e0aad0",
   "metadata": {},
   "outputs": [],
   "source": [
    "class Student():\n",
    "    def __init__(self, name, score):\n",
    "        self.name = name\n",
    "        self.score = score\n",
    "        \n",
    "    def speak(self):\n",
    "        print(self.name)\n",
    "        print(self.score)"
   ]
  },
  {
   "cell_type": "code",
   "execution_count": 2,
   "id": "38614471",
   "metadata": {},
   "outputs": [],
   "source": [
    "stu1 = Student('bryson',90)"
   ]
  },
  {
   "cell_type": "code",
   "execution_count": 3,
   "id": "bc17de10",
   "metadata": {},
   "outputs": [
    {
     "name": "stdout",
     "output_type": "stream",
     "text": [
      "bryson\n",
      "90\n"
     ]
    }
   ],
   "source": [
    "stu1.speak()"
   ]
  },
  {
   "cell_type": "code",
   "execution_count": 5,
   "id": "355f8b0c",
   "metadata": {},
   "outputs": [
    {
     "name": "stdout",
     "output_type": "stream",
     "text": [
      "bryson\n",
      "95\n"
     ]
    }
   ],
   "source": [
    "stu1.score = 95\n",
    "stu1.speak()"
   ]
  },
  {
   "cell_type": "code",
   "execution_count": 6,
   "id": "cc77754f",
   "metadata": {},
   "outputs": [
    {
     "name": "stdout",
     "output_type": "stream",
     "text": [
      "sirui\n",
      "80\n"
     ]
    }
   ],
   "source": [
    "stu1.name = 'sirui'\n",
    "stu1.score = 80\n",
    "stu1.speak()"
   ]
  },
  {
   "cell_type": "code",
   "execution_count": null,
   "id": "58ddc457",
   "metadata": {},
   "outputs": [],
   "source": []
  }
 ],
 "metadata": {
  "kernelspec": {
   "display_name": "Python 3 (ipykernel)",
   "language": "python",
   "name": "python3"
  },
  "language_info": {
   "codemirror_mode": {
    "name": "ipython",
    "version": 3
   },
   "file_extension": ".py",
   "mimetype": "text/x-python",
   "name": "python",
   "nbconvert_exporter": "python",
   "pygments_lexer": "ipython3",
   "version": "3.9.7"
  }
 },
 "nbformat": 4,
 "nbformat_minor": 5
}
