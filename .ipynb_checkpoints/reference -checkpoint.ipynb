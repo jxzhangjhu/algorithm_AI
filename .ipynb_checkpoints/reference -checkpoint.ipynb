{
 "cells": [
  {
   "cell_type": "code",
   "execution_count": 1,
   "id": "eff12f51",
   "metadata": {},
   "outputs": [],
   "source": [
    "# https://www.zhihu.com/question/26614862/answer/33449949"
   ]
  },
  {
   "cell_type": "code",
   "execution_count": 2,
   "id": "b78f6287",
   "metadata": {},
   "outputs": [],
   "source": [
    "s = [1, 2, 3]\n",
    "t = s\n",
    "t.reverse()"
   ]
  },
  {
   "cell_type": "code",
   "execution_count": 3,
   "id": "1b2b472b",
   "metadata": {},
   "outputs": [
    {
     "data": {
      "text/plain": [
       "[3, 2, 1]"
      ]
     },
     "execution_count": 3,
     "metadata": {},
     "output_type": "execute_result"
    }
   ],
   "source": [
    "s"
   ]
  },
  {
   "cell_type": "code",
   "execution_count": 4,
   "id": "71670b4f",
   "metadata": {},
   "outputs": [
    {
     "data": {
      "text/plain": [
       "[3, 2, 1]"
      ]
     },
     "execution_count": 4,
     "metadata": {},
     "output_type": "execute_result"
    }
   ],
   "source": [
    "t"
   ]
  },
  {
   "cell_type": "code",
   "execution_count": 5,
   "id": "cebadbc0",
   "metadata": {},
   "outputs": [
    {
     "data": {
      "text/plain": [
       "140712660810496"
      ]
     },
     "execution_count": 5,
     "metadata": {},
     "output_type": "execute_result"
    }
   ],
   "source": [
    "id(s)"
   ]
  },
  {
   "cell_type": "code",
   "execution_count": 6,
   "id": "9ec5fe47",
   "metadata": {},
   "outputs": [
    {
     "data": {
      "text/plain": [
       "140712660810496"
      ]
     },
     "execution_count": 6,
     "metadata": {},
     "output_type": "execute_result"
    }
   ],
   "source": [
    "id(t)"
   ]
  },
  {
   "cell_type": "code",
   "execution_count": 7,
   "id": "3506a92b",
   "metadata": {},
   "outputs": [],
   "source": [
    "# what's the difference between == and is ？"
   ]
  },
  {
   "cell_type": "code",
   "execution_count": 8,
   "id": "774a2f6d",
   "metadata": {},
   "outputs": [
    {
     "name": "stdout",
     "output_type": "stream",
     "text": [
      "True\n",
      "False\n",
      "True\n",
      "False\n"
     ]
    }
   ],
   "source": [
    "list1 = [] # id 不同\n",
    "list2 = [] \n",
    "list3 = list1\n",
    " \n",
    "if (list1 == list2):\n",
    "    print(\"True\")\n",
    "else:\n",
    "    print(\"False\")\n",
    " \n",
    "if (list1 is list2):\n",
    "    print(\"True\")\n",
    "else:\n",
    "    print(\"False\")\n",
    " \n",
    "if (list1 is list3):\n",
    "    print(\"True\")\n",
    "else:   \n",
    "    print(\"False\")\n",
    " \n",
    "list3 = list3 + list2\n",
    " \n",
    "if (list1 is list3):\n",
    "    print(\"True\")\n",
    "else:   \n",
    "    print(\"False\")"
   ]
  },
  {
   "cell_type": "code",
   "execution_count": 9,
   "id": "d2285707",
   "metadata": {},
   "outputs": [
    {
     "name": "stdout",
     "output_type": "stream",
     "text": [
      "140712660838848\n",
      "140712660838208\n"
     ]
    }
   ],
   "source": [
    "# list1 = []\n",
    "# list2 = []\n",
    " \n",
    "print(id(list1))\n",
    "print(id(list2))"
   ]
  },
  {
   "cell_type": "code",
   "execution_count": 10,
   "id": "6f35cfcd",
   "metadata": {},
   "outputs": [
    {
     "name": "stdout",
     "output_type": "stream",
     "text": [
      "140712660839296\n"
     ]
    }
   ],
   "source": [
    "print(id(list3))"
   ]
  },
  {
   "cell_type": "code",
   "execution_count": null,
   "id": "92d0747a",
   "metadata": {},
   "outputs": [],
   "source": [
    "# == 判断值是否相等，is判断address 是否一致"
   ]
  },
  {
   "cell_type": "markdown",
   "id": "72cabf5d",
   "metadata": {},
   "source": [
    "reference \n",
    "\n",
    "赋值操作和函数传参都是copy address\n",
    "\n"
   ]
  },
  {
   "cell_type": "code",
   "execution_count": 11,
   "id": "5acd5e5c",
   "metadata": {},
   "outputs": [],
   "source": [
    "mylist1 = [1,2,3,4,54,6]"
   ]
  },
  {
   "cell_type": "code",
   "execution_count": 12,
   "id": "18809055",
   "metadata": {},
   "outputs": [],
   "source": [
    "mylist2 = mylist1[1:4]"
   ]
  },
  {
   "cell_type": "code",
   "execution_count": 13,
   "id": "f1de6c9e",
   "metadata": {},
   "outputs": [
    {
     "data": {
      "text/plain": [
       "140713200732352"
      ]
     },
     "execution_count": 13,
     "metadata": {},
     "output_type": "execute_result"
    }
   ],
   "source": [
    "id(mylist1)"
   ]
  },
  {
   "cell_type": "code",
   "execution_count": 14,
   "id": "fafe5ebd",
   "metadata": {},
   "outputs": [
    {
     "data": {
      "text/plain": [
       "140712660827264"
      ]
     },
     "execution_count": 14,
     "metadata": {},
     "output_type": "execute_result"
    }
   ],
   "source": [
    "id(mylist2)"
   ]
  },
  {
   "cell_type": "code",
   "execution_count": 16,
   "id": "db6ad310",
   "metadata": {},
   "outputs": [
    {
     "data": {
      "text/plain": [
       "[2, 3, 4]"
      ]
     },
     "execution_count": 16,
     "metadata": {},
     "output_type": "execute_result"
    }
   ],
   "source": [
    "mylist2"
   ]
  },
  {
   "cell_type": "code",
   "execution_count": 17,
   "id": "72f70b06",
   "metadata": {},
   "outputs": [],
   "source": [
    "mylist2[2] = 111 # 修改对象，mylist2 地址不变！"
   ]
  },
  {
   "cell_type": "code",
   "execution_count": 18,
   "id": "6c725e97",
   "metadata": {},
   "outputs": [
    {
     "data": {
      "text/plain": [
       "[2, 3, 111]"
      ]
     },
     "execution_count": 18,
     "metadata": {},
     "output_type": "execute_result"
    }
   ],
   "source": [
    "mylist2"
   ]
  },
  {
   "cell_type": "code",
   "execution_count": 19,
   "id": "b1cb4d68",
   "metadata": {},
   "outputs": [
    {
     "data": {
      "text/plain": [
       "140712660827264"
      ]
     },
     "execution_count": 19,
     "metadata": {},
     "output_type": "execute_result"
    }
   ],
   "source": [
    "id(mylist2)"
   ]
  },
  {
   "cell_type": "code",
   "execution_count": null,
   "id": "9b2de172",
   "metadata": {},
   "outputs": [],
   "source": []
  }
 ],
 "metadata": {
  "kernelspec": {
   "display_name": "Python 3 (ipykernel)",
   "language": "python",
   "name": "python3"
  },
  "language_info": {
   "codemirror_mode": {
    "name": "ipython",
    "version": 3
   },
   "file_extension": ".py",
   "mimetype": "text/x-python",
   "name": "python",
   "nbconvert_exporter": "python",
   "pygments_lexer": "ipython3",
   "version": "3.9.7"
  }
 },
 "nbformat": 4,
 "nbformat_minor": 5
}
