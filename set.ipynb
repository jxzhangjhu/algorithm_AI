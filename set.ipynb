{
 "cells": [
  {
   "cell_type": "code",
   "execution_count": 1,
   "id": "7ede402e",
   "metadata": {},
   "outputs": [],
   "source": [
    "set3 = set('hello')"
   ]
  },
  {
   "cell_type": "code",
   "execution_count": 2,
   "id": "4bdf1f3e",
   "metadata": {},
   "outputs": [
    {
     "data": {
      "text/plain": [
       "{'e', 'h', 'l', 'o'}"
      ]
     },
     "execution_count": 2,
     "metadata": {},
     "output_type": "execute_result"
    }
   ],
   "source": [
    "set3"
   ]
  },
  {
   "cell_type": "code",
   "execution_count": 3,
   "id": "a76cddec",
   "metadata": {},
   "outputs": [],
   "source": [
    "set1 = set([12,15,18.2,'hello'])"
   ]
  },
  {
   "cell_type": "code",
   "execution_count": 4,
   "id": "0bb81430",
   "metadata": {},
   "outputs": [
    {
     "data": {
      "text/plain": [
       "{12, 15, 18.2, 'hello'}"
      ]
     },
     "execution_count": 4,
     "metadata": {},
     "output_type": "execute_result"
    }
   ],
   "source": [
    "set1"
   ]
  },
  {
   "cell_type": "code",
   "execution_count": 5,
   "id": "801d4840",
   "metadata": {},
   "outputs": [],
   "source": [
    "set1.add('jiuzhang')"
   ]
  },
  {
   "cell_type": "code",
   "execution_count": 6,
   "id": "884ab477",
   "metadata": {},
   "outputs": [
    {
     "data": {
      "text/plain": [
       "{12, 15, 18.2, 'hello', 'jiuzhang'}"
      ]
     },
     "execution_count": 6,
     "metadata": {},
     "output_type": "execute_result"
    }
   ],
   "source": [
    "set1"
   ]
  },
  {
   "cell_type": "code",
   "execution_count": 7,
   "id": "2db5b547",
   "metadata": {},
   "outputs": [],
   "source": [
    "set1.update([11, 'abc'])"
   ]
  },
  {
   "cell_type": "code",
   "execution_count": 8,
   "id": "037a8481",
   "metadata": {},
   "outputs": [
    {
     "data": {
      "text/plain": [
       "{11, 12, 15, 18.2, 'abc', 'hello', 'jiuzhang'}"
      ]
     },
     "execution_count": 8,
     "metadata": {},
     "output_type": "execute_result"
    }
   ],
   "source": [
    "set1"
   ]
  },
  {
   "cell_type": "code",
   "execution_count": 10,
   "id": "24659cfa",
   "metadata": {},
   "outputs": [
    {
     "name": "stdout",
     "output_type": "stream",
     "text": [
      "11 12 abc hello 15 18.2 jiuzhang "
     ]
    }
   ],
   "source": [
    "for elem in set1:\n",
    "    print(elem, end=' ')"
   ]
  },
  {
   "cell_type": "code",
   "execution_count": 11,
   "id": "7d38ac33",
   "metadata": {},
   "outputs": [
    {
     "data": {
      "text/plain": [
       "True"
      ]
     },
     "execution_count": 11,
     "metadata": {},
     "output_type": "execute_result"
    }
   ],
   "source": [
    "12 in set1"
   ]
  },
  {
   "cell_type": "code",
   "execution_count": 12,
   "id": "9d11318b",
   "metadata": {},
   "outputs": [],
   "source": [
    "set1.remove(12)"
   ]
  },
  {
   "cell_type": "code",
   "execution_count": 13,
   "id": "4aa51c84",
   "metadata": {},
   "outputs": [
    {
     "data": {
      "text/plain": [
       "{11, 15, 18.2, 'abc', 'hello', 'jiuzhang'}"
      ]
     },
     "execution_count": 13,
     "metadata": {},
     "output_type": "execute_result"
    }
   ],
   "source": [
    "set1"
   ]
  },
  {
   "cell_type": "code",
   "execution_count": 14,
   "id": "52ff75b4",
   "metadata": {},
   "outputs": [
    {
     "ename": "KeyError",
     "evalue": "100",
     "output_type": "error",
     "traceback": [
      "\u001b[0;31m---------------------------------------------------------------------------\u001b[0m",
      "\u001b[0;31mKeyError\u001b[0m                                  Traceback (most recent call last)",
      "\u001b[0;32m/var/folders/qp/zbmlljzd6m33mg4gt0zdfwjryvxfkf/T/ipykernel_68229/1200921940.py\u001b[0m in \u001b[0;36m<module>\u001b[0;34m\u001b[0m\n\u001b[0;32m----> 1\u001b[0;31m \u001b[0mset1\u001b[0m\u001b[0;34m.\u001b[0m\u001b[0mremove\u001b[0m\u001b[0;34m(\u001b[0m\u001b[0;36m100\u001b[0m\u001b[0;34m)\u001b[0m\u001b[0;34m\u001b[0m\u001b[0;34m\u001b[0m\u001b[0m\n\u001b[0m",
      "\u001b[0;31mKeyError\u001b[0m: 100"
     ]
    }
   ],
   "source": [
    "set1.remove(100)"
   ]
  },
  {
   "cell_type": "code",
   "execution_count": 15,
   "id": "242aab25",
   "metadata": {},
   "outputs": [],
   "source": [
    "set1.discard(100)"
   ]
  },
  {
   "cell_type": "code",
   "execution_count": 16,
   "id": "ee0b0695",
   "metadata": {},
   "outputs": [
    {
     "data": {
      "text/plain": [
       "{11, 15, 18.2, 'abc', 'hello', 'jiuzhang'}"
      ]
     },
     "execution_count": 16,
     "metadata": {},
     "output_type": "execute_result"
    }
   ],
   "source": [
    "set1"
   ]
  },
  {
   "cell_type": "code",
   "execution_count": 17,
   "id": "2cbe61c2",
   "metadata": {},
   "outputs": [],
   "source": [
    "set1.discard(15)"
   ]
  },
  {
   "cell_type": "code",
   "execution_count": 18,
   "id": "8e39920a",
   "metadata": {},
   "outputs": [
    {
     "data": {
      "text/plain": [
       "{11, 18.2, 'abc', 'hello', 'jiuzhang'}"
      ]
     },
     "execution_count": 18,
     "metadata": {},
     "output_type": "execute_result"
    }
   ],
   "source": [
    "set1"
   ]
  },
  {
   "cell_type": "code",
   "execution_count": 19,
   "id": "2faad0e8",
   "metadata": {},
   "outputs": [
    {
     "data": {
      "text/plain": [
       "11"
      ]
     },
     "execution_count": 19,
     "metadata": {},
     "output_type": "execute_result"
    }
   ],
   "source": [
    "set1.pop()"
   ]
  },
  {
   "cell_type": "code",
   "execution_count": 20,
   "id": "a39519d1",
   "metadata": {},
   "outputs": [
    {
     "data": {
      "text/plain": [
       "'abc'"
      ]
     },
     "execution_count": 20,
     "metadata": {},
     "output_type": "execute_result"
    }
   ],
   "source": [
    "set1.pop()"
   ]
  },
  {
   "cell_type": "code",
   "execution_count": 21,
   "id": "e2c2d8d8",
   "metadata": {},
   "outputs": [
    {
     "data": {
      "text/plain": [
       "3"
      ]
     },
     "execution_count": 21,
     "metadata": {},
     "output_type": "execute_result"
    }
   ],
   "source": [
    "len(set1)"
   ]
  },
  {
   "cell_type": "code",
   "execution_count": 3,
   "id": "b1e96522",
   "metadata": {},
   "outputs": [],
   "source": [
    "set1 = {1,3,5,8}"
   ]
  },
  {
   "cell_type": "code",
   "execution_count": 4,
   "id": "9caa4651",
   "metadata": {},
   "outputs": [
    {
     "data": {
      "text/plain": [
       "{1, 3, 5, 8}"
      ]
     },
     "execution_count": 4,
     "metadata": {},
     "output_type": "execute_result"
    }
   ],
   "source": [
    "set1"
   ]
  },
  {
   "cell_type": "code",
   "execution_count": 5,
   "id": "259023fd",
   "metadata": {},
   "outputs": [
    {
     "name": "stdout",
     "output_type": "stream",
     "text": [
      "8\n",
      "1\n",
      "3\n",
      "5\n"
     ]
    }
   ],
   "source": [
    "for val in set1:\n",
    "    print(val)"
   ]
  },
  {
   "cell_type": "code",
   "execution_count": 1,
   "id": "f2055c15",
   "metadata": {},
   "outputs": [],
   "source": [
    "ss = set('anagram')"
   ]
  },
  {
   "cell_type": "code",
   "execution_count": 2,
   "id": "9b53bb6d",
   "metadata": {},
   "outputs": [
    {
     "data": {
      "text/plain": [
       "{'a', 'g', 'm', 'n', 'r'}"
      ]
     },
     "execution_count": 2,
     "metadata": {},
     "output_type": "execute_result"
    }
   ],
   "source": [
    "ss"
   ]
  },
  {
   "cell_type": "code",
   "execution_count": 3,
   "id": "71b79fe5",
   "metadata": {},
   "outputs": [],
   "source": [
    "bb = 'abc'"
   ]
  },
  {
   "cell_type": "code",
   "execution_count": 4,
   "id": "4b09be1d",
   "metadata": {},
   "outputs": [
    {
     "data": {
      "text/plain": [
       "97"
      ]
     },
     "execution_count": 4,
     "metadata": {},
     "output_type": "execute_result"
    }
   ],
   "source": [
    "ord('a')"
   ]
  },
  {
   "cell_type": "code",
   "execution_count": 5,
   "id": "29418ee0",
   "metadata": {},
   "outputs": [
    {
     "data": {
      "text/plain": [
       "3"
      ]
     },
     "execution_count": 5,
     "metadata": {},
     "output_type": "execute_result"
    }
   ],
   "source": [
    "len(bb)"
   ]
  },
  {
   "cell_type": "code",
   "execution_count": 6,
   "id": "859d2529",
   "metadata": {},
   "outputs": [],
   "source": [
    "set1 = set([1,2,2,1])"
   ]
  },
  {
   "cell_type": "code",
   "execution_count": 7,
   "id": "74251ff9",
   "metadata": {},
   "outputs": [
    {
     "data": {
      "text/plain": [
       "{1, 2}"
      ]
     },
     "execution_count": 7,
     "metadata": {},
     "output_type": "execute_result"
    }
   ],
   "source": [
    "set1"
   ]
  },
  {
   "cell_type": "code",
   "execution_count": 8,
   "id": "7e3b9747",
   "metadata": {},
   "outputs": [],
   "source": [
    "from collections import Counter"
   ]
  },
  {
   "cell_type": "code",
   "execution_count": 9,
   "id": "b838dbae",
   "metadata": {},
   "outputs": [
    {
     "data": {
      "text/plain": [
       "Counter({1: 2, 2: 2})"
      ]
     },
     "execution_count": 9,
     "metadata": {},
     "output_type": "execute_result"
    }
   ],
   "source": [
    "a = [1,2,2,1]\n",
    "Counter(a)"
   ]
  },
  {
   "cell_type": "code",
   "execution_count": 10,
   "id": "4e1b9ea3",
   "metadata": {},
   "outputs": [],
   "source": [
    "s = [4,5,6,7,4,9,5]"
   ]
  },
  {
   "cell_type": "code",
   "execution_count": 11,
   "id": "aab597fa",
   "metadata": {},
   "outputs": [
    {
     "data": {
      "text/plain": [
       "Counter({4: 2, 5: 2, 6: 1, 7: 1, 9: 1})"
      ]
     },
     "execution_count": 11,
     "metadata": {},
     "output_type": "execute_result"
    }
   ],
   "source": [
    "Counter(s)"
   ]
  },
  {
   "cell_type": "code",
   "execution_count": 13,
   "id": "272651ce",
   "metadata": {},
   "outputs": [],
   "source": [
    "# dict1 = {}\n",
    "# for i in s:\n",
    "#     dict1{i}\n",
    "\n",
    "dict1 = {}\n",
    "dict1[4] = 1"
   ]
  },
  {
   "cell_type": "code",
   "execution_count": 14,
   "id": "a630129b",
   "metadata": {},
   "outputs": [
    {
     "data": {
      "text/plain": [
       "{4: 1}"
      ]
     },
     "execution_count": 14,
     "metadata": {},
     "output_type": "execute_result"
    }
   ],
   "source": [
    "dict1"
   ]
  },
  {
   "cell_type": "code",
   "execution_count": 15,
   "id": "657c2c3a",
   "metadata": {},
   "outputs": [
    {
     "ename": "KeyError",
     "evalue": "4",
     "output_type": "error",
     "traceback": [
      "\u001b[0;31m---------------------------------------------------------------------------\u001b[0m",
      "\u001b[0;31mKeyError\u001b[0m                                  Traceback (most recent call last)",
      "\u001b[0;32m/var/folders/qp/zbmlljzd6m33mg4gt0zdfwjryvxfkf/T/ipykernel_11476/61537639.py\u001b[0m in \u001b[0;36m<module>\u001b[0;34m\u001b[0m\n\u001b[1;32m      1\u001b[0m \u001b[0mdict1\u001b[0m \u001b[0;34m=\u001b[0m \u001b[0;34m{\u001b[0m\u001b[0;34m}\u001b[0m\u001b[0;34m\u001b[0m\u001b[0;34m\u001b[0m\u001b[0m\n\u001b[1;32m      2\u001b[0m \u001b[0;32mfor\u001b[0m \u001b[0mi\u001b[0m \u001b[0;32min\u001b[0m \u001b[0ms\u001b[0m\u001b[0;34m:\u001b[0m\u001b[0;34m\u001b[0m\u001b[0;34m\u001b[0m\u001b[0m\n\u001b[0;32m----> 3\u001b[0;31m     \u001b[0mdict1\u001b[0m\u001b[0;34m[\u001b[0m\u001b[0mi\u001b[0m\u001b[0;34m]\u001b[0m \u001b[0;34m+=\u001b[0m \u001b[0;36m1\u001b[0m\u001b[0;34m\u001b[0m\u001b[0;34m\u001b[0m\u001b[0m\n\u001b[0m\u001b[1;32m      4\u001b[0m \u001b[0;34m\u001b[0m\u001b[0m\n",
      "\u001b[0;31mKeyError\u001b[0m: 4"
     ]
    }
   ],
   "source": [
    "dict1 = {}\n",
    "for i in s:\n",
    "    dict1[i] \n",
    "    "
   ]
  },
  {
   "cell_type": "code",
   "execution_count": 16,
   "id": "5fc09c68",
   "metadata": {},
   "outputs": [],
   "source": [
    "set1 = set(s)"
   ]
  },
  {
   "cell_type": "code",
   "execution_count": 17,
   "id": "c0ce1dde",
   "metadata": {},
   "outputs": [
    {
     "data": {
      "text/plain": [
       "{4, 5, 6, 7, 9}"
      ]
     },
     "execution_count": 17,
     "metadata": {},
     "output_type": "execute_result"
    }
   ],
   "source": [
    "set1"
   ]
  },
  {
   "cell_type": "code",
   "execution_count": 18,
   "id": "c50b3560",
   "metadata": {},
   "outputs": [],
   "source": [
    "for i in set1:\n",
    "    dict1[i] = 1"
   ]
  },
  {
   "cell_type": "code",
   "execution_count": 19,
   "id": "5598c139",
   "metadata": {},
   "outputs": [
    {
     "data": {
      "text/plain": [
       "{4: 1, 5: 1, 6: 1, 7: 1, 9: 1}"
      ]
     },
     "execution_count": 19,
     "metadata": {},
     "output_type": "execute_result"
    }
   ],
   "source": [
    "dict1"
   ]
  },
  {
   "cell_type": "code",
   "execution_count": 23,
   "id": "6648b32e",
   "metadata": {},
   "outputs": [],
   "source": [
    "for i in s:\n",
    "    if i in dict1:\n",
    "        dict1[i] +=1"
   ]
  },
  {
   "cell_type": "code",
   "execution_count": 21,
   "id": "d24e7729",
   "metadata": {},
   "outputs": [
    {
     "data": {
      "text/plain": [
       "{4: 2, 5: 2, 6: 1, 7: 1, 9: 2}"
      ]
     },
     "execution_count": 21,
     "metadata": {},
     "output_type": "execute_result"
    }
   ],
   "source": [
    "dict1"
   ]
  },
  {
   "cell_type": "code",
   "execution_count": 24,
   "id": "320ca94a",
   "metadata": {},
   "outputs": [
    {
     "data": {
      "text/plain": [
       "{4: 5, 5: 5, 6: 2, 7: 2, 9: 4}"
      ]
     },
     "execution_count": 24,
     "metadata": {},
     "output_type": "execute_result"
    }
   ],
   "source": [
    "dict1"
   ]
  },
  {
   "cell_type": "code",
   "execution_count": 25,
   "id": "eba68023",
   "metadata": {},
   "outputs": [],
   "source": [
    "s = [4,5,6,7,4,9,5]\n",
    "\n",
    "set2 = set(s)\n",
    "dict2 = {}\n",
    "for i in set2:\n",
    "    dict2[i] = 0\n",
    "    \n",
    "for j in s:\n",
    "    if j in dict2:\n",
    "        dict2[j] +=1"
   ]
  },
  {
   "cell_type": "code",
   "execution_count": 26,
   "id": "3a3c1b15",
   "metadata": {},
   "outputs": [
    {
     "data": {
      "text/plain": [
       "{4: 2, 5: 2, 6: 1, 7: 1, 9: 1}"
      ]
     },
     "execution_count": 26,
     "metadata": {},
     "output_type": "execute_result"
    }
   ],
   "source": [
    "dict2"
   ]
  },
  {
   "cell_type": "code",
   "execution_count": 27,
   "id": "00bcd59a",
   "metadata": {},
   "outputs": [
    {
     "data": {
      "text/plain": [
       "Counter({4: 2, 5: 2, 6: 1, 7: 1, 9: 1})"
      ]
     },
     "execution_count": 27,
     "metadata": {},
     "output_type": "execute_result"
    }
   ],
   "source": [
    "Counter(s)"
   ]
  },
  {
   "cell_type": "code",
   "execution_count": 30,
   "id": "26117bf5",
   "metadata": {},
   "outputs": [],
   "source": [
    "dict2 = [dict2 for i in set2]"
   ]
  },
  {
   "cell_type": "code",
   "execution_count": 31,
   "id": "88e69c72",
   "metadata": {},
   "outputs": [
    {
     "data": {
      "text/plain": [
       "[{4: 2, 5: 2, 6: 1, 7: 1, 9: 1},\n",
       " {4: 2, 5: 2, 6: 1, 7: 1, 9: 1},\n",
       " {4: 2, 5: 2, 6: 1, 7: 1, 9: 1},\n",
       " {4: 2, 5: 2, 6: 1, 7: 1, 9: 1},\n",
       " {4: 2, 5: 2, 6: 1, 7: 1, 9: 1}]"
      ]
     },
     "execution_count": 31,
     "metadata": {},
     "output_type": "execute_result"
    }
   ],
   "source": [
    "dict2"
   ]
  },
  {
   "cell_type": "code",
   "execution_count": 32,
   "id": "a2c3b9db",
   "metadata": {},
   "outputs": [],
   "source": [
    "dict3 = dict(zip(set(s),[0]*len(set(s))))"
   ]
  },
  {
   "cell_type": "code",
   "execution_count": 33,
   "id": "7137f945",
   "metadata": {},
   "outputs": [
    {
     "data": {
      "text/plain": [
       "{4: 0, 5: 0, 6: 0, 7: 0, 9: 0}"
      ]
     },
     "execution_count": 33,
     "metadata": {},
     "output_type": "execute_result"
    }
   ],
   "source": [
    "dict3"
   ]
  },
  {
   "cell_type": "code",
   "execution_count": 36,
   "id": "81cf888b",
   "metadata": {},
   "outputs": [
    {
     "data": {
      "text/plain": [
       "9"
      ]
     },
     "execution_count": 36,
     "metadata": {},
     "output_type": "execute_result"
    }
   ],
   "source": [
    "29 % 10"
   ]
  },
  {
   "cell_type": "code",
   "execution_count": 37,
   "id": "80ca033e",
   "metadata": {},
   "outputs": [
    {
     "data": {
      "text/plain": [
       "Counter({'a': 1, 'b': 1, 'c': 1})"
      ]
     },
     "execution_count": 37,
     "metadata": {},
     "output_type": "execute_result"
    }
   ],
   "source": [
    "Counter('abc')"
   ]
  },
  {
   "cell_type": "code",
   "execution_count": 42,
   "id": "f21b7e04",
   "metadata": {},
   "outputs": [
    {
     "name": "stdout",
     "output_type": "stream",
     "text": [
      "Counter({'j': 4, 'i': 2, 'f': 1, 'h': 1, 'e': 1})\n",
      "Counter({'a': 6, 'b': 3, 'e': 3, 'h': 2, 'j': 2, 'i': 2, 'g': 2, 'd': 2, 'f': 2, 'c': 1})\n",
      "f\n",
      "True\n",
      "i\n",
      "True\n",
      "h\n",
      "True\n",
      "j\n",
      "False\n",
      "e\n",
      "True\n"
     ]
    }
   ],
   "source": [
    "ransomNote = \"fihjjjjei\"\n",
    "magazine = \"hjibagacbhadfaefdjaeaebgi\"\n",
    "\n",
    "from collections import Counter\n",
    "\n",
    "dict_note = Counter(ransomNote)\n",
    "dict_mag = Counter(magazine)\n",
    "        \n",
    "print(dict_note)\n",
    "print(dict_mag)\n",
    "for alpha in dict_note:\n",
    "    print(alpha)\n",
    "    if alpha in dict_mag and dict_note[alpha] <= dict_mag[alpha]:\n",
    "        print(True)\n",
    "    else:\n",
    "        print(False)"
   ]
  },
  {
   "cell_type": "code",
   "execution_count": 45,
   "id": "242566fa",
   "metadata": {},
   "outputs": [],
   "source": [
    "ss = dict()\n",
    "ss[3]=[1,2]"
   ]
  },
  {
   "cell_type": "code",
   "execution_count": 46,
   "id": "4932eed1",
   "metadata": {},
   "outputs": [
    {
     "data": {
      "text/plain": [
       "{3: [1, 2]}"
      ]
     },
     "execution_count": 46,
     "metadata": {},
     "output_type": "execute_result"
    }
   ],
   "source": [
    "ss"
   ]
  },
  {
   "cell_type": "code",
   "execution_count": 50,
   "id": "3b41903f",
   "metadata": {},
   "outputs": [
    {
     "data": {
      "text/plain": [
       "[1, 2, 3]"
      ]
     },
     "execution_count": 50,
     "metadata": {},
     "output_type": "execute_result"
    }
   ],
   "source": [
    "[1,2]+[3]"
   ]
  },
  {
   "cell_type": "code",
   "execution_count": 51,
   "id": "91e78c48",
   "metadata": {},
   "outputs": [
    {
     "data": {
      "text/plain": [
       "10"
      ]
     },
     "execution_count": 51,
     "metadata": {},
     "output_type": "execute_result"
    }
   ],
   "source": [
    "ss = [1,2,3,4]\n",
    "sum(ss)"
   ]
  },
  {
   "cell_type": "code",
   "execution_count": 52,
   "id": "4fd92317",
   "metadata": {},
   "outputs": [
    {
     "data": {
      "text/plain": [
       "3"
      ]
     },
     "execution_count": 52,
     "metadata": {},
     "output_type": "execute_result"
    }
   ],
   "source": [
    "sum(ss[2:3])"
   ]
  },
  {
   "cell_type": "code",
   "execution_count": 56,
   "id": "da65a1ba",
   "metadata": {},
   "outputs": [
    {
     "name": "stdout",
     "output_type": "stream",
     "text": [
      "0.1 140617636083312\n",
      "1.1 140618982391600\n",
      "3.1 140618982391632\n"
     ]
    }
   ],
   "source": [
    "res = 0.1 \n",
    "print(res, id(res))\n",
    "\n",
    "res += 1\n",
    "print(res, id(res))\n",
    "\n",
    "res += 2\n",
    "print(res, id(res))"
   ]
  },
  {
   "cell_type": "code",
   "execution_count": 57,
   "id": "d85efc9b",
   "metadata": {},
   "outputs": [
    {
     "name": "stdout",
     "output_type": "stream",
     "text": [
      "[] 140617908626560\n",
      "[1] 140617908626560\n",
      "[1, [2, 3]] 140617908626560\n"
     ]
    }
   ],
   "source": [
    "abc = []\n",
    "print(abc, id(abc))\n",
    "\n",
    "abc.append(1)\n",
    "print(abc, id(abc))\n",
    "\n",
    "abc.append([2,3])\n",
    "print(abc, id(abc))"
   ]
  },
  {
   "cell_type": "code",
   "execution_count": 58,
   "id": "67223192",
   "metadata": {},
   "outputs": [
    {
     "data": {
      "text/plain": [
       "'c'"
      ]
     },
     "execution_count": 58,
     "metadata": {},
     "output_type": "execute_result"
    }
   ],
   "source": [
    "s1 = 'abcdefg'\n"
   ]
  },
  {
   "cell_type": "code",
   "execution_count": 59,
   "id": "dd14f971",
   "metadata": {},
   "outputs": [
    {
     "ename": "TypeError",
     "evalue": "'str' object does not support item assignment",
     "output_type": "error",
     "traceback": [
      "\u001b[0;31m---------------------------------------------------------------------------\u001b[0m",
      "\u001b[0;31mTypeError\u001b[0m                                 Traceback (most recent call last)",
      "\u001b[0;32m/var/folders/qp/zbmlljzd6m33mg4gt0zdfwjryvxfkf/T/ipykernel_11476/573076647.py\u001b[0m in \u001b[0;36m<module>\u001b[0;34m\u001b[0m\n\u001b[0;32m----> 1\u001b[0;31m \u001b[0ms1\u001b[0m\u001b[0;34m[\u001b[0m\u001b[0;36m1\u001b[0m\u001b[0;34m:\u001b[0m\u001b[0;36m2\u001b[0m\u001b[0;34m]\u001b[0m \u001b[0;34m=\u001b[0m \u001b[0ms1\u001b[0m\u001b[0;34m[\u001b[0m\u001b[0;36m5\u001b[0m\u001b[0;34m:\u001b[0m\u001b[0;36m6\u001b[0m\u001b[0;34m]\u001b[0m\u001b[0;34m\u001b[0m\u001b[0;34m\u001b[0m\u001b[0m\n\u001b[0m",
      "\u001b[0;31mTypeError\u001b[0m: 'str' object does not support item assignment"
     ]
    }
   ],
   "source": [
    "s1[1:2] = s1[5:6]"
   ]
  },
  {
   "cell_type": "code",
   "execution_count": 60,
   "id": "527bee4f",
   "metadata": {},
   "outputs": [],
   "source": [
    "sss = list(s1)"
   ]
  },
  {
   "cell_type": "code",
   "execution_count": 61,
   "id": "973594bc",
   "metadata": {},
   "outputs": [
    {
     "data": {
      "text/plain": [
       "['a', 'b', 'c', 'd', 'e', 'f', 'g']"
      ]
     },
     "execution_count": 61,
     "metadata": {},
     "output_type": "execute_result"
    }
   ],
   "source": [
    "sss"
   ]
  },
  {
   "cell_type": "code",
   "execution_count": 62,
   "id": "f55bd292",
   "metadata": {},
   "outputs": [
    {
     "data": {
      "text/plain": [
       "'abcdefg'"
      ]
     },
     "execution_count": 62,
     "metadata": {},
     "output_type": "execute_result"
    }
   ],
   "source": [
    "s1"
   ]
  },
  {
   "cell_type": "code",
   "execution_count": 63,
   "id": "1bd9a32f",
   "metadata": {},
   "outputs": [
    {
     "ename": "AttributeError",
     "evalue": "'str' object has no attribute 'pop'",
     "output_type": "error",
     "traceback": [
      "\u001b[0;31m---------------------------------------------------------------------------\u001b[0m",
      "\u001b[0;31mAttributeError\u001b[0m                            Traceback (most recent call last)",
      "\u001b[0;32m/var/folders/qp/zbmlljzd6m33mg4gt0zdfwjryvxfkf/T/ipykernel_11476/4015975105.py\u001b[0m in \u001b[0;36m<module>\u001b[0;34m\u001b[0m\n\u001b[0;32m----> 1\u001b[0;31m \u001b[0ms1\u001b[0m\u001b[0;34m.\u001b[0m\u001b[0mpop\u001b[0m\u001b[0;34m(\u001b[0m\u001b[0;34m)\u001b[0m\u001b[0;34m\u001b[0m\u001b[0;34m\u001b[0m\u001b[0m\n\u001b[0m",
      "\u001b[0;31mAttributeError\u001b[0m: 'str' object has no attribute 'pop'"
     ]
    }
   ],
   "source": [
    "s1.pop()"
   ]
  },
  {
   "cell_type": "code",
   "execution_count": 64,
   "id": "77ba20ae",
   "metadata": {},
   "outputs": [
    {
     "data": {
      "text/plain": [
       "'g'"
      ]
     },
     "execution_count": 64,
     "metadata": {},
     "output_type": "execute_result"
    }
   ],
   "source": [
    "sss.pop()"
   ]
  },
  {
   "cell_type": "code",
   "execution_count": 65,
   "id": "f484e0b9",
   "metadata": {},
   "outputs": [
    {
     "ename": "ModuleNotFoundError",
     "evalue": "No module named 'collections.deque'",
     "output_type": "error",
     "traceback": [
      "\u001b[0;31m---------------------------------------------------------------------------\u001b[0m",
      "\u001b[0;31mModuleNotFoundError\u001b[0m                       Traceback (most recent call last)",
      "\u001b[0;32m/var/folders/qp/zbmlljzd6m33mg4gt0zdfwjryvxfkf/T/ipykernel_11476/2230755254.py\u001b[0m in \u001b[0;36m<module>\u001b[0;34m\u001b[0m\n\u001b[0;32m----> 1\u001b[0;31m \u001b[0;32mfrom\u001b[0m \u001b[0mcollections\u001b[0m\u001b[0;34m.\u001b[0m\u001b[0mdeque\u001b[0m \u001b[0;32mimport\u001b[0m \u001b[0mqueue\u001b[0m\u001b[0;34m\u001b[0m\u001b[0;34m\u001b[0m\u001b[0m\n\u001b[0m",
      "\u001b[0;31mModuleNotFoundError\u001b[0m: No module named 'collections.deque'"
     ]
    }
   ],
   "source": [
    "from collections.deque import queue"
   ]
  },
  {
   "cell_type": "code",
   "execution_count": 67,
   "id": "2b8c1d4d",
   "metadata": {},
   "outputs": [],
   "source": [
    "import collections \n",
    "queue = collections.deque()"
   ]
  },
  {
   "cell_type": "code",
   "execution_count": 74,
   "id": "49dc703e",
   "metadata": {},
   "outputs": [],
   "source": [
    "queue.append(0)\n",
    "queue.append(1)\n",
    "queue.append(2)\n"
   ]
  },
  {
   "cell_type": "code",
   "execution_count": 75,
   "id": "8f5790d8",
   "metadata": {},
   "outputs": [
    {
     "data": {
      "text/plain": [
       "deque([0, 1, 2])"
      ]
     },
     "execution_count": 75,
     "metadata": {},
     "output_type": "execute_result"
    }
   ],
   "source": [
    "queue"
   ]
  },
  {
   "cell_type": "code",
   "execution_count": 76,
   "id": "c9f11ed5",
   "metadata": {},
   "outputs": [
    {
     "data": {
      "text/plain": [
       "0"
      ]
     },
     "execution_count": 76,
     "metadata": {},
     "output_type": "execute_result"
    }
   ],
   "source": [
    "queue.popleft()"
   ]
  },
  {
   "cell_type": "code",
   "execution_count": 77,
   "id": "ff535917",
   "metadata": {},
   "outputs": [
    {
     "data": {
      "text/plain": [
       "2"
      ]
     },
     "execution_count": 77,
     "metadata": {},
     "output_type": "execute_result"
    }
   ],
   "source": [
    "queue.pop()"
   ]
  },
  {
   "cell_type": "code",
   "execution_count": 82,
   "id": "02dd5715",
   "metadata": {},
   "outputs": [],
   "source": [
    "hashmap = {4: 2, 2: 1, 3: 0}"
   ]
  },
  {
   "cell_type": "code",
   "execution_count": 83,
   "id": "930a22e5",
   "metadata": {},
   "outputs": [
    {
     "data": {
      "text/plain": [
       "{4: 2, 2: 1, 3: 0}"
      ]
     },
     "execution_count": 83,
     "metadata": {},
     "output_type": "execute_result"
    }
   ],
   "source": [
    "hashmap"
   ]
  },
  {
   "cell_type": "code",
   "execution_count": 84,
   "id": "91c2f0db",
   "metadata": {},
   "outputs": [
    {
     "data": {
      "text/plain": [
       "[2, 3, 4]"
      ]
     },
     "execution_count": 84,
     "metadata": {},
     "output_type": "execute_result"
    }
   ],
   "source": [
    "sorted(hashmap)"
   ]
  },
  {
   "cell_type": "code",
   "execution_count": 86,
   "id": "2e4cfdfd",
   "metadata": {},
   "outputs": [
    {
     "data": {
      "text/plain": [
       "dict_items([(4, 2), (2, 1), (3, 0)])"
      ]
     },
     "execution_count": 86,
     "metadata": {},
     "output_type": "execute_result"
    }
   ],
   "source": [
    "hashmap.items()"
   ]
  },
  {
   "cell_type": "code",
   "execution_count": 1,
   "id": "526bd185",
   "metadata": {},
   "outputs": [],
   "source": [
    "a = [[0,0],[2,0]]"
   ]
  },
  {
   "cell_type": "code",
   "execution_count": 2,
   "id": "a3391e2d",
   "metadata": {},
   "outputs": [
    {
     "data": {
      "text/plain": [
       "[[0, 0], [2, 0]]"
      ]
     },
     "execution_count": 2,
     "metadata": {},
     "output_type": "execute_result"
    }
   ],
   "source": [
    "a"
   ]
  },
  {
   "cell_type": "code",
   "execution_count": 3,
   "id": "f75245fc",
   "metadata": {},
   "outputs": [],
   "source": [
    "b = [[2,0],[0,0]]"
   ]
  },
  {
   "cell_type": "code",
   "execution_count": 4,
   "id": "05f9ca58",
   "metadata": {},
   "outputs": [
    {
     "data": {
      "text/plain": [
       "False"
      ]
     },
     "execution_count": 4,
     "metadata": {},
     "output_type": "execute_result"
    }
   ],
   "source": [
    "a == b"
   ]
  },
  {
   "cell_type": "code",
   "execution_count": null,
   "id": "513f250f",
   "metadata": {},
   "outputs": [],
   "source": []
  }
 ],
 "metadata": {
  "kernelspec": {
   "display_name": "Python 3 (ipykernel)",
   "language": "python",
   "name": "python3"
  },
  "language_info": {
   "codemirror_mode": {
    "name": "ipython",
    "version": 3
   },
   "file_extension": ".py",
   "mimetype": "text/x-python",
   "name": "python",
   "nbconvert_exporter": "python",
   "pygments_lexer": "ipython3",
   "version": "3.9.7"
  }
 },
 "nbformat": 4,
 "nbformat_minor": 5
}
