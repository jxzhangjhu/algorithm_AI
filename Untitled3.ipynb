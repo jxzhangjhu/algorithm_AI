{
 "cells": [
  {
   "cell_type": "code",
   "execution_count": 1,
   "id": "757f99c3",
   "metadata": {},
   "outputs": [],
   "source": [
    "s1 = '0110'\n",
    "s2 = '1001'"
   ]
  },
  {
   "cell_type": "code",
   "execution_count": 2,
   "id": "38dc774f",
   "metadata": {},
   "outputs": [],
   "source": [
    "s3 = s1 + s2"
   ]
  },
  {
   "cell_type": "code",
   "execution_count": 3,
   "id": "79ab65ae",
   "metadata": {},
   "outputs": [
    {
     "data": {
      "text/plain": [
       "'01101001'"
      ]
     },
     "execution_count": 3,
     "metadata": {},
     "output_type": "execute_result"
    }
   ],
   "source": [
    "s3"
   ]
  },
  {
   "cell_type": "code",
   "execution_count": 7,
   "id": "ab6402d0",
   "metadata": {},
   "outputs": [
    {
     "data": {
      "text/plain": [
       "'01101001'"
      ]
     },
     "execution_count": 7,
     "metadata": {},
     "output_type": "execute_result"
    }
   ],
   "source": []
  },
  {
   "cell_type": "code",
   "execution_count": 10,
   "id": "2b3e6914",
   "metadata": {},
   "outputs": [
    {
     "data": {
      "text/plain": [
       "0"
      ]
     },
     "execution_count": 10,
     "metadata": {},
     "output_type": "execute_result"
    }
   ],
   "source": [
    "int(s3[3])"
   ]
  },
  {
   "cell_type": "code",
   "execution_count": 11,
   "id": "1fd1cb65",
   "metadata": {},
   "outputs": [],
   "source": [
    "nums = [3,4,2,5,6]\n",
    "nums = [(numbers, index) for index, numbers in enumerate(nums)]"
   ]
  },
  {
   "cell_type": "code",
   "execution_count": 13,
   "id": "f58a670d",
   "metadata": {},
   "outputs": [],
   "source": [
    "nums.sort()"
   ]
  },
  {
   "cell_type": "code",
   "execution_count": 14,
   "id": "a96faf1d",
   "metadata": {},
   "outputs": [
    {
     "data": {
      "text/plain": [
       "[(2, 2), (3, 0), (4, 1), (5, 3), (6, 4)]"
      ]
     },
     "execution_count": 14,
     "metadata": {},
     "output_type": "execute_result"
    }
   ],
   "source": [
    "nums"
   ]
  },
  {
   "cell_type": "code",
   "execution_count": 15,
   "id": "b5c2a722",
   "metadata": {},
   "outputs": [
    {
     "data": {
      "text/plain": [
       "(2, 2)"
      ]
     },
     "execution_count": 15,
     "metadata": {},
     "output_type": "execute_result"
    }
   ],
   "source": [
    "nums[0]"
   ]
  },
  {
   "cell_type": "code",
   "execution_count": 1,
   "id": "b54b39d9",
   "metadata": {},
   "outputs": [],
   "source": [
    "ss = set()"
   ]
  },
  {
   "cell_type": "code",
   "execution_count": 2,
   "id": "e1c13c00",
   "metadata": {},
   "outputs": [],
   "source": [
    "ss.add('a')"
   ]
  },
  {
   "cell_type": "code",
   "execution_count": 3,
   "id": "880e9738",
   "metadata": {},
   "outputs": [
    {
     "data": {
      "text/plain": [
       "{'a'}"
      ]
     },
     "execution_count": 3,
     "metadata": {},
     "output_type": "execute_result"
    }
   ],
   "source": [
    "ss"
   ]
  },
  {
   "cell_type": "code",
   "execution_count": 4,
   "id": "f1ace69e",
   "metadata": {},
   "outputs": [],
   "source": [
    "ss.add('a')"
   ]
  },
  {
   "cell_type": "code",
   "execution_count": 5,
   "id": "e0c19030",
   "metadata": {},
   "outputs": [
    {
     "data": {
      "text/plain": [
       "{'a'}"
      ]
     },
     "execution_count": 5,
     "metadata": {},
     "output_type": "execute_result"
    }
   ],
   "source": [
    "ss"
   ]
  },
  {
   "cell_type": "code",
   "execution_count": 7,
   "id": "956b39cb",
   "metadata": {},
   "outputs": [],
   "source": [
    "ss.remove('a')"
   ]
  },
  {
   "cell_type": "code",
   "execution_count": 8,
   "id": "65c0a888",
   "metadata": {},
   "outputs": [
    {
     "data": {
      "text/plain": [
       "set()"
      ]
     },
     "execution_count": 8,
     "metadata": {},
     "output_type": "execute_result"
    }
   ],
   "source": [
    "ss"
   ]
  },
  {
   "cell_type": "code",
   "execution_count": 12,
   "id": "72b72ce2",
   "metadata": {},
   "outputs": [],
   "source": [
    "hashmap = {}\n",
    "tail = 'a'\n",
    "hashmap[tail] = hashmap.get(tail,0)+1\n"
   ]
  },
  {
   "cell_type": "code",
   "execution_count": 13,
   "id": "910b903a",
   "metadata": {},
   "outputs": [
    {
     "data": {
      "text/plain": [
       "{'a': 1}"
      ]
     },
     "execution_count": 13,
     "metadata": {},
     "output_type": "execute_result"
    }
   ],
   "source": [
    "hashmap"
   ]
  },
  {
   "cell_type": "code",
   "execution_count": null,
   "id": "689c86f6",
   "metadata": {},
   "outputs": [],
   "source": []
  },
  {
   "cell_type": "code",
   "execution_count": null,
   "id": "91f7c385",
   "metadata": {},
   "outputs": [],
   "source": []
  }
 ],
 "metadata": {
  "kernelspec": {
   "display_name": "Python 3 (ipykernel)",
   "language": "python",
   "name": "python3"
  },
  "language_info": {
   "codemirror_mode": {
    "name": "ipython",
    "version": 3
   },
   "file_extension": ".py",
   "mimetype": "text/x-python",
   "name": "python",
   "nbconvert_exporter": "python",
   "pygments_lexer": "ipython3",
   "version": "3.9.7"
  }
 },
 "nbformat": 4,
 "nbformat_minor": 5
}
