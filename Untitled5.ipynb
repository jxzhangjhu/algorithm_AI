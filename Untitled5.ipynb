{
 "cells": [
  {
   "cell_type": "code",
   "execution_count": 1,
   "id": "350f4bcb",
   "metadata": {},
   "outputs": [],
   "source": [
    "# 11133555 => True\n",
    "\n",
    "# 111333555 => False\n",
    "\n",
    "# 00000111 => Tru\n",
    "\n",
    "# Only have one pair of strings\n",
    "\n",
    "# 0 or multiple triples\n",
    "\n",
    "# 11133111555 => True\n",
    "\n",
    "# 111333555 => False\n",
    "\n",
    "# 00000111 => True\n",
    "\n",
    "# 110001 => false\n",
    "\n",
    "# 1100011 => false\n",
    "\n",
    "# 11000111 => true\n",
    "\n",
    "# 11 => true\n",
    "\n",
    "# 100011 => false"
   ]
  },
  {
   "cell_type": "code",
   "execution_count": 13,
   "id": "65df81d6",
   "metadata": {},
   "outputs": [
    {
     "name": "stdout",
     "output_type": "stream",
     "text": [
      "0\n",
      "1\n",
      "2\n"
     ]
    }
   ],
   "source": [
    "\n",
    "s = '1100011'\n",
    "\n",
    "n = len(s)\n",
    "left = 0\n",
    "right = n -1\n",
    "\n",
    "while left < right:\n",
    "    \n",
    "    if \n",
    "\n",
    "\n",
    "\n",
    "s = '11133555'\n",
    "news = []\n",
    "for num in s:\n",
    "    news.append(num)\n",
    "    \n",
    "    \n",
    "from collections import Counter\n",
    "hashmap = Counter(s)\n",
    "\n",
    "for key, value in enumerate(hashmap):\n",
    "    \n",
    "    print(key) \n",
    "\n"
   ]
  },
  {
   "cell_type": "code",
   "execution_count": 8,
   "id": "c2bddbf4",
   "metadata": {},
   "outputs": [
    {
     "data": {
      "text/plain": [
       "['1', '1', '1', '3', '3', '5', '5', '5']"
      ]
     },
     "execution_count": 8,
     "metadata": {},
     "output_type": "execute_result"
    }
   ],
   "source": [
    "news"
   ]
  },
  {
   "cell_type": "code",
   "execution_count": 17,
   "id": "cb390887",
   "metadata": {},
   "outputs": [
    {
     "name": "stdout",
     "output_type": "stream",
     "text": [
      "7\n"
     ]
    }
   ],
   "source": [
    "def diagonalsSum(mat):\n",
    "\n",
    "    n = len(mat)\n",
    "\n",
    "\n",
    "\n",
    "    mid = n // 2\n",
    "\n",
    "\n",
    "\n",
    "    summ = 0\n",
    "\n",
    "\n",
    "\n",
    "    for i in range(n):\n",
    "\n",
    "\n",
    "\n",
    "        ## primary diagonal??\n",
    "\n",
    "        summ += mat[i][i]\n",
    "\n",
    "\n",
    "\n",
    "        ## secondary diagonal??\n",
    "\n",
    "        summ += mat[n -1 -i][i]\n",
    "\n",
    "        if n % 2 == 1:\n",
    "\n",
    "            summ -= mat[mid][mid]\n",
    "\n",
    "\n",
    "\n",
    "    return summ\n",
    "\n",
    "\n",
    "\n",
    "mat = [[1,2,3], [0,-1,1], [1,2,1]]\n",
    "print(diagonalsSum(mat))"
   ]
  },
  {
   "cell_type": "code",
   "execution_count": null,
   "id": "613f6e1d",
   "metadata": {},
   "outputs": [],
   "source": []
  }
 ],
 "metadata": {
  "kernelspec": {
   "display_name": "Python 3 (ipykernel)",
   "language": "python",
   "name": "python3"
  },
  "language_info": {
   "codemirror_mode": {
    "name": "ipython",
    "version": 3
   },
   "file_extension": ".py",
   "mimetype": "text/x-python",
   "name": "python",
   "nbconvert_exporter": "python",
   "pygments_lexer": "ipython3",
   "version": "3.9.7"
  }
 },
 "nbformat": 4,
 "nbformat_minor": 5
}
