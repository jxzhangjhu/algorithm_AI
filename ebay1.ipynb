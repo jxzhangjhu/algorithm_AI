{
 "cells": [
  {
   "cell_type": "code",
   "execution_count": 1,
   "id": "b34571e3",
   "metadata": {},
   "outputs": [
    {
     "name": "stdout",
     "output_type": "stream",
     "text": [
      "1 2\n",
      "3 5\n",
      "6 7\n",
      "8 10\n",
      "12 16\n"
     ]
    }
   ],
   "source": [
    "intervals = [[1,2],[3,5],[6,7],[8,10],[12,16]]\n",
    "\n",
    "for lower, upper in intervals:\n",
    "    print(lower, upper)"
   ]
  },
  {
   "cell_type": "code",
   "execution_count": 2,
   "id": "a6e2d7c3",
   "metadata": {},
   "outputs": [],
   "source": [
    "matrix = [[0,1,2,0],[3,4,5,2],[1,3,1,5]]"
   ]
  },
  {
   "cell_type": "code",
   "execution_count": 4,
   "id": "8aa41d4d",
   "metadata": {},
   "outputs": [
    {
     "data": {
      "text/plain": [
       "4"
      ]
     },
     "execution_count": 4,
     "metadata": {},
     "output_type": "execute_result"
    }
   ],
   "source": [
    "len(matrix[0])"
   ]
  },
  {
   "cell_type": "code",
   "execution_count": 5,
   "id": "363bfb55",
   "metadata": {},
   "outputs": [
    {
     "ename": "SyntaxError",
     "evalue": "invalid character '，' (U+FF0C) (2872586989.py, line 6)",
     "output_type": "error",
     "traceback": [
      "\u001b[0;36m  File \u001b[0;32m\"/var/folders/qp/zbmlljzd6m33mg4gt0zdfwjryvxfkf/T/ipykernel_18157/2872586989.py\"\u001b[0;36m, line \u001b[0;32m6\u001b[0m\n\u001b[0;31m    for j in range(i + 1，n):\u001b[0m\n\u001b[0m                        ^\u001b[0m\n\u001b[0;31mSyntaxError\u001b[0m\u001b[0;31m:\u001b[0m invalid character '，' (U+FF0C)\n"
     ]
    }
   ],
   "source": [
    "nums = [1,2,3,1]\n",
    "k = 3\n",
    "t = 0\n",
    "n = len(nums)\n",
    "for i in range(n):\n",
    "    for j in range(i + 1，n):\n",
    "        if abs(nums[i] - nums[j]) <= t and abs(i - j) <= k:\n",
    "            return True\n",
    "        else:\n",
    "            return False "
   ]
  },
  {
   "cell_type": "code",
   "execution_count": 6,
   "id": "a303731a",
   "metadata": {},
   "outputs": [
    {
     "data": {
      "text/plain": [
       "'0->2'"
      ]
     },
     "execution_count": 6,
     "metadata": {},
     "output_type": "execute_result"
    }
   ],
   "source": [
    "'0' + '->' + '2'"
   ]
  },
  {
   "cell_type": "code",
   "execution_count": null,
   "id": "282308fb",
   "metadata": {},
   "outputs": [],
   "source": []
  }
 ],
 "metadata": {
  "kernelspec": {
   "display_name": "Python 3 (ipykernel)",
   "language": "python",
   "name": "python3"
  },
  "language_info": {
   "codemirror_mode": {
    "name": "ipython",
    "version": 3
   },
   "file_extension": ".py",
   "mimetype": "text/x-python",
   "name": "python",
   "nbconvert_exporter": "python",
   "pygments_lexer": "ipython3",
   "version": "3.9.7"
  }
 },
 "nbformat": 4,
 "nbformat_minor": 5
}
