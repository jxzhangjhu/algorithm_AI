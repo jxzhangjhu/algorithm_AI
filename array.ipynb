{
 "cells": [
  {
   "cell_type": "code",
   "execution_count": 2,
   "id": "08624a53",
   "metadata": {},
   "outputs": [
    {
     "data": {
      "text/plain": [
       "100000"
      ]
     },
     "execution_count": 2,
     "metadata": {},
     "output_type": "execute_result"
    }
   ],
   "source": [
    "10**5"
   ]
  },
  {
   "cell_type": "code",
   "execution_count": 3,
   "id": "226715e9",
   "metadata": {},
   "outputs": [
    {
     "data": {
      "text/plain": [
       "[0]"
      ]
     },
     "execution_count": 3,
     "metadata": {},
     "output_type": "execute_result"
    }
   ],
   "source": [
    "res = []\n",
    "res.append(0)\n",
    "res"
   ]
  },
  {
   "cell_type": "code",
   "execution_count": 4,
   "id": "1a8edd77",
   "metadata": {},
   "outputs": [],
   "source": [
    "res.append(0)\n",
    "res.append(0)"
   ]
  },
  {
   "cell_type": "code",
   "execution_count": 5,
   "id": "02f48035",
   "metadata": {},
   "outputs": [
    {
     "data": {
      "text/plain": [
       "[0, 0, 0]"
      ]
     },
     "execution_count": 5,
     "metadata": {},
     "output_type": "execute_result"
    }
   ],
   "source": [
    "res"
   ]
  },
  {
   "cell_type": "code",
   "execution_count": 6,
   "id": "40e15129",
   "metadata": {},
   "outputs": [],
   "source": [
    "res.append([0,0])"
   ]
  },
  {
   "cell_type": "code",
   "execution_count": 7,
   "id": "9ba88a57",
   "metadata": {},
   "outputs": [
    {
     "data": {
      "text/plain": [
       "[0, 0, 0, [0, 0]]"
      ]
     },
     "execution_count": 7,
     "metadata": {},
     "output_type": "execute_result"
    }
   ],
   "source": [
    "res"
   ]
  },
  {
   "cell_type": "code",
   "execution_count": 15,
   "id": "1f03d989",
   "metadata": {},
   "outputs": [
    {
     "name": "stdout",
     "output_type": "stream",
     "text": [
      "True\n",
      "True\n",
      "True\n",
      "[ 0.  0.  0.  0. nan]\n"
     ]
    },
    {
     "name": "stderr",
     "output_type": "stream",
     "text": [
      "/var/folders/qp/zbmlljzd6m33mg4gt0zdfwjryvxfkf/T/ipykernel_50610/405494890.py:3: RuntimeWarning: overflow encountered in exp\n",
      "  return np.exp(x)/np.sum(np.exp(x))\n",
      "/var/folders/qp/zbmlljzd6m33mg4gt0zdfwjryvxfkf/T/ipykernel_50610/405494890.py:3: RuntimeWarning: invalid value encountered in true_divide\n",
      "  return np.exp(x)/np.sum(np.exp(x))\n"
     ]
    }
   ],
   "source": [
    "import numpy as np\n",
    "def softmax(x):\n",
    "    return np.exp(x)/np.sum(np.exp(x))\n",
    "\n",
    "\n",
    "# softmax \n",
    "# [0,1] \n",
    "# sum 1 \n",
    "x = [1,2,3,4,6]\n",
    "res = softmax(x)\n",
    "print(res.min()>0)\n",
    "print(res.max()<1)\n",
    "print(sum(res) == 1)\n",
    "\n",
    "# step 3\n",
    "x = [1,2,3,4,1000000]\n",
    "res = softmax(x)\n",
    "print(res)\n",
    "\n",
    "# normalization [0,1]\n",
    "case 1(x - x.min)/(x.max-x.min)\n",
    "# standardation  [-mean,/std]\n",
    "case2 \n",
    "\n",
    "case0 \n",
    "\n"
   ]
  },
  {
   "cell_type": "code",
   "execution_count": 13,
   "id": "0c211d52",
   "metadata": {},
   "outputs": [
    {
     "data": {
      "text/plain": [
       "array([0.09003057, 0.24472847, 0.66524096])"
      ]
     },
     "execution_count": 13,
     "metadata": {},
     "output_type": "execute_result"
    }
   ],
   "source": [
    "x = [1,2,3]\n",
    "softmax(x)"
   ]
  },
  {
   "cell_type": "code",
   "execution_count": null,
   "id": "6bbbe18c",
   "metadata": {},
   "outputs": [],
   "source": [
    "def softmax(x):\n",
    "    res = 0\n",
    "    for i in x:\n",
    "        res += np.exp(x)\n",
    "    return exp(x)/res\n",
    "\n",
    "\n",
    "\n"
   ]
  },
  {
   "cell_type": "code",
   "execution_count": 18,
   "id": "b48c08be",
   "metadata": {},
   "outputs": [
    {
     "name": "stderr",
     "output_type": "stream",
     "text": [
      "/var/folders/qp/zbmlljzd6m33mg4gt0zdfwjryvxfkf/T/ipykernel_50610/3728522884.py:4: RuntimeWarning: overflow encountered in exp\n",
      "  f = np.sum(np.exp(x))\n",
      "/var/folders/qp/zbmlljzd6m33mg4gt0zdfwjryvxfkf/T/ipykernel_50610/3728522884.py:5: RuntimeWarning: overflow encountered in exp\n",
      "  return np.exp(x)/f\n",
      "/var/folders/qp/zbmlljzd6m33mg4gt0zdfwjryvxfkf/T/ipykernel_50610/3728522884.py:5: RuntimeWarning: invalid value encountered in true_divide\n",
      "  return np.exp(x)/f\n"
     ]
    },
    {
     "data": {
      "text/plain": [
       "array([ 0.,  0.,  0.,  0., nan])"
      ]
     },
     "execution_count": 18,
     "metadata": {},
     "output_type": "execute_result"
    }
   ],
   "source": [
    "import numpy as np\n",
    "def softmax(x):\n",
    "    \n",
    "    f = np.sum(np.exp(x))\n",
    "    return np.exp(x)/f\n",
    "\n",
    "x = [1,2,3,4,100000]\n",
    "softmax(x)"
   ]
  },
  {
   "cell_type": "code",
   "execution_count": 20,
   "id": "e6d5064b",
   "metadata": {},
   "outputs": [
    {
     "data": {
      "text/plain": [
       "array([0., 0., 0., 0., 1.])"
      ]
     },
     "execution_count": 20,
     "metadata": {},
     "output_type": "execute_result"
    }
   ],
   "source": [
    "import numpy as np\n",
    "def softmax(x):\n",
    "    \n",
    "    f = np.sum(np.exp(x))\n",
    "    return np.exp(x)/f\n",
    "\n",
    "x = [1,2,3,4,100000]\n",
    "softmax(x-np.max(x))"
   ]
  },
  {
   "cell_type": "code",
   "execution_count": 22,
   "id": "76ca0174",
   "metadata": {},
   "outputs": [
    {
     "data": {
      "text/plain": [
       "0.0"
      ]
     },
     "execution_count": 22,
     "metadata": {},
     "output_type": "execute_result"
    }
   ],
   "source": [
    "np.exp(-10000000)"
   ]
  },
  {
   "cell_type": "code",
   "execution_count": 24,
   "id": "fff3b512",
   "metadata": {},
   "outputs": [
    {
     "data": {
      "text/plain": [
       "[1, 3, 4, 5]"
      ]
     },
     "execution_count": 24,
     "metadata": {},
     "output_type": "execute_result"
    }
   ],
   "source": [
    "s = [1,5,3,4]\n",
    "sorted(s)"
   ]
  },
  {
   "cell_type": "code",
   "execution_count": 25,
   "id": "ea0a22b5",
   "metadata": {},
   "outputs": [],
   "source": [
    "a = [1,2,3,4]\n",
    "\n",
    "s = set(a)"
   ]
  },
  {
   "cell_type": "code",
   "execution_count": 26,
   "id": "4ac379de",
   "metadata": {},
   "outputs": [
    {
     "data": {
      "text/plain": [
       "{1, 2, 3, 4}"
      ]
     },
     "execution_count": 26,
     "metadata": {},
     "output_type": "execute_result"
    }
   ],
   "source": [
    "s"
   ]
  },
  {
   "cell_type": "code",
   "execution_count": 27,
   "id": "02780eea",
   "metadata": {},
   "outputs": [],
   "source": [
    "s = set(range(8))"
   ]
  },
  {
   "cell_type": "code",
   "execution_count": 28,
   "id": "3ada47b0",
   "metadata": {},
   "outputs": [
    {
     "data": {
      "text/plain": [
       "{0, 1, 2, 3, 4, 5, 6, 7}"
      ]
     },
     "execution_count": 28,
     "metadata": {},
     "output_type": "execute_result"
    }
   ],
   "source": [
    "s"
   ]
  },
  {
   "cell_type": "code",
   "execution_count": 2,
   "id": "c339917a",
   "metadata": {},
   "outputs": [
    {
     "name": "stdout",
     "output_type": "stream",
     "text": [
      "0 0 0\n",
      "0 1 0\n",
      "0 2 0\n",
      "0 3 1\n",
      "0 4 1\n",
      "0 5 1\n",
      "0 6 2\n",
      "0 7 2\n",
      "0 8 2\n",
      "1 0 0\n",
      "1 1 0\n",
      "1 2 0\n",
      "1 3 1\n",
      "1 4 1\n",
      "1 5 1\n",
      "1 6 2\n",
      "1 7 2\n",
      "1 8 2\n",
      "2 0 0\n",
      "2 1 0\n",
      "2 2 0\n",
      "2 3 1\n",
      "2 4 1\n",
      "2 5 1\n",
      "2 6 2\n",
      "2 7 2\n",
      "2 8 2\n",
      "3 0 3\n",
      "3 1 3\n",
      "3 2 3\n",
      "3 3 4\n",
      "3 4 4\n",
      "3 5 4\n",
      "3 6 5\n",
      "3 7 5\n",
      "3 8 5\n",
      "4 0 3\n",
      "4 1 3\n",
      "4 2 3\n",
      "4 3 4\n",
      "4 4 4\n",
      "4 5 4\n",
      "4 6 5\n",
      "4 7 5\n",
      "4 8 5\n",
      "5 0 3\n",
      "5 1 3\n",
      "5 2 3\n",
      "5 3 4\n",
      "5 4 4\n",
      "5 5 4\n",
      "5 6 5\n",
      "5 7 5\n",
      "5 8 5\n",
      "6 0 6\n",
      "6 1 6\n",
      "6 2 6\n",
      "6 3 7\n",
      "6 4 7\n",
      "6 5 7\n",
      "6 6 8\n",
      "6 7 8\n",
      "6 8 8\n",
      "7 0 6\n",
      "7 1 6\n",
      "7 2 6\n",
      "7 3 7\n",
      "7 4 7\n",
      "7 5 7\n",
      "7 6 8\n",
      "7 7 8\n",
      "7 8 8\n",
      "8 0 6\n",
      "8 1 6\n",
      "8 2 6\n",
      "8 3 7\n",
      "8 4 7\n",
      "8 5 7\n",
      "8 6 8\n",
      "8 7 8\n",
      "8 8 8\n"
     ]
    }
   ],
   "source": [
    "for r in range(9):\n",
    "    for c in range(9):\n",
    "        idx = (r // 3) * 3 + c // 3 #这个处理，不用单独写3x3\n",
    "        print(r,c,idx)\n",
    "        "
   ]
  },
  {
   "cell_type": "code",
   "execution_count": 3,
   "id": "0b725d77",
   "metadata": {},
   "outputs": [
    {
     "data": {
      "text/plain": [
       "0"
      ]
     },
     "execution_count": 3,
     "metadata": {},
     "output_type": "execute_result"
    }
   ],
   "source": [
    "1 //3"
   ]
  },
  {
   "cell_type": "code",
   "execution_count": 4,
   "id": "d92acc43",
   "metadata": {},
   "outputs": [
    {
     "data": {
      "text/plain": [
       "0"
      ]
     },
     "execution_count": 4,
     "metadata": {},
     "output_type": "execute_result"
    }
   ],
   "source": [
    "2 // 3"
   ]
  },
  {
   "cell_type": "code",
   "execution_count": 6,
   "id": "58a7d08b",
   "metadata": {},
   "outputs": [],
   "source": [
    "s = 123\n",
    "ss = str(s)"
   ]
  },
  {
   "cell_type": "code",
   "execution_count": 7,
   "id": "0c127bf5",
   "metadata": {},
   "outputs": [
    {
     "data": {
      "text/plain": [
       "'123'"
      ]
     },
     "execution_count": 7,
     "metadata": {},
     "output_type": "execute_result"
    }
   ],
   "source": [
    "ss"
   ]
  },
  {
   "cell_type": "code",
   "execution_count": 13,
   "id": "1721baae",
   "metadata": {},
   "outputs": [
    {
     "ename": "ValueError",
     "evalue": "empty separator",
     "output_type": "error",
     "traceback": [
      "\u001b[0;31m---------------------------------------------------------------------------\u001b[0m",
      "\u001b[0;31mValueError\u001b[0m                                Traceback (most recent call last)",
      "\u001b[0;32m/var/folders/qp/zbmlljzd6m33mg4gt0zdfwjryvxfkf/T/ipykernel_8814/3477253720.py\u001b[0m in \u001b[0;36m<module>\u001b[0;34m\u001b[0m\n\u001b[0;32m----> 1\u001b[0;31m \u001b[0mss\u001b[0m\u001b[0;34m.\u001b[0m\u001b[0msplit\u001b[0m\u001b[0;34m(\u001b[0m\u001b[0;34m''\u001b[0m\u001b[0;34m,\u001b[0m\u001b[0;36m1\u001b[0m\u001b[0;34m)\u001b[0m\u001b[0;34m\u001b[0m\u001b[0;34m\u001b[0m\u001b[0m\n\u001b[0m",
      "\u001b[0;31mValueError\u001b[0m: empty separator"
     ]
    }
   ],
   "source": [
    "ss.split('',1)"
   ]
  },
  {
   "cell_type": "code",
   "execution_count": 14,
   "id": "9d30b4b6",
   "metadata": {},
   "outputs": [
    {
     "data": {
      "text/plain": [
       "7"
      ]
     },
     "execution_count": 14,
     "metadata": {},
     "output_type": "execute_result"
    }
   ],
   "source": [
    "-123 %10"
   ]
  },
  {
   "cell_type": "code",
   "execution_count": 15,
   "id": "49f0df05",
   "metadata": {},
   "outputs": [
    {
     "data": {
      "text/plain": [
       "3"
      ]
     },
     "execution_count": 15,
     "metadata": {},
     "output_type": "execute_result"
    }
   ],
   "source": [
    "123 % 10"
   ]
  },
  {
   "cell_type": "code",
   "execution_count": 16,
   "id": "1f23a610",
   "metadata": {},
   "outputs": [
    {
     "data": {
      "text/plain": [
       "12"
      ]
     },
     "execution_count": 16,
     "metadata": {},
     "output_type": "execute_result"
    }
   ],
   "source": [
    "123 // 10"
   ]
  },
  {
   "cell_type": "code",
   "execution_count": 17,
   "id": "12e4f524",
   "metadata": {},
   "outputs": [],
   "source": [
    "s = \"A man, a plan, a canal: Panama\""
   ]
  },
  {
   "cell_type": "code",
   "execution_count": 18,
   "id": "60c9c181",
   "metadata": {},
   "outputs": [
    {
     "data": {
      "text/plain": [
       "'a man, a plan, a canal: panama'"
      ]
     },
     "execution_count": 18,
     "metadata": {},
     "output_type": "execute_result"
    }
   ],
   "source": [
    "s.lower()"
   ]
  },
  {
   "cell_type": "code",
   "execution_count": null,
   "id": "44c0c7b2",
   "metadata": {},
   "outputs": [],
   "source": []
  }
 ],
 "metadata": {
  "kernelspec": {
   "display_name": "Python 3 (ipykernel)",
   "language": "python",
   "name": "python3"
  },
  "language_info": {
   "codemirror_mode": {
    "name": "ipython",
    "version": 3
   },
   "file_extension": ".py",
   "mimetype": "text/x-python",
   "name": "python",
   "nbconvert_exporter": "python",
   "pygments_lexer": "ipython3",
   "version": "3.9.7"
  }
 },
 "nbformat": 4,
 "nbformat_minor": 5
}
