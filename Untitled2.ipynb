{
 "cells": [
  {
   "cell_type": "code",
   "execution_count": 11,
   "metadata": {},
   "outputs": [
    {
     "name": "stdout",
     "output_type": "stream",
     "text": [
      "test01: 4\n",
      "test01: 3\n",
      "test01: 2\n",
      "test01: 1\n",
      "test01: 0\n",
      "over\n",
      "test01*** 0\n",
      "test01*** 1\n",
      "test01*** 2\n",
      "test01*** 3\n",
      "test01*** 4\n"
     ]
    }
   ],
   "source": [
    "def test01(n):\n",
    "    print(\"test01:\", n)\n",
    "    if n == 0:\n",
    "        print('over')\n",
    "    else:\n",
    "        test01(n-1)\n",
    "#         test01(n+1)\n",
    "        \n",
    "    print(\"test01***\", n)\n",
    "    \n",
    "test01(4)"
   ]
  },
  {
   "cell_type": "code",
   "execution_count": 10,
   "metadata": {
    "scrolled": false
   },
   "outputs": [
    {
     "name": "stdout",
     "output_type": "stream",
     "text": [
      "test01: 4\n",
      "test01: 3\n",
      "test01: 2\n",
      "test01: 1\n",
      "test01: 0\n",
      "over\n",
      "test01*** 0\n",
      "test01: 0\n",
      "over\n",
      "test01*** 0\n",
      "test01*** 1\n",
      "test01: 1\n",
      "test01: 0\n",
      "over\n",
      "test01*** 0\n",
      "test01: 0\n",
      "over\n",
      "test01*** 0\n",
      "test01*** 1\n",
      "test01*** 2\n",
      "test01: 2\n",
      "test01: 1\n",
      "test01: 0\n",
      "over\n",
      "test01*** 0\n",
      "test01: 0\n",
      "over\n",
      "test01*** 0\n",
      "test01*** 1\n",
      "test01: 1\n",
      "test01: 0\n",
      "over\n",
      "test01*** 0\n",
      "test01: 0\n",
      "over\n",
      "test01*** 0\n",
      "test01*** 1\n",
      "test01*** 2\n",
      "test01*** 3\n",
      "test01: 3\n",
      "test01: 2\n",
      "test01: 1\n",
      "test01: 0\n",
      "over\n",
      "test01*** 0\n",
      "test01: 0\n",
      "over\n",
      "test01*** 0\n",
      "test01*** 1\n",
      "test01: 1\n",
      "test01: 0\n",
      "over\n",
      "test01*** 0\n",
      "test01: 0\n",
      "over\n",
      "test01*** 0\n",
      "test01*** 1\n",
      "test01*** 2\n",
      "test01: 2\n",
      "test01: 1\n",
      "test01: 0\n",
      "over\n",
      "test01*** 0\n",
      "test01: 0\n",
      "over\n",
      "test01*** 0\n",
      "test01*** 1\n",
      "test01: 1\n",
      "test01: 0\n",
      "over\n",
      "test01*** 0\n",
      "test01: 0\n",
      "over\n",
      "test01*** 0\n",
      "test01*** 1\n",
      "test01*** 2\n",
      "test01*** 3\n",
      "test01*** 4\n"
     ]
    }
   ],
   "source": [
    "def test01(n):\n",
    "    print(\"test01:\", n)\n",
    "    if n == 0:\n",
    "        print('over')\n",
    "    else:\n",
    "        test01(n-1)\n",
    "        test01(n-1)\n",
    "        \n",
    "    print(\"test01***\", n)\n",
    "    \n",
    "test01(4)"
   ]
  },
  {
   "cell_type": "code",
   "execution_count": 13,
   "metadata": {},
   "outputs": [
    {
     "name": "stdout",
     "output_type": "stream",
     "text": [
      "2\n",
      "3\n",
      "4\n"
     ]
    }
   ],
   "source": [
    "def get_num(num):\n",
    "    if num > 2:\n",
    "        get_num(num - 1)\n",
    "    print(num)\n",
    "    \n",
    "get_num(4)"
   ]
  },
  {
   "cell_type": "code",
   "execution_count": 16,
   "metadata": {},
   "outputs": [
    {
     "name": "stdout",
     "output_type": "stream",
     "text": [
      "run\n",
      "run\n",
      "run\n",
      "2\n",
      "num: 3\n",
      "num: 4\n"
     ]
    }
   ],
   "source": [
    "def get_num(num):\n",
    "    print('run')\n",
    "    if num > 2:\n",
    "        get_num(num - 1)\n",
    "        print('num:',num)\n",
    "    else:\n",
    "        print(num)\n",
    "    \n",
    "get_num(4)"
   ]
  },
  {
   "cell_type": "code",
   "execution_count": 21,
   "metadata": {},
   "outputs": [
    {
     "name": "stdout",
     "output_type": "stream",
     "text": [
      "[[3]]\n",
      "None\n",
      "None\n"
     ]
    }
   ],
   "source": [
    "def full(list):\n",
    "    if list is None:\n",
    "        return None\n",
    "    if len(list) == 1:\n",
    "        return [list]\n",
    "    res = []\n",
    "    pivot = list[0]\n",
    "    remain = full(list[1:])\n",
    "#     return remain\n",
    "    print(remain)\n",
    "    \n",
    "print(full([1,2,3]))"
   ]
  },
  {
   "cell_type": "code",
   "execution_count": 18,
   "metadata": {},
   "outputs": [
    {
     "data": {
      "text/plain": [
       "3"
      ]
     },
     "execution_count": 18,
     "metadata": {},
     "output_type": "execute_result"
    }
   ],
   "source": [
    "len([1,2,3])"
   ]
  },
  {
   "cell_type": "code",
   "execution_count": null,
   "metadata": {},
   "outputs": [],
   "source": []
  }
 ],
 "metadata": {
  "kernelspec": {
   "display_name": "Python 3",
   "language": "python",
   "name": "python3"
  },
  "language_info": {
   "codemirror_mode": {
    "name": "ipython",
    "version": 3
   },
   "file_extension": ".py",
   "mimetype": "text/x-python",
   "name": "python",
   "nbconvert_exporter": "python",
   "pygments_lexer": "ipython3",
   "version": "3.7.6"
  }
 },
 "nbformat": 4,
 "nbformat_minor": 4
}
