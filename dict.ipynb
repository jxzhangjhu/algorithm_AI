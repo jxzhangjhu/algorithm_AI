{
 "cells": [
  {
   "cell_type": "code",
   "execution_count": 8,
   "id": "dc3795cf",
   "metadata": {},
   "outputs": [],
   "source": [
    "dict2 = dict(zip(['a','b'], [2,3]))"
   ]
  },
  {
   "cell_type": "code",
   "execution_count": 9,
   "id": "badd8164",
   "metadata": {},
   "outputs": [
    {
     "data": {
      "text/plain": [
       "{'a': 2, 'b': 3}"
      ]
     },
     "execution_count": 9,
     "metadata": {},
     "output_type": "execute_result"
    }
   ],
   "source": [
    "dict2"
   ]
  },
  {
   "cell_type": "code",
   "execution_count": 10,
   "id": "6d893935",
   "metadata": {},
   "outputs": [
    {
     "data": {
      "text/plain": [
       "2"
      ]
     },
     "execution_count": 10,
     "metadata": {},
     "output_type": "execute_result"
    }
   ],
   "source": [
    "dict2['a']"
   ]
  },
  {
   "cell_type": "code",
   "execution_count": 11,
   "id": "9630c1f2",
   "metadata": {},
   "outputs": [
    {
     "data": {
      "text/plain": [
       "3"
      ]
     },
     "execution_count": 11,
     "metadata": {},
     "output_type": "execute_result"
    }
   ],
   "source": [
    "dict2['b']"
   ]
  },
  {
   "cell_type": "code",
   "execution_count": 12,
   "id": "0cc48d2b",
   "metadata": {},
   "outputs": [],
   "source": [
    "dict1 = {}\n",
    "dict2 = {'spam':2, 'egg':3, 'food':{'ham':1, 'ice':2}}\n",
    "dict3 = dict(zip(['spam','egg'], [2,3]))"
   ]
  },
  {
   "cell_type": "code",
   "execution_count": 13,
   "id": "5288eea5",
   "metadata": {},
   "outputs": [],
   "source": [
    "dict4 = {100:2,200:3}"
   ]
  },
  {
   "cell_type": "code",
   "execution_count": 14,
   "id": "bbabc329",
   "metadata": {},
   "outputs": [
    {
     "data": {
      "text/plain": [
       "2"
      ]
     },
     "execution_count": 14,
     "metadata": {},
     "output_type": "execute_result"
    }
   ],
   "source": [
    "dict4[100]"
   ]
  },
  {
   "cell_type": "code",
   "execution_count": 15,
   "id": "6e9f6eb3",
   "metadata": {},
   "outputs": [],
   "source": [
    "dict1[2]=4"
   ]
  },
  {
   "cell_type": "code",
   "execution_count": 16,
   "id": "786c4de4",
   "metadata": {},
   "outputs": [
    {
     "data": {
      "text/plain": [
       "{2: 4}"
      ]
     },
     "execution_count": 16,
     "metadata": {},
     "output_type": "execute_result"
    }
   ],
   "source": [
    "dict1"
   ]
  },
  {
   "cell_type": "code",
   "execution_count": 17,
   "id": "ed7d0683",
   "metadata": {},
   "outputs": [],
   "source": [
    "dict1.update(dict2)"
   ]
  },
  {
   "cell_type": "code",
   "execution_count": 42,
   "id": "9d656b79",
   "metadata": {},
   "outputs": [
    {
     "data": {
      "text/plain": [
       "{}"
      ]
     },
     "execution_count": 42,
     "metadata": {},
     "output_type": "execute_result"
    }
   ],
   "source": [
    "dict1"
   ]
  },
  {
   "cell_type": "code",
   "execution_count": 41,
   "id": "c0c21dc1",
   "metadata": {},
   "outputs": [
    {
     "data": {
      "text/plain": [
       "{}"
      ]
     },
     "execution_count": 41,
     "metadata": {},
     "output_type": "execute_result"
    }
   ],
   "source": [
    "dict1"
   ]
  },
  {
   "cell_type": "code",
   "execution_count": 39,
   "id": "39e19378",
   "metadata": {},
   "outputs": [
    {
     "data": {
      "text/plain": [
       "-100"
      ]
     },
     "execution_count": 39,
     "metadata": {},
     "output_type": "execute_result"
    }
   ],
   "source": [
    "dict1.get('spam',-100)"
   ]
  },
  {
   "cell_type": "code",
   "execution_count": 21,
   "id": "a6dc37e3",
   "metadata": {},
   "outputs": [
    {
     "data": {
      "text/plain": [
       "-100"
      ]
     },
     "execution_count": 21,
     "metadata": {},
     "output_type": "execute_result"
    }
   ],
   "source": [
    "dict1.get('spmm',-100)"
   ]
  },
  {
   "cell_type": "code",
   "execution_count": 22,
   "id": "ff046dc5",
   "metadata": {},
   "outputs": [
    {
     "data": {
      "text/plain": [
       "dict_keys([2, 'spam', 'egg', 'food'])"
      ]
     },
     "execution_count": 22,
     "metadata": {},
     "output_type": "execute_result"
    }
   ],
   "source": [
    "dict1.keys()"
   ]
  },
  {
   "cell_type": "code",
   "execution_count": 23,
   "id": "eb1bb415",
   "metadata": {},
   "outputs": [
    {
     "data": {
      "text/plain": [
       "[2, 'spam', 'egg', 'food']"
      ]
     },
     "execution_count": 23,
     "metadata": {},
     "output_type": "execute_result"
    }
   ],
   "source": [
    "list(dict1.keys())"
   ]
  },
  {
   "cell_type": "code",
   "execution_count": 24,
   "id": "14b57e77",
   "metadata": {},
   "outputs": [
    {
     "data": {
      "text/plain": [
       "dict_values([4, 2, 3, {'ham': 1, 'ice': 2}])"
      ]
     },
     "execution_count": 24,
     "metadata": {},
     "output_type": "execute_result"
    }
   ],
   "source": [
    "dict1.values()"
   ]
  },
  {
   "cell_type": "code",
   "execution_count": 25,
   "id": "81c0cf14",
   "metadata": {},
   "outputs": [
    {
     "data": {
      "text/plain": [
       "[4, 2, 3, {'ham': 1, 'ice': 2}]"
      ]
     },
     "execution_count": 25,
     "metadata": {},
     "output_type": "execute_result"
    }
   ],
   "source": [
    "list(dict1.values())"
   ]
  },
  {
   "cell_type": "code",
   "execution_count": 26,
   "id": "8e2b58df",
   "metadata": {},
   "outputs": [
    {
     "name": "stdout",
     "output_type": "stream",
     "text": [
      "2 4\n",
      "spam 2\n",
      "egg 3\n",
      "food {'ham': 1, 'ice': 2}\n"
     ]
    }
   ],
   "source": [
    "# 遍历\n",
    "\n",
    "for key in dict1:\n",
    "    print(key, dict1[key])"
   ]
  },
  {
   "cell_type": "code",
   "execution_count": 27,
   "id": "8c3ea12f",
   "metadata": {},
   "outputs": [
    {
     "name": "stdout",
     "output_type": "stream",
     "text": [
      "2 4\n",
      "spam 2\n",
      "egg 3\n",
      "food {'ham': 1, 'ice': 2}\n"
     ]
    }
   ],
   "source": [
    "for (key, value) in dict1.items(): # 更常用\n",
    "    print(key, value)"
   ]
  },
  {
   "cell_type": "code",
   "execution_count": 28,
   "id": "c858b73f",
   "metadata": {},
   "outputs": [
    {
     "data": {
      "text/plain": [
       "{2: 4, 'spam': 2, 'egg': 3, 'food': {'ham': 1, 'ice': 2}}"
      ]
     },
     "execution_count": 28,
     "metadata": {},
     "output_type": "execute_result"
    }
   ],
   "source": [
    "# update\n",
    "\n",
    "dict1"
   ]
  },
  {
   "cell_type": "code",
   "execution_count": 29,
   "id": "3d212ea9",
   "metadata": {},
   "outputs": [],
   "source": [
    "dict1['egg'] = 100"
   ]
  },
  {
   "cell_type": "code",
   "execution_count": 30,
   "id": "d819928f",
   "metadata": {},
   "outputs": [
    {
     "data": {
      "text/plain": [
       "{2: 4, 'spam': 2, 'egg': 100, 'food': {'ham': 1, 'ice': 2}}"
      ]
     },
     "execution_count": 30,
     "metadata": {},
     "output_type": "execute_result"
    }
   ],
   "source": [
    "dict1"
   ]
  },
  {
   "cell_type": "code",
   "execution_count": 31,
   "id": "2fba7a04",
   "metadata": {},
   "outputs": [
    {
     "data": {
      "text/plain": [
       "100"
      ]
     },
     "execution_count": 31,
     "metadata": {},
     "output_type": "execute_result"
    }
   ],
   "source": [
    "# pop delete\n",
    "\n",
    "dict1.pop('egg')"
   ]
  },
  {
   "cell_type": "code",
   "execution_count": 32,
   "id": "bfd9e4ed",
   "metadata": {},
   "outputs": [
    {
     "data": {
      "text/plain": [
       "{2: 4, 'spam': 2, 'food': {'ham': 1, 'ice': 2}}"
      ]
     },
     "execution_count": 32,
     "metadata": {},
     "output_type": "execute_result"
    }
   ],
   "source": [
    "dict1"
   ]
  },
  {
   "cell_type": "code",
   "execution_count": 33,
   "id": "927408b2",
   "metadata": {},
   "outputs": [],
   "source": [
    "del dict1['spam']"
   ]
  },
  {
   "cell_type": "code",
   "execution_count": 34,
   "id": "916d2c40",
   "metadata": {},
   "outputs": [
    {
     "data": {
      "text/plain": [
       "{2: 4, 'food': {'ham': 1, 'ice': 2}}"
      ]
     },
     "execution_count": 34,
     "metadata": {},
     "output_type": "execute_result"
    }
   ],
   "source": [
    "dict1"
   ]
  },
  {
   "cell_type": "code",
   "execution_count": 35,
   "id": "52bdc25b",
   "metadata": {},
   "outputs": [
    {
     "data": {
      "text/plain": [
       "2"
      ]
     },
     "execution_count": 35,
     "metadata": {},
     "output_type": "execute_result"
    }
   ],
   "source": [
    "len(dict1)"
   ]
  },
  {
   "cell_type": "code",
   "execution_count": 43,
   "id": "8e44c3c5",
   "metadata": {},
   "outputs": [],
   "source": [
    "target = 'abcdeddbac'\n",
    "dict1 = {}\n",
    "target_counter = {}\n",
    "for i in range(len(target)):\n",
    "    target_counter[target[i]] = target_counter.get(target[i],0)+1"
   ]
  },
  {
   "cell_type": "code",
   "execution_count": 44,
   "id": "9cdc7978",
   "metadata": {},
   "outputs": [
    {
     "data": {
      "text/plain": [
       "{'a': 2, 'b': 2, 'c': 2, 'd': 3, 'e': 1}"
      ]
     },
     "execution_count": 44,
     "metadata": {},
     "output_type": "execute_result"
    }
   ],
   "source": [
    "target_counter"
   ]
  },
  {
   "cell_type": "code",
   "execution_count": 45,
   "id": "bae9f1f3",
   "metadata": {},
   "outputs": [
    {
     "data": {
      "text/plain": [
       "2"
      ]
     },
     "execution_count": 45,
     "metadata": {},
     "output_type": "execute_result"
    }
   ],
   "source": [
    "target_counter.get('a',-100)"
   ]
  },
  {
   "cell_type": "code",
   "execution_count": 1,
   "id": "a121d61c",
   "metadata": {},
   "outputs": [],
   "source": [
    "from collections import Counter\n",
    "target = 'abcdeddbac'\n",
    "s = Counter(target)\n",
    "Counter({'a': 2, 'b': 2, 'c': 2, 'd': 3, 'e': 1})"
   ]
  },
  {
   "cell_type": "code",
   "execution_count": 2,
   "id": "e47c61d7",
   "metadata": {},
   "outputs": [],
   "source": [
    "s = Counter(target)"
   ]
  },
  {
   "cell_type": "code",
   "execution_count": 4,
   "id": "d9040bb3",
   "metadata": {},
   "outputs": [
    {
     "data": {
      "text/plain": [
       "2"
      ]
     },
     "execution_count": 4,
     "metadata": {},
     "output_type": "execute_result"
    }
   ],
   "source": [
    "s['a']"
   ]
  },
  {
   "cell_type": "code",
   "execution_count": null,
   "id": "4d04ccc3",
   "metadata": {},
   "outputs": [],
   "source": []
  }
 ],
 "metadata": {
  "kernelspec": {
   "display_name": "Python 3 (ipykernel)",
   "language": "python",
   "name": "python3"
  },
  "language_info": {
   "codemirror_mode": {
    "name": "ipython",
    "version": 3
   },
   "file_extension": ".py",
   "mimetype": "text/x-python",
   "name": "python",
   "nbconvert_exporter": "python",
   "pygments_lexer": "ipython3",
   "version": "3.9.7"
  }
 },
 "nbformat": 4,
 "nbformat_minor": 5
}
