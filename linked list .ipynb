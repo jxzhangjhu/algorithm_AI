{
 "cells": [
  {
   "cell_type": "code",
   "execution_count": 3,
   "id": "1c0bc6dc",
   "metadata": {},
   "outputs": [],
   "source": [
    "# coding=utf-8\n",
    "# case 1 \n",
    "\n",
    "class ListNode:\n",
    "\n",
    "    def __init__(self, val):\n",
    "        self.val = val\n",
    "        self.next = None # none is object, 全局为1， 不知道如何赋值，不能不赋值, 特殊对象\n",
    "\n",
    "\n",
    "def build_linkedlist():\n",
    "    print('Build linked list')\n",
    "    node_1 = ListNode(1)\n",
    "    node_2 = ListNode(3)\n",
    "    node_3 = ListNode(5)\n",
    "    node_4 = ListNode(7)\n",
    "\n",
    "    node_1.next = node_2\n",
    "    node_2.next = node_3\n",
    "    node_3.next = node_4\n",
    "\n",
    "    return node_1"
   ]
  },
  {
   "cell_type": "code",
   "execution_count": 9,
   "id": "14bddf7f",
   "metadata": {},
   "outputs": [
    {
     "ename": "AttributeError",
     "evalue": "'function' object has no attribute 'val'",
     "output_type": "error",
     "traceback": [
      "\u001b[0;31m---------------------------------------------------------------------------\u001b[0m",
      "\u001b[0;31mAttributeError\u001b[0m                            Traceback (most recent call last)",
      "\u001b[0;32m/var/folders/qp/zbmlljzd6m33mg4gt0zdfwjryvxfkf/T/ipykernel_56583/791560969.py\u001b[0m in \u001b[0;36m<module>\u001b[0;34m\u001b[0m\n\u001b[1;32m      1\u001b[0m \u001b[0ms\u001b[0m \u001b[0;34m=\u001b[0m \u001b[0mbuild_linkedlist\u001b[0m\u001b[0;34m\u001b[0m\u001b[0;34m\u001b[0m\u001b[0m\n\u001b[0;32m----> 2\u001b[0;31m \u001b[0mprint\u001b[0m\u001b[0;34m(\u001b[0m\u001b[0ms\u001b[0m\u001b[0;34m.\u001b[0m\u001b[0mval\u001b[0m\u001b[0;34m(\u001b[0m\u001b[0;34m)\u001b[0m\u001b[0;34m)\u001b[0m\u001b[0;34m\u001b[0m\u001b[0;34m\u001b[0m\u001b[0m\n\u001b[0m",
      "\u001b[0;31mAttributeError\u001b[0m: 'function' object has no attribute 'val'"
     ]
    }
   ],
   "source": [
    "s = build_linkedlist\n",
    "#"
   ]
  },
  {
   "cell_type": "code",
   "execution_count": 14,
   "id": "2286bd27",
   "metadata": {},
   "outputs": [
    {
     "name": "stdout",
     "output_type": "stream",
     "text": [
      "LinkedList quiz 3\n",
      "1 5 7 \n",
      "\n"
     ]
    }
   ],
   "source": [
    "# coding=utf-8\n",
    "# case 1 \n",
    "\n",
    "class ListNode:\n",
    "\n",
    "    def __init__(self, val):\n",
    "        self.val = val\n",
    "        self.next = None # none is object, 全局为1， 不知道如何赋值，不能不赋值, 特殊对象\n",
    "\n",
    "\n",
    "def build_linkedlist():\n",
    "    print('Build linked list')\n",
    "    node_1 = ListNode(1)\n",
    "    node_2 = ListNode(3)\n",
    "    node_3 = ListNode(5)\n",
    "    node_4 = ListNode(7)\n",
    "\n",
    "    node_1.next = node_2\n",
    "    node_2.next = node_3\n",
    "    node_3.next = node_4\n",
    "\n",
    "    return node_1\n",
    "\n",
    "\n",
    "def run_linkedlist_example():\n",
    "    print('LinkedList example')\n",
    "    node_1 = ListNode(1)\n",
    "    node_2 = ListNode(3)\n",
    "    node_3 = ListNode(5)\n",
    "    node_4 = ListNode(7)\n",
    "\n",
    "    node_1.next = node_2\n",
    "    node_2.next = node_3\n",
    "    node_3.next = node_4\n",
    "\n",
    "    cur = node_1\n",
    "    while cur is not None: # none is object have to use is not ==\n",
    "        print(cur.val, end=' ')\n",
    "        cur = cur.next\n",
    "        print(id(cur))\n",
    "    print('\\n')\n",
    "\n",
    "\n",
    "def run_linkedlist_quiz_1():\n",
    "    print('LinkedList quiz 1')\n",
    "    node_1 = ListNode(1)\n",
    "    node_2 = ListNode(3)\n",
    "    node_3 = ListNode(5)\n",
    "    node_4 = ListNode(7)\n",
    "\n",
    "    node_1.next = node_2\n",
    "    node_2.next = node_3\n",
    "    node_3.next = node_4\n",
    "\n",
    "    node_2 = node_3\n",
    "\n",
    "    cur = node_1\n",
    "    while cur is not None:\n",
    "        print(cur.val, end=' ')\n",
    "        cur = cur.next\n",
    "        print(id(cur))\n",
    "    print('\\n')\n",
    "\n",
    "\n",
    "def run_linkedlist_quiz_2():\n",
    "    print('LinkedList quiz 2')\n",
    "    node_1 = ListNode(1)\n",
    "    node_2 = ListNode(3)\n",
    "    node_3 = ListNode(5)\n",
    "    node_4 = ListNode(7)\n",
    "\n",
    "    node_1.next = node_2\n",
    "    node_2.next = node_3\n",
    "    node_3.next = node_4\n",
    "\n",
    "    node_1 = node_2\n",
    "\n",
    "    cur = node_1\n",
    "    while cur is not None:\n",
    "        print(cur.val, end=' ')\n",
    "        cur = cur.next\n",
    "    print('\\n')\n",
    "\n",
    "\n",
    "def run_linkedlist_quiz_3():\n",
    "    print('LinkedList quiz 3')\n",
    "    node_1 = ListNode(1)\n",
    "    node_2 = ListNode(3)\n",
    "    node_3 = ListNode(5)\n",
    "    node_4 = ListNode(7)\n",
    "\n",
    "    node_1.next = node_2\n",
    "    node_2.next = node_3\n",
    "    node_3.next = node_4\n",
    "\n",
    "    node_1.next = node_3\n",
    "\n",
    "    cur = node_1\n",
    "    while cur is not None:\n",
    "        print(cur.val, end=' ')\n",
    "        cur = cur.next\n",
    "    print('\\n')\n",
    "\n",
    "\n",
    "if __name__ == '__main__':\n",
    "    run_linkedlist_quiz_3()\n"
   ]
  },
  {
   "cell_type": "code",
   "execution_count": 15,
   "id": "373dbaf7",
   "metadata": {},
   "outputs": [
    {
     "name": "stdout",
     "output_type": "stream",
     "text": [
      "LinkedList example\n",
      "1 140473757240240\n",
      "3 140473757239616\n",
      "5 140473757239952\n",
      "7 4496014288\n",
      "\n",
      "\n"
     ]
    }
   ],
   "source": [
    "run_linkedlist_example()"
   ]
  },
  {
   "cell_type": "code",
   "execution_count": 16,
   "id": "1aa1bb61",
   "metadata": {},
   "outputs": [
    {
     "name": "stdout",
     "output_type": "stream",
     "text": [
      "LinkedList quiz 1\n",
      "1 140473757241008\n",
      "3 140473757239040\n",
      "5 140473757241104\n",
      "7 4496014288\n",
      "\n",
      "\n"
     ]
    }
   ],
   "source": [
    "run_linkedlist_quiz_1()"
   ]
  },
  {
   "cell_type": "code",
   "execution_count": 17,
   "id": "90b0c5fe",
   "metadata": {},
   "outputs": [
    {
     "name": "stdout",
     "output_type": "stream",
     "text": [
      "LinkedList quiz 2\n",
      "3 5 7 \n",
      "\n"
     ]
    }
   ],
   "source": [
    "run_linkedlist_quiz_2()"
   ]
  },
  {
   "cell_type": "code",
   "execution_count": 18,
   "id": "c4ee0122",
   "metadata": {},
   "outputs": [
    {
     "name": "stdout",
     "output_type": "stream",
     "text": [
      "LinkedList quiz 3\n",
      "1 5 7 \n",
      "\n"
     ]
    }
   ],
   "source": [
    "run_linkedlist_quiz_3()"
   ]
  },
  {
   "cell_type": "code",
   "execution_count": null,
   "id": "5c427bda",
   "metadata": {},
   "outputs": [],
   "source": [
    "# case 2  - CRUD "
   ]
  },
  {
   "cell_type": "code",
   "execution_count": 22,
   "id": "16242894",
   "metadata": {},
   "outputs": [
    {
     "name": "stdout",
     "output_type": "stream",
     "text": [
      "3\n",
      "7\n"
     ]
    }
   ],
   "source": [
    "# coding=utf-8\n",
    "\n",
    "\n",
    "class ListNode:\n",
    "\n",
    "    def __init__(self, val):\n",
    "        self.val = val\n",
    "        self.next = None\n",
    "\n",
    "\n",
    "class MyLinkedList:\n",
    "\n",
    "    def __init__(self):\n",
    "        self.head = None # linked list head reference 头结点， 只给头结点，做链表操作\n",
    "\n",
    "    def get(self, location):\n",
    "        cur = self.head\n",
    "        for i in range(location):\n",
    "            cur = cur.next\n",
    "        return cur.val\n",
    "\n",
    "    def add(self, location, val):\n",
    "        if location > 0:\n",
    "            pre = self.head\n",
    "            for i in range(location - 1):\n",
    "                pre = pre.next\n",
    "            new_node = ListNode(val) # adding a new node \n",
    "            new_node.next = pre.next\n",
    "            pre.next = new_node\n",
    "        elif location == 0:\n",
    "            new_node = ListNode(val)\n",
    "            new_node.next = self.head\n",
    "            self.head = new_node\n",
    "\n",
    "    def set(self, location, val): # 修改， update\n",
    "        cur = self.head\n",
    "        for i in range(location):\n",
    "            cur = cur.next\n",
    "        cur.val = val\n",
    "\n",
    "    def remove(self, location): # similar as adding operator\n",
    "        if location > 0:\n",
    "            pre = self.head\n",
    "            for i in range(location - 1):\n",
    "                pre = pre.next\n",
    "\n",
    "            pre.next = pre.next.next\n",
    "\n",
    "        elif location == 0:\n",
    "            self.head = self.head.next\n",
    "\n",
    "    def traverse(self):\n",
    "        cur = self.head\n",
    "        while cur is not None:\n",
    "            print(cur.val, end=' ')\n",
    "            cur = cur.next\n",
    "        print()\n",
    "\n",
    "    def is_empty(self):\n",
    "        return self.head is None\n",
    "\n",
    "\n",
    "if __name__ == '__main__':\n",
    "    ll = MyLinkedList()\n",
    "    ll.add(0, 1)\n",
    "    ll.add(1, 3)\n",
    "    ll.add(2, 5)\n",
    "    ll.add(3, 7)\n",
    "\n",
    "#     ll.add(0, 9)\n",
    "#     ll.add(1, 100)\n",
    "#     ll.traverse()\n",
    "\n",
    "    print(ll.get(1))\n",
    "    print(ll.get(3))\n",
    "\n",
    "#     ll.set(0, -100)\n",
    "#     ll.set(2, 32)\n",
    "#     ll.traverse()\n",
    "\n",
    "#     ll.remove(2)\n",
    "#     ll.traverse()\n"
   ]
  },
  {
   "cell_type": "code",
   "execution_count": 2,
   "id": "93bf89aa",
   "metadata": {},
   "outputs": [
    {
     "name": "stdout",
     "output_type": "stream",
     "text": [
      "1\n",
      "2\n"
     ]
    }
   ],
   "source": [
    "class Node(object):\n",
    "    \"\"\"单链表的结点\"\"\"\n",
    "\n",
    "    def __init__(self, item):\n",
    "        # item存放数据元素\n",
    "        self.item = item\n",
    "        # next是下一个节点的标识\n",
    "        self.next = None\n",
    "class SingleLinkList(object):\n",
    "    \"\"\"单链表\"\"\"\n",
    "\n",
    "    def __init__(self):\n",
    "        self._head = None\n",
    "        \n",
    "if __name__ == '__main__':\n",
    "    # 创建链表\n",
    "    link_list = SingleLinkList()\n",
    "    # 创建结点\n",
    "    node1 = Node(1)\n",
    "    node2 = Node(2)\n",
    "\n",
    "    # 将结点添加到链表\n",
    "    link_list._head = node1\n",
    "    # 将第一个结点的next指针指向下一结点\n",
    "    node1.next = node2\n",
    "\n",
    "    # 访问链表\n",
    "    print(link_list._head.item)  # 访问第一个结点数据\n",
    "    print(link_list._head.next.item)  # 访问第二个结点数据"
   ]
  },
  {
   "cell_type": "code",
   "execution_count": 5,
   "id": "559d9813",
   "metadata": {},
   "outputs": [
    {
     "data": {
      "text/plain": [
       "<__main__.Node at 0x7fcb80127970>"
      ]
     },
     "execution_count": 5,
     "metadata": {},
     "output_type": "execute_result"
    }
   ],
   "source": []
  },
  {
   "cell_type": "code",
   "execution_count": null,
   "id": "0e1de10c",
   "metadata": {},
   "outputs": [],
   "source": []
  }
 ],
 "metadata": {
  "kernelspec": {
   "display_name": "Python 3 (ipykernel)",
   "language": "python",
   "name": "python3"
  },
  "language_info": {
   "codemirror_mode": {
    "name": "ipython",
    "version": 3
   },
   "file_extension": ".py",
   "mimetype": "text/x-python",
   "name": "python",
   "nbconvert_exporter": "python",
   "pygments_lexer": "ipython3",
   "version": "3.9.7"
  }
 },
 "nbformat": 4,
 "nbformat_minor": 5
}
