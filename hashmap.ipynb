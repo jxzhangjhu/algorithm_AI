{
 "cells": [
  {
   "cell_type": "code",
   "execution_count": 1,
   "id": "ce1da72b",
   "metadata": {},
   "outputs": [],
   "source": [
    "from collections import Counter\n",
    "\n",
    "s = 'abcrsdae'\n",
    "\n",
    "s2 = Counter(s)"
   ]
  },
  {
   "cell_type": "code",
   "execution_count": 2,
   "id": "c7671f6d",
   "metadata": {},
   "outputs": [
    {
     "data": {
      "text/plain": [
       "Counter({'a': 2, 'b': 1, 'c': 1, 'r': 1, 's': 1, 'd': 1, 'e': 1})"
      ]
     },
     "execution_count": 2,
     "metadata": {},
     "output_type": "execute_result"
    }
   ],
   "source": [
    "s2"
   ]
  },
  {
   "cell_type": "code",
   "execution_count": 3,
   "id": "7e5d5b0b",
   "metadata": {},
   "outputs": [
    {
     "data": {
      "text/plain": [
       "dict_keys(['a', 'b', 'c', 'r', 's', 'd', 'e'])"
      ]
     },
     "execution_count": 3,
     "metadata": {},
     "output_type": "execute_result"
    }
   ],
   "source": [
    "s2.keys()"
   ]
  },
  {
   "cell_type": "code",
   "execution_count": 4,
   "id": "558ac5fd",
   "metadata": {},
   "outputs": [
    {
     "data": {
      "text/plain": [
       "dict_values([2, 1, 1, 1, 1, 1, 1])"
      ]
     },
     "execution_count": 4,
     "metadata": {},
     "output_type": "execute_result"
    }
   ],
   "source": [
    "s2.values()"
   ]
  },
  {
   "cell_type": "code",
   "execution_count": 5,
   "id": "8aea4aaa",
   "metadata": {},
   "outputs": [],
   "source": [
    "s = 'AbcEF'\n",
    "s2 = Counter(s)"
   ]
  },
  {
   "cell_type": "code",
   "execution_count": 6,
   "id": "9e6b7c3b",
   "metadata": {},
   "outputs": [
    {
     "data": {
      "text/plain": [
       "Counter({'A': 1, 'b': 1, 'c': 1, 'E': 1, 'F': 1})"
      ]
     },
     "execution_count": 6,
     "metadata": {},
     "output_type": "execute_result"
    }
   ],
   "source": [
    "s2"
   ]
  },
  {
   "cell_type": "code",
   "execution_count": 7,
   "id": "8c07923a",
   "metadata": {},
   "outputs": [],
   "source": [
    "def validpalindrome(s):\n",
    "    n = len(s)\n",
    "    left, right = 0, n - 1\n",
    "    while left <= right:\n",
    "        if s[left] == s[right]:\n",
    "            left += 1\n",
    "            right -= 1\n",
    "        else:\n",
    "            return False\n",
    "    return True "
   ]
  },
  {
   "cell_type": "code",
   "execution_count": 10,
   "id": "1afbffb6",
   "metadata": {},
   "outputs": [],
   "source": [
    "s = 'abcbass'"
   ]
  },
  {
   "cell_type": "code",
   "execution_count": 11,
   "id": "871791a5",
   "metadata": {},
   "outputs": [
    {
     "data": {
      "text/plain": [
       "False"
      ]
     },
     "execution_count": 11,
     "metadata": {},
     "output_type": "execute_result"
    }
   ],
   "source": [
    "validpalindrome(s)"
   ]
  },
  {
   "cell_type": "code",
   "execution_count": 12,
   "id": "71b6b84b",
   "metadata": {},
   "outputs": [],
   "source": [
    "s1 = [\"foo\",\"bar\"] \n",
    "s11 = Counter(s1)"
   ]
  },
  {
   "cell_type": "code",
   "execution_count": 13,
   "id": "c1434447",
   "metadata": {},
   "outputs": [
    {
     "data": {
      "text/plain": [
       "Counter({'foo': 1, 'bar': 1})"
      ]
     },
     "execution_count": 13,
     "metadata": {},
     "output_type": "execute_result"
    }
   ],
   "source": [
    "s11"
   ]
  },
  {
   "cell_type": "code",
   "execution_count": null,
   "id": "ab2fb378",
   "metadata": {},
   "outputs": [],
   "source": []
  }
 ],
 "metadata": {
  "kernelspec": {
   "display_name": "Python 3 (ipykernel)",
   "language": "python",
   "name": "python3"
  },
  "language_info": {
   "codemirror_mode": {
    "name": "ipython",
    "version": 3
   },
   "file_extension": ".py",
   "mimetype": "text/x-python",
   "name": "python",
   "nbconvert_exporter": "python",
   "pygments_lexer": "ipython3",
   "version": "3.9.7"
  }
 },
 "nbformat": 4,
 "nbformat_minor": 5
}
