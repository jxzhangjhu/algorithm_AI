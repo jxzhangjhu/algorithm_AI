{
 "cells": [
  {
   "cell_type": "code",
   "execution_count": 8,
   "id": "673fc2e5",
   "metadata": {},
   "outputs": [
    {
     "name": "stdout",
     "output_type": "stream",
     "text": [
      "12\n",
      "1\n",
      "0\n",
      "3\n",
      "23\n",
      "123\n"
     ]
    }
   ],
   "source": [
    "# 就是对进位不了解或者不熟悉\n",
    "num = 123\n",
    "\n",
    "print(num // 10)  # 最高位 + 次高位\n",
    "print(num // 100) # 最高位\n",
    "print(num // 1000) # 0\n",
    "\n",
    "print(num % 10) # 个位\n",
    "print(num % 100) # 十位 + 个位\n",
    "print(num % 1000) # 百分位 + 十位 + 个位\n",
    "\n",
    "# output\n",
    "# 12\n",
    "# 1\n",
    "# 0\n",
    "# 3\n",
    "# 23\n",
    "# 123"
   ]
  },
  {
   "cell_type": "code",
   "execution_count": null,
   "id": "2536897d",
   "metadata": {},
   "outputs": [],
   "source": []
  }
 ],
 "metadata": {
  "kernelspec": {
   "display_name": "Python 3 (ipykernel)",
   "language": "python",
   "name": "python3"
  },
  "language_info": {
   "codemirror_mode": {
    "name": "ipython",
    "version": 3
   },
   "file_extension": ".py",
   "mimetype": "text/x-python",
   "name": "python",
   "nbconvert_exporter": "python",
   "pygments_lexer": "ipython3",
   "version": "3.9.7"
  }
 },
 "nbformat": 4,
 "nbformat_minor": 5
}
