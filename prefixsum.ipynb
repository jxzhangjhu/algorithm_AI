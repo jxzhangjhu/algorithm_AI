{
 "cells": [
  {
   "cell_type": "code",
   "execution_count": 15,
   "id": "bac227e4",
   "metadata": {},
   "outputs": [],
   "source": [
    "nums = [8,2,6,3,1]"
   ]
  },
  {
   "cell_type": "code",
   "execution_count": 16,
   "id": "056dc2f1",
   "metadata": {},
   "outputs": [
    {
     "data": {
      "text/plain": [
       "[8, -6, 4, -3, -2]"
      ]
     },
     "execution_count": 16,
     "metadata": {},
     "output_type": "execute_result"
    }
   ],
   "source": [
    "diff = [0]*len(nums)\n",
    "diff[0] = nums[0]\n",
    "for i in range(1, len(nums)):\n",
    "    diff[i] = nums[i] - nums[i-1]\n",
    "\n",
    "diff"
   ]
  },
  {
   "cell_type": "code",
   "execution_count": 17,
   "id": "ecab665c",
   "metadata": {},
   "outputs": [
    {
     "data": {
      "text/plain": [
       "[8, -3, 4, -3, -5]"
      ]
     },
     "execution_count": 17,
     "metadata": {},
     "output_type": "execute_result"
    }
   ],
   "source": [
    "diff[1] += 3\n",
    "diff[4] -= 3\n",
    "diff"
   ]
  },
  {
   "cell_type": "code",
   "execution_count": 18,
   "id": "cd8c3a2b",
   "metadata": {},
   "outputs": [
    {
     "name": "stdout",
     "output_type": "stream",
     "text": [
      "8\n",
      "5\n",
      "9\n",
      "6\n",
      "1\n"
     ]
    }
   ],
   "source": [
    "presum = 0 \n",
    "for num in diff:\n",
    "    presum += num\n",
    "    print(presum)"
   ]
  },
  {
   "cell_type": "code",
   "execution_count": null,
   "id": "d1270ab9",
   "metadata": {},
   "outputs": [],
   "source": []
  }
 ],
 "metadata": {
  "kernelspec": {
   "display_name": "Python 3 (ipykernel)",
   "language": "python",
   "name": "python3"
  },
  "language_info": {
   "codemirror_mode": {
    "name": "ipython",
    "version": 3
   },
   "file_extension": ".py",
   "mimetype": "text/x-python",
   "name": "python",
   "nbconvert_exporter": "python",
   "pygments_lexer": "ipython3",
   "version": "3.9.7"
  }
 },
 "nbformat": 4,
 "nbformat_minor": 5
}
