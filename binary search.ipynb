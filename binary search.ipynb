{
 "cells": [
  {
   "cell_type": "code",
   "execution_count": 16,
   "id": "eabf9d4a",
   "metadata": {},
   "outputs": [],
   "source": [
    "sweetness = [1,2,3,4,5,6,7,8,9]\n",
    "\n",
    "def sweetk(sweetness, target):\n",
    "            count = 0\n",
    "            need_k = 0 \n",
    "            for sweet in sweetness:\n",
    "                count += sweet \n",
    "                if count > target:\n",
    "                    need_k += 1\n",
    "                    count = 0\n",
    "                    \n",
    "            return need_k"
   ]
  },
  {
   "cell_type": "code",
   "execution_count": 17,
   "id": "bc1d0aa6",
   "metadata": {},
   "outputs": [
    {
     "name": "stdout",
     "output_type": "stream",
     "text": [
      "6\n"
     ]
    }
   ],
   "source": [
    "target = 6\n",
    "output = sweetk(sweetness, target)\n",
    "print(output)"
   ]
  },
  {
   "cell_type": "code",
   "execution_count": 12,
   "id": "2b28f4ec",
   "metadata": {},
   "outputs": [],
   "source": [
    "nums = [7,2,5,10,8]\n",
    "\n",
    "def help(nums, target):\n",
    "    sums, cnt = 0, 1 \n",
    "    for num in nums:\n",
    "        sums += num\n",
    "        if sums > target:\n",
    "            cnt += 1\n",
    "            sums = num\n",
    "    return cnt \n",
    "    "
   ]
  },
  {
   "cell_type": "code",
   "execution_count": 13,
   "id": "deed5ce1",
   "metadata": {},
   "outputs": [
    {
     "name": "stdout",
     "output_type": "stream",
     "text": [
      "2\n"
     ]
    }
   ],
   "source": [
    "target = 18\n",
    "output = help(nums, target)\n",
    "print(output)"
   ]
  },
  {
   "cell_type": "code",
   "execution_count": null,
   "id": "04ba2e71",
   "metadata": {},
   "outputs": [],
   "source": []
  }
 ],
 "metadata": {
  "kernelspec": {
   "display_name": "Python 3 (ipykernel)",
   "language": "python",
   "name": "python3"
  },
  "language_info": {
   "codemirror_mode": {
    "name": "ipython",
    "version": 3
   },
   "file_extension": ".py",
   "mimetype": "text/x-python",
   "name": "python",
   "nbconvert_exporter": "python",
   "pygments_lexer": "ipython3",
   "version": "3.9.7"
  }
 },
 "nbformat": 4,
 "nbformat_minor": 5
}
