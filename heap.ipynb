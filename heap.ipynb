{
 "cells": [
  {
   "cell_type": "code",
   "execution_count": 1,
   "id": "42dda9e4",
   "metadata": {},
   "outputs": [],
   "source": [
    "s = [1,2]"
   ]
  },
  {
   "cell_type": "code",
   "execution_count": 4,
   "id": "b2b7f2e4",
   "metadata": {},
   "outputs": [
    {
     "data": {
      "text/plain": [
       "[1, 2]"
      ]
     },
     "execution_count": 4,
     "metadata": {},
     "output_type": "execute_result"
    }
   ],
   "source": [
    "s"
   ]
  },
  {
   "cell_type": "code",
   "execution_count": 5,
   "id": "fb9ad60f",
   "metadata": {},
   "outputs": [
    {
     "data": {
      "text/plain": [
       "[]"
      ]
     },
     "execution_count": 5,
     "metadata": {},
     "output_type": "execute_result"
    }
   ],
   "source": [
    "-1*s"
   ]
  },
  {
   "cell_type": "code",
   "execution_count": 9,
   "id": "92a71789",
   "metadata": {},
   "outputs": [],
   "source": [
    "intervals = [[0,30],[5,10],[15,20],[1,2]]"
   ]
  },
  {
   "cell_type": "code",
   "execution_count": 10,
   "id": "08493751",
   "metadata": {},
   "outputs": [],
   "source": [
    "intervals.sort()"
   ]
  },
  {
   "cell_type": "code",
   "execution_count": 11,
   "id": "409482e7",
   "metadata": {},
   "outputs": [
    {
     "data": {
      "text/plain": [
       "[[0, 30], [1, 2], [5, 10], [15, 20]]"
      ]
     },
     "execution_count": 11,
     "metadata": {},
     "output_type": "execute_result"
    }
   ],
   "source": [
    "intervals"
   ]
  },
  {
   "cell_type": "code",
   "execution_count": 3,
   "id": "776ecece",
   "metadata": {},
   "outputs": [
    {
     "ename": "NameError",
     "evalue": "name 'normal_pq' is not defined",
     "output_type": "error",
     "traceback": [
      "\u001b[0;31m---------------------------------------------------------------------------\u001b[0m",
      "\u001b[0;31mNameError\u001b[0m                                 Traceback (most recent call last)",
      "\u001b[0;32m/var/folders/qp/zbmlljzd6m33mg4gt0zdfwjryvxfkf/T/ipykernel_15770/814503678.py\u001b[0m in \u001b[0;36m<module>\u001b[0;34m\u001b[0m\n\u001b[1;32m      3\u001b[0m \u001b[0;34m\u001b[0m\u001b[0m\n\u001b[1;32m      4\u001b[0m \u001b[0;31m# 12:00 来了一个普通的顾客（push）\u001b[0m\u001b[0;34m\u001b[0m\u001b[0;34m\u001b[0m\u001b[0m\n\u001b[0;32m----> 5\u001b[0;31m \u001b[0mheapq\u001b[0m\u001b[0;34m.\u001b[0m\u001b[0mheappush\u001b[0m\u001b[0;34m(\u001b[0m\u001b[0mnormal_pq\u001b[0m\u001b[0;34m,\u001b[0m \u001b[0;34m'12:00'\u001b[0m\u001b[0;34m)\u001b[0m\u001b[0;34m\u001b[0m\u001b[0;34m\u001b[0m\u001b[0m\n\u001b[0m\u001b[1;32m      6\u001b[0m \u001b[0;31m# 12:30 来了一个普通顾客（push）\u001b[0m\u001b[0;34m\u001b[0m\u001b[0;34m\u001b[0m\u001b[0m\n\u001b[1;32m      7\u001b[0m \u001b[0mheapq\u001b[0m\u001b[0;34m.\u001b[0m\u001b[0mheappush\u001b[0m\u001b[0;34m(\u001b[0m\u001b[0mnormal_pq\u001b[0m\u001b[0;34m,\u001b[0m \u001b[0;34m'12:30'\u001b[0m\u001b[0;34m)\u001b[0m\u001b[0;34m\u001b[0m\u001b[0;34m\u001b[0m\u001b[0m\n",
      "\u001b[0;31mNameError\u001b[0m: name 'normal_pq' is not defined"
     ]
    }
   ],
   "source": [
    "import heapq \n",
    "      \n",
    "# 12:00 来了一个普通的顾客（push）\n",
    "heapq.heappush(normal_pq, '12:00')\n",
    "# 12:30 来了一个普通顾客（push）\n",
    "heapq.heappush(normal_pq, '12:30')\n",
    "# 13:00 来了一个普通顾客（push）\n",
    "heapq.heappush(normal_pq, '13:00')\n",
    "# 插队（push）。时间复杂度可以达到 O(logN)。如何做到先不管，我们先会用就行，具体实现细节后面再讲。\n",
    "heapq.heappush(normal_pq, '12: 20')\n",
    "# 叫号（pop）。12:00 来的先被叫到。需要注意的是这里的弹出时间复杂度也变成了 O(logN)，这或许就是幸福的代价吧。\n",
    "heapq.heappop(normal_pq)"
   ]
  },
  {
   "cell_type": "code",
   "execution_count": 4,
   "id": "3422de23",
   "metadata": {},
   "outputs": [],
   "source": [
    "h = [(1,2),(2,1),(3,2),(1,3)]"
   ]
  },
  {
   "cell_type": "code",
   "execution_count": 15,
   "id": "4e6dec89",
   "metadata": {},
   "outputs": [],
   "source": [
    "import heapq\n",
    "heapq.heapify(h)"
   ]
  },
  {
   "cell_type": "code",
   "execution_count": 14,
   "id": "024fc819",
   "metadata": {},
   "outputs": [
    {
     "ename": "TypeError",
     "evalue": "_heapq.heappop() takes exactly one argument (0 given)",
     "output_type": "error",
     "traceback": [
      "\u001b[0;31m---------------------------------------------------------------------------\u001b[0m",
      "\u001b[0;31mTypeError\u001b[0m                                 Traceback (most recent call last)",
      "\u001b[0;32m/var/folders/qp/zbmlljzd6m33mg4gt0zdfwjryvxfkf/T/ipykernel_15770/3596608163.py\u001b[0m in \u001b[0;36m<module>\u001b[0;34m\u001b[0m\n\u001b[0;32m----> 1\u001b[0;31m \u001b[0mheapq\u001b[0m\u001b[0;34m.\u001b[0m\u001b[0mheappop\u001b[0m\u001b[0;34m(\u001b[0m\u001b[0;34m)\u001b[0m\u001b[0;34m\u001b[0m\u001b[0;34m\u001b[0m\u001b[0m\n\u001b[0m",
      "\u001b[0;31mTypeError\u001b[0m: _heapq.heappop() takes exactly one argument (0 given)"
     ]
    }
   ],
   "source": [
    "heapq.heappop()"
   ]
  },
  {
   "cell_type": "code",
   "execution_count": 17,
   "id": "4204e6cb",
   "metadata": {},
   "outputs": [
    {
     "ename": "TypeError",
     "evalue": "_heapq.heappop() takes exactly one argument (0 given)",
     "output_type": "error",
     "traceback": [
      "\u001b[0;31m---------------------------------------------------------------------------\u001b[0m",
      "\u001b[0;31mTypeError\u001b[0m                                 Traceback (most recent call last)",
      "\u001b[0;32m/var/folders/qp/zbmlljzd6m33mg4gt0zdfwjryvxfkf/T/ipykernel_15770/1205044516.py\u001b[0m in \u001b[0;36m<module>\u001b[0;34m\u001b[0m\n\u001b[1;32m      2\u001b[0m \u001b[0mheapq\u001b[0m\u001b[0;34m.\u001b[0m\u001b[0mheapify\u001b[0m\u001b[0;34m(\u001b[0m\u001b[0mh\u001b[0m\u001b[0;34m)\u001b[0m \u001b[0;31m# 堆化（小顶堆）\u001b[0m\u001b[0;34m\u001b[0m\u001b[0;34m\u001b[0m\u001b[0m\n\u001b[1;32m      3\u001b[0m \u001b[0;34m\u001b[0m\u001b[0m\n\u001b[0;32m----> 4\u001b[0;31m \u001b[0mheapq\u001b[0m\u001b[0;34m.\u001b[0m\u001b[0mheappop\u001b[0m\u001b[0;34m(\u001b[0m\u001b[0;34m)\u001b[0m \u001b[0;31m# 弹出 (1,2,3)\u001b[0m\u001b[0;34m\u001b[0m\u001b[0;34m\u001b[0m\u001b[0m\n\u001b[0m\u001b[1;32m      5\u001b[0m \u001b[0mheapq\u001b[0m\u001b[0;34m.\u001b[0m\u001b[0mheappop\u001b[0m\u001b[0;34m(\u001b[0m\u001b[0;34m)\u001b[0m \u001b[0;31m# 弹出 (2,1,3)\u001b[0m\u001b[0;34m\u001b[0m\u001b[0;34m\u001b[0m\u001b[0m\n\u001b[1;32m      6\u001b[0m \u001b[0mheapq\u001b[0m\u001b[0;34m.\u001b[0m\u001b[0mheappop\u001b[0m\u001b[0;34m(\u001b[0m\u001b[0;34m)\u001b[0m \u001b[0;31m# 弹出 (4,2,8)\u001b[0m\u001b[0;34m\u001b[0m\u001b[0;34m\u001b[0m\u001b[0m\n",
      "\u001b[0;31mTypeError\u001b[0m: _heapq.heappop() takes exactly one argument (0 given)"
     ]
    }
   ],
   "source": [
    "h = [(1,2,3), (4,5,6), (2,1,3),(4,2,8)]\n",
    "heapq.heapify(h) # 堆化（小顶堆）\n",
    "\n",
    "heapq.heappop() # 弹出 (1,2,3)\n",
    "heapq.heappop() # 弹出 (2,1,3)\n",
    "heapq.heappop() # 弹出 (4,2,8)\n",
    "heapq.heappop() # 弹出 (4,5,6)"
   ]
  },
  {
   "cell_type": "code",
   "execution_count": 19,
   "id": "d83dc69d",
   "metadata": {},
   "outputs": [],
   "source": [
    "h = []\n",
    "A = [1,2,3,4,5]\n",
    "for a in A:\n",
    "    heapq.heappush(h, -a)\n",
    "# -1 * heapq.heappop(h) # 5\n",
    "# -1 * heapq.heappop(h) # 4\n",
    "# -1 * heapq.heappop(h) # 3\n",
    "# -1 * heapq.heappop(h) # 2\n",
    "# -1 * heapq.heappop(h) # 1"
   ]
  },
  {
   "cell_type": "code",
   "execution_count": 20,
   "id": "2ce92da5",
   "metadata": {},
   "outputs": [
    {
     "data": {
      "text/plain": [
       "[-5, -4, -2, -1, -3]"
      ]
     },
     "execution_count": 20,
     "metadata": {},
     "output_type": "execute_result"
    }
   ],
   "source": [
    "h"
   ]
  },
  {
   "cell_type": "code",
   "execution_count": 21,
   "id": "7f4f74f9",
   "metadata": {},
   "outputs": [
    {
     "data": {
      "text/plain": [
       "5"
      ]
     },
     "execution_count": 21,
     "metadata": {},
     "output_type": "execute_result"
    }
   ],
   "source": [
    "-1 * heapq.heappop(h)"
   ]
  },
  {
   "cell_type": "code",
   "execution_count": 22,
   "id": "29a7b99d",
   "metadata": {},
   "outputs": [
    {
     "data": {
      "text/plain": [
       "[-4, -3, -2, -1]"
      ]
     },
     "execution_count": 22,
     "metadata": {},
     "output_type": "execute_result"
    }
   ],
   "source": [
    "h"
   ]
  },
  {
   "cell_type": "code",
   "execution_count": 27,
   "id": "b36e3ea1",
   "metadata": {},
   "outputs": [],
   "source": [
    "s = [5,6,7].extend([1,2,3,4])"
   ]
  },
  {
   "cell_type": "code",
   "execution_count": 29,
   "id": "cb1fc341",
   "metadata": {},
   "outputs": [
    {
     "name": "stdout",
     "output_type": "stream",
     "text": [
      "None\n"
     ]
    }
   ],
   "source": [
    "print(s)"
   ]
  },
  {
   "cell_type": "code",
   "execution_count": 30,
   "id": "2b2a057d",
   "metadata": {},
   "outputs": [
    {
     "name": "stdout",
     "output_type": "stream",
     "text": [
      "[5, 6, 7, 1, 2, 3, 4]\n"
     ]
    }
   ],
   "source": [
    "nums = [1,2,3,4,5,6,7]\n",
    "k = 3        \n",
    "n = len(nums)\n",
    "nums1 = nums[:n-k]\n",
    "nums2 = nums[n-k:]\n",
    "print(nums2+nums1)"
   ]
  },
  {
   "cell_type": "code",
   "execution_count": 31,
   "id": "c7388c8b",
   "metadata": {},
   "outputs": [
    {
     "ename": "TypeError",
     "evalue": "can only concatenate list (not \"int\") to list",
     "output_type": "error",
     "traceback": [
      "\u001b[0;31m---------------------------------------------------------------------------\u001b[0m",
      "\u001b[0;31mTypeError\u001b[0m                                 Traceback (most recent call last)",
      "\u001b[0;32m/var/folders/qp/zbmlljzd6m33mg4gt0zdfwjryvxfkf/T/ipykernel_15770/2703596034.py\u001b[0m in \u001b[0;36m<module>\u001b[0;34m\u001b[0m\n\u001b[0;32m----> 1\u001b[0;31m \u001b[0;34m[\u001b[0m\u001b[0;36m1\u001b[0m\u001b[0;34m,\u001b[0m\u001b[0;36m2\u001b[0m\u001b[0;34m,\u001b[0m\u001b[0;36m3\u001b[0m\u001b[0;34m]\u001b[0m \u001b[0;34m+\u001b[0m \u001b[0;36m4\u001b[0m\u001b[0;34m\u001b[0m\u001b[0;34m\u001b[0m\u001b[0m\n\u001b[0m",
      "\u001b[0;31mTypeError\u001b[0m: can only concatenate list (not \"int\") to list"
     ]
    }
   ],
   "source": [
    "[1,2,3] + 4"
   ]
  },
  {
   "cell_type": "code",
   "execution_count": null,
   "id": "49883dbe",
   "metadata": {},
   "outputs": [],
   "source": []
  }
 ],
 "metadata": {
  "kernelspec": {
   "display_name": "Python 3 (ipykernel)",
   "language": "python",
   "name": "python3"
  },
  "language_info": {
   "codemirror_mode": {
    "name": "ipython",
    "version": 3
   },
   "file_extension": ".py",
   "mimetype": "text/x-python",
   "name": "python",
   "nbconvert_exporter": "python",
   "pygments_lexer": "ipython3",
   "version": "3.9.7"
  }
 },
 "nbformat": 4,
 "nbformat_minor": 5
}
