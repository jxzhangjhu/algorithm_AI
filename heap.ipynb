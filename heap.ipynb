{
 "cells": [
  {
   "cell_type": "code",
   "execution_count": 1,
   "id": "42dda9e4",
   "metadata": {},
   "outputs": [],
   "source": [
    "s = [1,2]"
   ]
  },
  {
   "cell_type": "code",
   "execution_count": 4,
   "id": "b2b7f2e4",
   "metadata": {},
   "outputs": [
    {
     "data": {
      "text/plain": [
       "[1, 2]"
      ]
     },
     "execution_count": 4,
     "metadata": {},
     "output_type": "execute_result"
    }
   ],
   "source": [
    "s"
   ]
  },
  {
   "cell_type": "code",
   "execution_count": 5,
   "id": "fb9ad60f",
   "metadata": {},
   "outputs": [
    {
     "data": {
      "text/plain": [
       "[]"
      ]
     },
     "execution_count": 5,
     "metadata": {},
     "output_type": "execute_result"
    }
   ],
   "source": [
    "-1*s"
   ]
  },
  {
   "cell_type": "code",
   "execution_count": 9,
   "id": "92a71789",
   "metadata": {},
   "outputs": [],
   "source": [
    "intervals = [[0,30],[5,10],[15,20],[1,2]]"
   ]
  },
  {
   "cell_type": "code",
   "execution_count": 10,
   "id": "08493751",
   "metadata": {},
   "outputs": [],
   "source": [
    "intervals.sort()"
   ]
  },
  {
   "cell_type": "code",
   "execution_count": 11,
   "id": "409482e7",
   "metadata": {},
   "outputs": [
    {
     "data": {
      "text/plain": [
       "[[0, 30], [1, 2], [5, 10], [15, 20]]"
      ]
     },
     "execution_count": 11,
     "metadata": {},
     "output_type": "execute_result"
    }
   ],
   "source": [
    "intervals"
   ]
  },
  {
   "cell_type": "code",
   "execution_count": null,
   "id": "776ecece",
   "metadata": {},
   "outputs": [],
   "source": []
  }
 ],
 "metadata": {
  "kernelspec": {
   "display_name": "Python 3 (ipykernel)",
   "language": "python",
   "name": "python3"
  },
  "language_info": {
   "codemirror_mode": {
    "name": "ipython",
    "version": 3
   },
   "file_extension": ".py",
   "mimetype": "text/x-python",
   "name": "python",
   "nbconvert_exporter": "python",
   "pygments_lexer": "ipython3",
   "version": "3.9.7"
  }
 },
 "nbformat": 4,
 "nbformat_minor": 5
}
