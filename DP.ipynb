{
 "cells": [
  {
   "cell_type": "code",
   "execution_count": 2,
   "id": "00457014",
   "metadata": {},
   "outputs": [],
   "source": [
    "f = []\n",
    "\n",
    "f.append(0)\n",
    "f.append(1)"
   ]
  },
  {
   "cell_type": "code",
   "execution_count": 3,
   "id": "300ef76b",
   "metadata": {},
   "outputs": [
    {
     "data": {
      "text/plain": [
       "[0, 1]"
      ]
     },
     "execution_count": 3,
     "metadata": {},
     "output_type": "execute_result"
    }
   ],
   "source": [
    "f"
   ]
  },
  {
   "cell_type": "code",
   "execution_count": 4,
   "id": "5526ef0d",
   "metadata": {},
   "outputs": [
    {
     "ename": "IndexError",
     "evalue": "list index out of range",
     "output_type": "error",
     "traceback": [
      "\u001b[0;31m---------------------------------------------------------------------------\u001b[0m",
      "\u001b[0;31mIndexError\u001b[0m                                Traceback (most recent call last)",
      "\u001b[0;32m/var/folders/qp/zbmlljzd6m33mg4gt0zdfwjryvxfkf/T/ipykernel_47706/4098128295.py\u001b[0m in \u001b[0;36m<module>\u001b[0;34m\u001b[0m\n\u001b[0;32m----> 1\u001b[0;31m \u001b[0mf\u001b[0m\u001b[0;34m[\u001b[0m\u001b[0;36m2\u001b[0m\u001b[0;34m]\u001b[0m\u001b[0;34m\u001b[0m\u001b[0;34m\u001b[0m\u001b[0m\n\u001b[0m",
      "\u001b[0;31mIndexError\u001b[0m: list index out of range"
     ]
    }
   ],
   "source": [
    "f[2]"
   ]
  },
  {
   "cell_type": "code",
   "execution_count": 5,
   "id": "33ef3777",
   "metadata": {},
   "outputs": [
    {
     "data": {
      "text/plain": [
       "1"
      ]
     },
     "execution_count": 5,
     "metadata": {},
     "output_type": "execute_result"
    }
   ],
   "source": [
    "1 % 2"
   ]
  },
  {
   "cell_type": "code",
   "execution_count": 7,
   "id": "5efb6866",
   "metadata": {},
   "outputs": [],
   "source": [
    "n = 3\n",
    "m = 5\n",
    "dp = [[1 for i in range(n)] for j in range(m)]"
   ]
  },
  {
   "cell_type": "code",
   "execution_count": 8,
   "id": "b81fbfac",
   "metadata": {},
   "outputs": [
    {
     "data": {
      "text/plain": [
       "[[1, 1, 1], [1, 1, 1], [1, 1, 1], [1, 1, 1], [1, 1, 1]]"
      ]
     },
     "execution_count": 8,
     "metadata": {},
     "output_type": "execute_result"
    }
   ],
   "source": [
    "dp"
   ]
  },
  {
   "cell_type": "code",
   "execution_count": 9,
   "id": "5bf86831",
   "metadata": {},
   "outputs": [],
   "source": [
    "dp = [1 for i in range(3)]"
   ]
  },
  {
   "cell_type": "code",
   "execution_count": 10,
   "id": "6e52abaf",
   "metadata": {},
   "outputs": [
    {
     "data": {
      "text/plain": [
       "[1, 1, 1]"
      ]
     },
     "execution_count": 10,
     "metadata": {},
     "output_type": "execute_result"
    }
   ],
   "source": [
    "dp"
   ]
  },
  {
   "cell_type": "code",
   "execution_count": null,
   "id": "ac462d91",
   "metadata": {},
   "outputs": [],
   "source": []
  }
 ],
 "metadata": {
  "kernelspec": {
   "display_name": "Python 3 (ipykernel)",
   "language": "python",
   "name": "python3"
  },
  "language_info": {
   "codemirror_mode": {
    "name": "ipython",
    "version": 3
   },
   "file_extension": ".py",
   "mimetype": "text/x-python",
   "name": "python",
   "nbconvert_exporter": "python",
   "pygments_lexer": "ipython3",
   "version": "3.9.7"
  }
 },
 "nbformat": 4,
 "nbformat_minor": 5
}
