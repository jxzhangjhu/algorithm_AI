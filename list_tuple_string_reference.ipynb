{
 "cells": [
  {
   "cell_type": "markdown",
   "id": "2b6c4a84",
   "metadata": {},
   "source": [
    "# data structure \n",
    "\n",
    "core operation: CRUD \n",
    "    \n",
    "creat\n",
    "read\n",
    "update\n",
    "delete \n",
    "\n"
   ]
  },
  {
   "cell_type": "code",
   "execution_count": null,
   "id": "2471a7a5",
   "metadata": {},
   "outputs": [],
   "source": []
  },
  {
   "cell_type": "code",
   "execution_count": 1,
   "id": "efad93bf",
   "metadata": {},
   "outputs": [
    {
     "data": {
      "text/plain": [
       "[1, 2, 3, 4, 5, 'hello', 6, 7, 'abc']"
      ]
     },
     "execution_count": 1,
     "metadata": {},
     "output_type": "execute_result"
    }
   ],
   "source": [
    "# list \n",
    "\n",
    "list_1 = [1,2,3,4,5,'hello']\n",
    "list_2 = [6,7,'abc']\n",
    "\n",
    "# creat \n",
    "list_1 + list_2"
   ]
  },
  {
   "cell_type": "markdown",
   "id": "248f5afd",
   "metadata": {},
   "source": [
    "# Create operation"
   ]
  },
  {
   "cell_type": "code",
   "execution_count": 2,
   "id": "bd54a8d9",
   "metadata": {},
   "outputs": [
    {
     "data": {
      "text/plain": [
       "[1, 2, 3, 4, 5, 'hello', 1, 2, 3, 4, 5, 'hello']"
      ]
     },
     "execution_count": 2,
     "metadata": {},
     "output_type": "execute_result"
    }
   ],
   "source": [
    "list_1*2"
   ]
  },
  {
   "cell_type": "code",
   "execution_count": 3,
   "id": "ae6109bc",
   "metadata": {},
   "outputs": [],
   "source": [
    "list_1.append(list_2)"
   ]
  },
  {
   "cell_type": "code",
   "execution_count": 4,
   "id": "73610eca",
   "metadata": {},
   "outputs": [
    {
     "data": {
      "text/plain": [
       "[1, 2, 3, 4, 5, 'hello', [6, 7, 'abc']]"
      ]
     },
     "execution_count": 4,
     "metadata": {},
     "output_type": "execute_result"
    }
   ],
   "source": [
    "list_1"
   ]
  },
  {
   "cell_type": "code",
   "execution_count": 5,
   "id": "e6560d74",
   "metadata": {},
   "outputs": [],
   "source": [
    "list_1.insert(3,'zzz') # insert operation is to add something given a specific localication "
   ]
  },
  {
   "cell_type": "code",
   "execution_count": 6,
   "id": "19bc1255",
   "metadata": {},
   "outputs": [
    {
     "data": {
      "text/plain": [
       "[1, 2, 3, 'zzz', 4, 5, 'hello', [6, 7, 'abc']]"
      ]
     },
     "execution_count": 6,
     "metadata": {},
     "output_type": "execute_result"
    }
   ],
   "source": [
    "list_1"
   ]
  },
  {
   "cell_type": "code",
   "execution_count": 7,
   "id": "db0a86a1",
   "metadata": {},
   "outputs": [],
   "source": [
    "list_1.extend(list_2) # similar as append but different, modify list "
   ]
  },
  {
   "cell_type": "code",
   "execution_count": 8,
   "id": "2d383761",
   "metadata": {},
   "outputs": [
    {
     "data": {
      "text/plain": [
       "[1, 2, 3, 'zzz', 4, 5, 'hello', [6, 7, 'abc'], 6, 7, 'abc']"
      ]
     },
     "execution_count": 8,
     "metadata": {},
     "output_type": "execute_result"
    }
   ],
   "source": [
    "list_1"
   ]
  },
  {
   "cell_type": "markdown",
   "id": "944f874b",
   "metadata": {},
   "source": [
    "# Read operation "
   ]
  },
  {
   "cell_type": "code",
   "execution_count": 9,
   "id": "0d30cf7f",
   "metadata": {},
   "outputs": [],
   "source": [
    "# iteration - range(list) \n",
    "# slice [:3]"
   ]
  },
  {
   "cell_type": "markdown",
   "id": "16c9f27e",
   "metadata": {},
   "source": [
    "# Update operation"
   ]
  },
  {
   "cell_type": "code",
   "execution_count": 10,
   "id": "6e7101ca",
   "metadata": {},
   "outputs": [],
   "source": [
    "# 赋值操作，切片赋值"
   ]
  },
  {
   "cell_type": "markdown",
   "id": "35ab2229",
   "metadata": {},
   "source": [
    "# Delete operation"
   ]
  },
  {
   "cell_type": "code",
   "execution_count": 11,
   "id": "2bea5afb",
   "metadata": {},
   "outputs": [
    {
     "name": "stdout",
     "output_type": "stream",
     "text": [
      "[1, 2, 2, 3, 4, 5]\n",
      "[1, 2, 2, 3, 4]\n",
      "[2, 2, 3, 4]\n"
     ]
    }
   ],
   "source": [
    "# del - 删除指定位置的元素\n",
    "# del list_name[index]  # To delete single value\n",
    "# del list_name        # To delete whole list\n",
    "  \n",
    "# assign list\n",
    "numbers = [1, 2, 3, 2, 3, 4, 5]\n",
    "  \n",
    "# use del\n",
    "del numbers[2]\n",
    "  \n",
    "# display list\n",
    "print(numbers)\n",
    "  \n",
    "# use del\n",
    "del numbers[-1]\n",
    "  \n",
    "# display list\n",
    "print(numbers)\n",
    "  \n",
    "# use del\n",
    "del numbers[0]\n",
    "  \n",
    "# display list\n",
    "print(numbers)"
   ]
  },
  {
   "cell_type": "code",
   "execution_count": 12,
   "id": "f3a9ff03",
   "metadata": {},
   "outputs": [
    {
     "name": "stdout",
     "output_type": "stream",
     "text": [
      "[1, 2, 2, 3, 4, 5]\n",
      "[1, 2, 3, 4, 5]\n",
      "[1, 2, 3, 4]\n"
     ]
    }
   ],
   "source": [
    "# The remove() method removes the first matching value from the list.\n",
    "\n",
    "# program to demonstrate use of remove() method\n",
    "  \n",
    "# assign list\n",
    "numbers = [1, 2, 3, 2, 3, 4, 5]\n",
    "  \n",
    "# use remove()\n",
    "numbers.remove(3)\n",
    "  \n",
    "# display list\n",
    "print(numbers)\n",
    "  \n",
    "# use remove()\n",
    "numbers.remove(2)\n",
    "  \n",
    "# display list\n",
    "print(numbers)\n",
    "  \n",
    "# use remove()\n",
    "numbers.remove(5)\n",
    "  \n",
    "# display list\n",
    "print(numbers)"
   ]
  },
  {
   "cell_type": "code",
   "execution_count": 13,
   "id": "0e66745a",
   "metadata": {},
   "outputs": [
    {
     "name": "stdout",
     "output_type": "stream",
     "text": [
      "[1, 2, 3, 3, 4, 5]\n",
      "[1, 2, 3, 3, 4]\n",
      "[2, 3, 3, 4]\n"
     ]
    }
   ],
   "source": [
    "# pop() Method:\n",
    "# The pop() method like del deletes value at a particular index. But pop() method returns deleted value from the list.\n",
    "\n",
    "# Syntax:\n",
    "\n",
    "# list_name.pop(index)\n",
    "\n",
    "# program to demonstrate use of pop() method\n",
    "  \n",
    "# assign list\n",
    "numbers = [1, 2, 3, 2, 3, 4, 5]\n",
    "  \n",
    "# use remove()\n",
    "numbers.pop(3)\n",
    "  \n",
    "# display list\n",
    "print(numbers)\n",
    "  \n",
    "# use remove()\n",
    "numbers.pop(-1)\n",
    "  \n",
    "# display list\n",
    "print(numbers)\n",
    "  \n",
    "# use remove()\n",
    "numbers.pop(0)\n",
    "  \n",
    "# display list\n",
    "print(numbers)"
   ]
  },
  {
   "cell_type": "code",
   "execution_count": 14,
   "id": "922e4321",
   "metadata": {},
   "outputs": [],
   "source": [
    "# others\n",
    "# len, sort and reverse \n",
    "\n",
    "list3 = [1,6,3,2,9]\n",
    "list3.sort()\n",
    "\n"
   ]
  },
  {
   "cell_type": "code",
   "execution_count": 15,
   "id": "7ccb2582",
   "metadata": {},
   "outputs": [
    {
     "data": {
      "text/plain": [
       "[1, 2, 3, 6, 9]"
      ]
     },
     "execution_count": 15,
     "metadata": {},
     "output_type": "execute_result"
    }
   ],
   "source": [
    "list3"
   ]
  },
  {
   "cell_type": "code",
   "execution_count": 16,
   "id": "391bcd33",
   "metadata": {},
   "outputs": [],
   "source": [
    "list3.reverse()"
   ]
  },
  {
   "cell_type": "code",
   "execution_count": 17,
   "id": "3aa35c32",
   "metadata": {},
   "outputs": [
    {
     "data": {
      "text/plain": [
       "[9, 6, 3, 2, 1]"
      ]
     },
     "execution_count": 17,
     "metadata": {},
     "output_type": "execute_result"
    }
   ],
   "source": [
    "list3"
   ]
  },
  {
   "cell_type": "code",
   "execution_count": 18,
   "id": "3ac17998",
   "metadata": {},
   "outputs": [],
   "source": [
    "# tuple \n",
    "\n",
    "# 任何对象的有序集合， 可以任意类型，固定长度，元素不可变\n",
    "# tuple 里面可以是list \n",
    "\n",
    "tuple1 = (1,)\n"
   ]
  },
  {
   "cell_type": "code",
   "execution_count": 19,
   "id": "80afe4ec",
   "metadata": {},
   "outputs": [
    {
     "data": {
      "text/plain": [
       "(1,)"
      ]
     },
     "execution_count": 19,
     "metadata": {},
     "output_type": "execute_result"
    }
   ],
   "source": [
    "tuple1"
   ]
  },
  {
   "cell_type": "code",
   "execution_count": 20,
   "id": "422a5bbf",
   "metadata": {},
   "outputs": [],
   "source": [
    "tuple2 = (2)"
   ]
  },
  {
   "cell_type": "code",
   "execution_count": 21,
   "id": "1905ddac",
   "metadata": {},
   "outputs": [
    {
     "data": {
      "text/plain": [
       "2"
      ]
     },
     "execution_count": 21,
     "metadata": {},
     "output_type": "execute_result"
    }
   ],
   "source": [
    "tuple2"
   ]
  },
  {
   "cell_type": "code",
   "execution_count": 22,
   "id": "e0afdb0b",
   "metadata": {},
   "outputs": [
    {
     "data": {
      "text/plain": [
       "(1, 2, 3)"
      ]
     },
     "execution_count": 22,
     "metadata": {},
     "output_type": "execute_result"
    }
   ],
   "source": [
    "# tuple and list  相互转化\n",
    "\n",
    "s = [1,2,3]\n",
    "tuple(s)"
   ]
  },
  {
   "cell_type": "code",
   "execution_count": 23,
   "id": "990bb849",
   "metadata": {},
   "outputs": [
    {
     "data": {
      "text/plain": [
       "[1, 2, 3]"
      ]
     },
     "execution_count": 23,
     "metadata": {},
     "output_type": "execute_result"
    }
   ],
   "source": [
    "list((1,2,3))"
   ]
  },
  {
   "cell_type": "markdown",
   "id": "bb3e0bef",
   "metadata": {},
   "source": [
    "# string "
   ]
  },
  {
   "cell_type": "code",
   "execution_count": 24,
   "id": "9c55721a",
   "metadata": {},
   "outputs": [
    {
     "data": {
      "text/plain": [
       "'\\n'"
      ]
     },
     "execution_count": 24,
     "metadata": {},
     "output_type": "execute_result"
    }
   ],
   "source": [
    "#  转义字符 \n",
    "'\\n'"
   ]
  },
  {
   "cell_type": "code",
   "execution_count": 29,
   "id": "7ed2a131",
   "metadata": {},
   "outputs": [
    {
     "name": "stdout",
     "output_type": "stream",
     "text": [
      "a,\n",
      " b,\n",
      " c\n"
     ]
    }
   ],
   "source": [
    "print('a,\\n b,\\n c')"
   ]
  },
  {
   "cell_type": "code",
   "execution_count": 30,
   "id": "e8172729",
   "metadata": {},
   "outputs": [
    {
     "data": {
      "text/plain": [
       "97"
      ]
     },
     "execution_count": 30,
     "metadata": {},
     "output_type": "execute_result"
    }
   ],
   "source": [
    "# 字符的存储都是整数的形式\n",
    "ord('a')"
   ]
  },
  {
   "cell_type": "code",
   "execution_count": 32,
   "id": "ce823e50",
   "metadata": {},
   "outputs": [
    {
     "data": {
      "text/plain": [
       "'a'"
      ]
     },
     "execution_count": 32,
     "metadata": {},
     "output_type": "execute_result"
    }
   ],
   "source": [
    "chr(97)"
   ]
  },
  {
   "cell_type": "code",
   "execution_count": 33,
   "id": "9e765bec",
   "metadata": {},
   "outputs": [],
   "source": [
    "# 字符串是固定长度，不可变，immutable \n",
    "# 常见操作 CURD\n",
    "\n",
    "s = 'abc' + 'deg'"
   ]
  },
  {
   "cell_type": "code",
   "execution_count": 34,
   "id": "b83192bc",
   "metadata": {},
   "outputs": [
    {
     "data": {
      "text/plain": [
       "'abcdeg'"
      ]
     },
     "execution_count": 34,
     "metadata": {},
     "output_type": "execute_result"
    }
   ],
   "source": [
    "s"
   ]
  },
  {
   "cell_type": "code",
   "execution_count": 36,
   "id": "7a1971ef",
   "metadata": {},
   "outputs": [
    {
     "data": {
      "text/plain": [
       "'abcdegabcdegabcdeg'"
      ]
     },
     "execution_count": 36,
     "metadata": {},
     "output_type": "execute_result"
    }
   ],
   "source": [
    "s*3"
   ]
  },
  {
   "cell_type": "code",
   "execution_count": 37,
   "id": "a0e5e7f2",
   "metadata": {},
   "outputs": [
    {
     "data": {
      "text/plain": [
       "0"
      ]
     },
     "execution_count": 37,
     "metadata": {},
     "output_type": "execute_result"
    }
   ],
   "source": [
    "s.find('a')"
   ]
  },
  {
   "cell_type": "code",
   "execution_count": 38,
   "id": "b21e95b3",
   "metadata": {},
   "outputs": [
    {
     "data": {
      "text/plain": [
       "1"
      ]
     },
     "execution_count": 38,
     "metadata": {},
     "output_type": "execute_result"
    }
   ],
   "source": [
    "s.find('b')"
   ]
  },
  {
   "cell_type": "code",
   "execution_count": 41,
   "id": "622f3a29",
   "metadata": {},
   "outputs": [
    {
     "data": {
      "text/plain": [
       "'zbcdeg'"
      ]
     },
     "execution_count": 41,
     "metadata": {},
     "output_type": "execute_result"
    }
   ],
   "source": [
    "s.replace('a','z')"
   ]
  },
  {
   "cell_type": "code",
   "execution_count": 42,
   "id": "93c949fa",
   "metadata": {},
   "outputs": [],
   "source": [
    "ss = 'abcabc'"
   ]
  },
  {
   "cell_type": "code",
   "execution_count": 43,
   "id": "746c61c4",
   "metadata": {},
   "outputs": [
    {
     "data": {
      "text/plain": [
       "'abcabc'"
      ]
     },
     "execution_count": 43,
     "metadata": {},
     "output_type": "execute_result"
    }
   ],
   "source": [
    "ss"
   ]
  },
  {
   "cell_type": "code",
   "execution_count": 44,
   "id": "7db758cc",
   "metadata": {},
   "outputs": [
    {
     "data": {
      "text/plain": [
       "'zbczbc'"
      ]
     },
     "execution_count": 44,
     "metadata": {},
     "output_type": "execute_result"
    }
   ],
   "source": [
    "ss.replace('a','z')"
   ]
  },
  {
   "cell_type": "code",
   "execution_count": 45,
   "id": "d0c14639",
   "metadata": {},
   "outputs": [
    {
     "data": {
      "text/plain": [
       "6"
      ]
     },
     "execution_count": 45,
     "metadata": {},
     "output_type": "execute_result"
    }
   ],
   "source": [
    "len(ss)"
   ]
  },
  {
   "cell_type": "code",
   "execution_count": 49,
   "id": "b45386ba",
   "metadata": {},
   "outputs": [
    {
     "data": {
      "text/plain": [
       "'c'"
      ]
     },
     "execution_count": 49,
     "metadata": {},
     "output_type": "execute_result"
    }
   ],
   "source": [
    "ss[-1]"
   ]
  },
  {
   "cell_type": "code",
   "execution_count": null,
   "id": "8474ca4e",
   "metadata": {},
   "outputs": [],
   "source": [
    "# "
   ]
  }
 ],
 "metadata": {
  "kernelspec": {
   "display_name": "Python 3 (ipykernel)",
   "language": "python",
   "name": "python3"
  },
  "language_info": {
   "codemirror_mode": {
    "name": "ipython",
    "version": 3
   },
   "file_extension": ".py",
   "mimetype": "text/x-python",
   "name": "python",
   "nbconvert_exporter": "python",
   "pygments_lexer": "ipython3",
   "version": "3.9.7"
  }
 },
 "nbformat": 4,
 "nbformat_minor": 5
}
